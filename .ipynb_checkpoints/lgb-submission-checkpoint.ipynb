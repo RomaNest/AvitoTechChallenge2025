{
 "cells": [
  {
   "cell_type": "code",
   "execution_count": 1,
   "id": "ebab1d5b-94e8-4c4e-915d-ea2a048343d4",
   "metadata": {},
   "outputs": [],
   "source": [
    "%load_ext autoreload\n",
    "%autoreload 2"
   ]
  },
  {
   "cell_type": "code",
   "execution_count": 2,
   "id": "f7d1b8e6-6938-47d7-8a34-e6c06336c570",
   "metadata": {},
   "outputs": [],
   "source": [
    "import numpy as np\n",
    "import matplotlib.pyplot as plt\n",
    "import seaborn as sns\n",
    "from datetime import timedelta\n",
    "import polars as pl\n",
    "import implicit\n",
    "import lightgbm as lgb\n",
    "from itertools import groupby\n",
    "from pathlib import Path\n",
    "\n",
    "from utils import create_features, recall_at, fit_lgb_ranker, fit_catboost_ranker\n",
    "from constants import FILES, ORDER, read_any"
   ]
  },
  {
   "cell_type": "code",
   "execution_count": 3,
   "id": "229ed1a0-fe0c-43e6-b8ec-615e4692cdb8",
   "metadata": {},
   "outputs": [],
   "source": [
    "DATA_DIR = 'retrieval_data/'\n",
    "SUBSAMPLE = 0.01"
   ]
  },
  {
   "cell_type": "code",
   "execution_count": 4,
   "id": "b9fbaea3-b509-4a7c-9dc4-acdbd57ff2b2",
   "metadata": {},
   "outputs": [],
   "source": [
    "df_test_users = pl.read_parquet(f'test_users.pq')\n",
    "df_clickstream = pl.read_parquet(f'clickstream.pq')\n",
    "\n",
    "df_cat_features = pl.read_parquet(f'cat_features.pq')\n",
    "df_text_features = pl.read_parquet(f'text_features.pq')\n",
    "df_event = pl.read_parquet(f'events.pq')"
   ]
  },
  {
   "cell_type": "code",
   "execution_count": 5,
   "id": "34ac479d-fbfc-4838-8d82-eb11e12f3356",
   "metadata": {},
   "outputs": [],
   "source": [
    "df_clickstream = df_clickstream.join(df_event, on='event', how='left')\n",
    "df_clickstream = df_clickstream.join(df_cat_features, on='item', how='left')"
   ]
  },
  {
   "cell_type": "code",
   "execution_count": 6,
   "id": "43d9b26d-6f60-47de-9462-5c23b7e5cfa7",
   "metadata": {},
   "outputs": [],
   "source": [
    "def prepare_df_event_target(df_clickstream, threshold):\n",
    "    treshold_train = df_clickstream['event_date'].max() - timedelta(days=threshold)\n",
    "    df_events_train = df_clickstream.filter(df_clickstream['event_date']<= treshold_train)\n",
    "    df_targets_train = df_clickstream.filter(\n",
    "        (df_clickstream['event_date']> treshold_train) & (df_clickstream['event_date'] < treshold_train + timedelta(days=14))\n",
    "    )[['cookie', 'node', 'event']]\n",
    "    df_targets_train = df_targets_train.join(df_events_train, on=['cookie', 'node'], how='anti')\n",
    "\n",
    "    df_targets_train = (\n",
    "        df_targets_train\n",
    "        .filter(\n",
    "            pl.col('event').is_in(\n",
    "                df_event.filter(pl.col('is_contact') == 1)['event'].unique()\n",
    "            )\n",
    "        )\n",
    "        .with_columns(pl.lit(1).alias(\"target\"))\n",
    "        .filter(pl.col('cookie').is_in(df_events_train['cookie'].unique()))\n",
    "        .filter(pl.col('node').is_in(df_events_train['node'].unique()))\n",
    "        .unique(['cookie', 'node'])\n",
    "    )\n",
    "    return df_events_train, df_targets_train"
   ]
  },
  {
   "cell_type": "code",
   "execution_count": 7,
   "id": "765c7ab1-a784-44d7-885f-46bffccf86ed",
   "metadata": {},
   "outputs": [],
   "source": [
    "df_events_14, df_targets_14 = prepare_df_event_target(df_clickstream, 14)\n",
    "df_events_28, df_targets_28 = prepare_df_event_target(df_clickstream, 28)"
   ]
  },
  {
   "cell_type": "code",
   "execution_count": 8,
   "id": "4d4c78e4-199b-4340-92cb-5c1027645a11",
   "metadata": {},
   "outputs": [],
   "source": [
    "# als_all_14 = pl.read_csv(f'{DATA_DIR}/14d-back-als-all.csv')\n",
    "# als_contact_14 = pl.read_csv(f'{DATA_DIR}/14d-back-als-contact.csv')\n",
    "# als_user_emb_14 = pl.read_parquet(f'{DATA_DIR}/als_user_emb_14d.pq')\n",
    "# als_item_emb_14 = pl.read_parquet(f'{DATA_DIR}/als_item_emb_14d.pq')\n",
    "# als_17_user_emb_14 = pl.read_parquet(f'{DATA_DIR}/als_17_user_emb_14d.pq')\n",
    "# als_17_item_emb_14 = pl.read_parquet(f'{DATA_DIR}/als_17_item_emb_14d.pq')\n",
    "# i2i_seq_all_14 = pl.read_parquet(f'{DATA_DIR}/i2i_17_14d.pq')\n",
    "# i2i_seq_contact_14 = pl.read_parquet(f'{DATA_DIR}/i2i_11_14d.pq')\n",
    "# i2i_df_14 = pl.read_parquet(f'{DATA_DIR}/i2i_14d.pq')\n",
    "\n",
    "# avg_text_node_14 = pl.read_parquet(f'{DATA_DIR}/avg_text_node_14d.parquet')\n",
    "# avg_text_cookie_14 = pl.read_parquet(f'{DATA_DIR}/cluster_text_cookie_14d.parquet')\n",
    "# last_text_cookie_14 = pl.read_parquet(f'{DATA_DIR}/last_item_text_cookie_14d.parquet')\n",
    "# topk_avg_text_cookie_14 = pl.read_csv(f'{DATA_DIR}/cluster_text_pred_14d.csv')\n",
    "# topk_last_text_cookie_14 = pl.read_csv(f'{DATA_DIR}/last_item_text_pred_14d.csv')\n",
    "# graph_pred_14 = pl.read_parquet(f'{DATA_DIR}/top300_graph_emb_14d.pq')\n",
    "# graph_item_emb_14 = pl.read_parquet(f'{DATA_DIR}/item_graph_emb_14d.pq')\n",
    "# graph_user_emb_14 = pl.read_parquet(f'{DATA_DIR}/user_graph_emb_14d.pq')\n",
    "# tag_cosine_14 = pl.read_parquet(f'{DATA_DIR}/top300_tag_cosine1_14d.pq')\n",
    "# tag_emb_cookie_14 = pl.read_parquet(f'{DATA_DIR}/tag_cosine_cookie_14d.pq')\n",
    "# tag_emb_node_14 = pl.read_parquet(f'{DATA_DIR}/tag_cosine_node_14d.pq')\n",
    "# transformer_14 = pl.read_parquet(f'{DATA_DIR}/transformer2_14d.parquet')"
   ]
  },
  {
   "cell_type": "code",
   "execution_count": 9,
   "id": "181525c5-99bc-480c-befa-d0860504a3ed",
   "metadata": {},
   "outputs": [],
   "source": [
    "# als_all_28 = pl.read_csv(f'{DATA_DIR}/28d-back-als-all.csv')\n",
    "# als_contact_28 = pl.read_csv(f'{DATA_DIR}/28d-back-als-contact.csv')\n",
    "# als_user_emb_28 = pl.read_parquet(f'{DATA_DIR}/als_user_emb_28d.pq')\n",
    "# als_item_emb_28 = pl.read_parquet(f'{DATA_DIR}/als_item_emb_28d.pq')\n",
    "# als_17_user_emb_28 = pl.read_parquet(f'{DATA_DIR}/als_17_user_emb_28d.pq')\n",
    "# als_17_item_emb_28 = pl.read_parquet(f'{DATA_DIR}/als_17_item_emb_28d.pq')\n",
    "# i2i_seq_all_28 = pl.read_parquet(f'{DATA_DIR}/i2i_17_28d.pq')\n",
    "# i2i_seq_contact_28 = pl.read_parquet(f'{DATA_DIR}/i2i_11_28d.pq')\n",
    "# i2i_df_28 = pl.read_parquet(f'{DATA_DIR}/i2i_28d.pq')\n",
    "\n",
    "# avg_text_node_28 = pl.read_parquet(f'{DATA_DIR}/avg_text_node_28d.parquet')\n",
    "# avg_text_cookie_28 = pl.read_parquet(f'{DATA_DIR}/cluster_text_cookie_28d.parquet')\n",
    "# last_text_cookie_28 = pl.read_parquet(f'{DATA_DIR}/last_item_text_cookie_28d.parquet')\n",
    "# topk_avg_text_cookie_28 = pl.read_csv(f'{DATA_DIR}/cluster_text_pred_28d.csv')\n",
    "# topk_last_text_cookie_28 = pl.read_csv(f'{DATA_DIR}/last_item_text_pred_28d.csv')\n",
    "# graph_pred_28 = pl.read_parquet(f'{DATA_DIR}/top300_graph_emb_28d.pq')\n",
    "# graph_item_emb_28 = pl.read_parquet(f'{DATA_DIR}/item_graph_emb_28d.pq')\n",
    "# graph_user_emb_28 = pl.read_parquet(f'{DATA_DIR}/user_graph_emb_28d.pq')\n",
    "# tag_cosine_28 = pl.read_parquet(f'{DATA_DIR}/top300_tag_cosine1_28d.pq')\n",
    "# tag_emb_cookie_28 = pl.read_parquet(f'{DATA_DIR}/tag_cosine_cookie_28d.pq')\n",
    "# tag_emb_node_28 = pl.read_parquet(f'{DATA_DIR}/tag_cosine_node_28d.pq')\n",
    "# transformer_28 = pl.read_parquet(f'{DATA_DIR}/transformer2_28d.parquet')"
   ]
  },
  {
   "cell_type": "code",
   "execution_count": 10,
   "id": "33c836ac-ad7b-4d1d-a390-be6f3ca433fd",
   "metadata": {},
   "outputs": [],
   "source": [
    "target = 'target'\n",
    "group_column = 'cookie'"
   ]
  },
  {
   "cell_type": "code",
   "execution_count": 11,
   "id": "fbebe018-9758-41a7-9e9c-e86fe81d7cfb",
   "metadata": {},
   "outputs": [
    {
     "name": "stdout",
     "output_type": "stream",
     "text": [
      "df built, retrieved 88502 items from 156112 overall, 0.5669134980014349% coverage\n"
     ]
    }
   ],
   "source": [
    "DAYS = '14'\n",
    "dfs = {\n",
    "    key: read_any(Path(DATA_DIR) / tpl.format(d=DAYS))\n",
    "    for key, tpl in FILES.items()\n",
    "}\n",
    "\n",
    "feature_args = [dfs[name] for name in ORDER]\n",
    "\n",
    "df_14 = create_features(\n",
    "    df_events_14,\n",
    "    df_targets_14,\n",
    "    *feature_args,\n",
    "    subsample=SUBSAMPLE\n",
    ")"
   ]
  },
  {
   "cell_type": "code",
   "execution_count": 12,
   "id": "42b83b98-d0fd-4e43-a7fa-7f5102f54097",
   "metadata": {},
   "outputs": [
    {
     "data": {
      "text/html": [
       "<div><style>\n",
       ".dataframe > thead > tr,\n",
       ".dataframe > tbody > tr {\n",
       "  text-align: right;\n",
       "  white-space: pre-wrap;\n",
       "}\n",
       "</style>\n",
       "<small>shape: (893_341, 40)</small><table border=\"1\" class=\"dataframe\"><thead><tr><th>node</th><th>cookie</th><th>als-all</th><th>als-17</th><th>rank_category</th><th>rank_location</th><th>count_all_pop</th><th>count_contact</th><th>i2i_11_score</th><th>i2i_11_score_right</th><th>rank</th><th>rank_last_item</th><th>rank_right</th><th>i2i_score</th><th>tag_score</th><th>proba</th><th>count_all</th><th>contact_all</th><th>contact_ratio</th><th>user_location</th><th>user_category</th><th>num_contacts</th><th>num_events</th><th>surface_unique_counts</th><th>location_unique_counts</th><th>count_location</th><th>count_category</th><th>event</th><th>target</th><th>dot_centroid</th><th>dot_last_item</th><th>dot_als</th><th>dot_als_17</th><th>dot_graph</th><th>last_node</th><th>avg_node</th><th>last_node_diff</th><th>avg_node_diff</th><th>last_contact_node</th><th>last_contact_node_diff</th></tr><tr><td>i64</td><td>i64</td><td>f64</td><td>f64</td><td>f64</td><td>f64</td><td>f64</td><td>f64</td><td>f64</td><td>f64</td><td>f64</td><td>f64</td><td>f64</td><td>f64</td><td>f64</td><td>f64</td><td>f64</td><td>f64</td><td>f64</td><td>i64</td><td>i64</td><td>f64</td><td>f64</td><td>f64</td><td>f64</td><td>f64</td><td>f64</td><td>i64</td><td>i32</td><td>f32</td><td>f32</td><td>f32</td><td>f32</td><td>f32</td><td>u32</td><td>f64</td><td>i64</td><td>f64</td><td>u32</td><td>i64</td></tr></thead><tbody><tr><td>130821</td><td>80407</td><td>null</td><td>null</td><td>null</td><td>null</td><td>null</td><td>null</td><td>null</td><td>null</td><td>null</td><td>null</td><td>null</td><td>0.133383</td><td>null</td><td>null</td><td>0.10237</td><td>0.104047</td><td>0.125627</td><td>2551</td><td>19</td><td>0.104772</td><td>0.103428</td><td>0.516667</td><td>0.112184</td><td>0.1</td><td>null</td><td>null</td><td>0</td><td>9.011393</td><td>11.210859</td><td>0.024172</td><td>-0.002015</td><td>0.219741</td><td>116995</td><td>116823.85</td><td>13826</td><td>13997.15</td><td>116986</td><td>13835</td></tr><tr><td>156363</td><td>69287</td><td>null</td><td>null</td><td>null</td><td>null</td><td>null</td><td>null</td><td>null</td><td>null</td><td>0.692965</td><td>null</td><td>null</td><td>null</td><td>null</td><td>null</td><td>0.100389</td><td>0.100819</td><td>0.131569</td><td>4283</td><td>19</td><td>0.102651</td><td>0.103254</td><td>0.433333</td><td>0.110309</td><td>0.100019</td><td>null</td><td>null</td><td>0</td><td>12.028119</td><td>13.208828</td><td>0.002818</td><td>-0.000888</td><td>0.015816</td><td>116123</td><td>110769.157895</td><td>40240</td><td>45593.842105</td><td>116123</td><td>40240</td></tr><tr><td>255802</td><td>104572</td><td>null</td><td>null</td><td>null</td><td>null</td><td>null</td><td>null</td><td>null</td><td>null</td><td>null</td><td>null</td><td>null</td><td>null</td><td>0.713323</td><td>null</td><td>0.100013</td><td>0.1</td><td>0.1</td><td>2348</td><td>51</td><td>0.109014</td><td>0.215856</td><td>0.6</td><td>0.277132</td><td>0.100061</td><td>0.100013</td><td>null</td><td>0</td><td>null</td><td>null</td><td>0.005256</td><td>null</td><td>null</td><td>152109</td><td>199099.388471</td><td>103693</td><td>56702.611529</td><td>142970</td><td>112832</td></tr><tr><td>155668</td><td>100250</td><td>0.178002</td><td>0.119847</td><td>null</td><td>null</td><td>null</td><td>null</td><td>null</td><td>null</td><td>null</td><td>null</td><td>null</td><td>null</td><td>null</td><td>null</td><td>0.10201</td><td>0.106415</td><td>0.147898</td><td>2348</td><td>28</td><td>0.108484</td><td>0.149503</td><td>0.433333</td><td>0.186223</td><td>0.102976</td><td>null</td><td>null</td><td>0</td><td>10.67544</td><td>7.112644</td><td>0.262669</td><td>0.035907</td><td>0.170702</td><td>6489</td><td>99746.460727</td><td>149179</td><td>55921.539273</td><td>310791</td><td>155123</td></tr><tr><td>173381</td><td>145048</td><td>null</td><td>null</td><td>null</td><td>null</td><td>null</td><td>null</td><td>null</td><td>null</td><td>null</td><td>null</td><td>null</td><td>null</td><td>0.681536</td><td>null</td><td>0.100078</td><td>0.100114</td><td>0.121787</td><td>166</td><td>49</td><td>0.119618</td><td>0.169258</td><td>0.516667</td><td>0.263074</td><td>null</td><td>null</td><td>null</td><td>0</td><td>9.388408</td><td>9.195368</td><td>0.096364</td><td>0.000637</td><td>null</td><td>130594</td><td>135599.307628</td><td>42787</td><td>37781.692372</td><td>106480</td><td>66901</td></tr><tr><td>&hellip;</td><td>&hellip;</td><td>&hellip;</td><td>&hellip;</td><td>&hellip;</td><td>&hellip;</td><td>&hellip;</td><td>&hellip;</td><td>&hellip;</td><td>&hellip;</td><td>&hellip;</td><td>&hellip;</td><td>&hellip;</td><td>&hellip;</td><td>&hellip;</td><td>&hellip;</td><td>&hellip;</td><td>&hellip;</td><td>&hellip;</td><td>&hellip;</td><td>&hellip;</td><td>&hellip;</td><td>&hellip;</td><td>&hellip;</td><td>&hellip;</td><td>&hellip;</td><td>&hellip;</td><td>&hellip;</td><td>&hellip;</td><td>&hellip;</td><td>&hellip;</td><td>&hellip;</td><td>&hellip;</td><td>&hellip;</td><td>&hellip;</td><td>&hellip;</td><td>&hellip;</td><td>&hellip;</td><td>&hellip;</td><td>&hellip;</td></tr><tr><td>214224</td><td>45427</td><td>null</td><td>null</td><td>null</td><td>null</td><td>null</td><td>null</td><td>null</td><td>null</td><td>null</td><td>null</td><td>null</td><td>null</td><td>null</td><td>0.103807</td><td>0.102963</td><td>0.119791</td><td>0.200229</td><td>7530</td><td>57</td><td>0.10106</td><td>0.102324</td><td>0.183333</td><td>0.104686</td><td>0.100028</td><td>null</td><td>5</td><td>1</td><td>10.56519</td><td>9.353305</td><td>0.008017</td><td>0.001134</td><td>0.64473</td><td>199251</td><td>191278.682927</td><td>14973</td><td>22945.317073</td><td>199251</td><td>14973</td></tr><tr><td>199254</td><td>48499</td><td>null</td><td>null</td><td>null</td><td>null</td><td>null</td><td>null</td><td>null</td><td>null</td><td>null</td><td>null</td><td>null</td><td>null</td><td>null</td><td>0.101409</td><td>0.106502</td><td>0.123831</td><td>0.155009</td><td>4283</td><td>32</td><td>0.103712</td><td>0.123531</td><td>0.433333</td><td>0.159981</td><td>0.100604</td><td>null</td><td>4</td><td>1</td><td>9.631543</td><td>10.54518</td><td>0.015623</td><td>-0.032867</td><td>0.288628</td><td>114229</td><td>137062.783251</td><td>85025</td><td>62191.216749</td><td>171356</td><td>27898</td></tr><tr><td>196488</td><td>21280</td><td>null</td><td>null</td><td>null</td><td>null</td><td>null</td><td>null</td><td>null</td><td>null</td><td>null</td><td>null</td><td>null</td><td>null</td><td>null</td><td>0.102498</td><td>0.101203</td><td>0.105988</td><td>0.174692</td><td>6858</td><td>12</td><td>0.10106</td><td>0.103196</td><td>0.183333</td><td>0.124367</td><td>0.100011</td><td>null</td><td>4</td><td>1</td><td>8.520979</td><td>9.908524</td><td>-0.005833</td><td>0.000133</td><td>0.059938</td><td>153748</td><td>153541.303571</td><td>42740</td><td>42946.696429</td><td>342310</td><td>145822</td></tr><tr><td>196646</td><td>94030</td><td>null</td><td>null</td><td>null</td><td>null</td><td>null</td><td>null</td><td>null</td><td>null</td><td>null</td><td>null</td><td>null</td><td>null</td><td>null</td><td>0.101697</td><td>0.101944</td><td>0.107063</td><td>0.154531</td><td>6793</td><td>49</td><td>0.12386</td><td>0.117256</td><td>0.433333</td><td>0.135614</td><td>null</td><td>null</td><td>19</td><td>1</td><td>11.538765</td><td>9.56947</td><td>0.043247</td><td>0.011346</td><td>-0.128491</td><td>97686</td><td>104983.932886</td><td>98960</td><td>91662.067114</td><td>97686</td><td>98960</td></tr><tr><td>214324</td><td>53483</td><td>null</td><td>null</td><td>null</td><td>null</td><td>null</td><td>null</td><td>null</td><td>null</td><td>null</td><td>null</td><td>null</td><td>null</td><td>null</td><td>0.106423</td><td>0.102649</td><td>0.107573</td><td>0.142912</td><td>2348</td><td>51</td><td>0.101591</td><td>0.105636</td><td>0.35</td><td>0.134677</td><td>0.100363</td><td>null</td><td>10</td><td>1</td><td>10.549453</td><td>10.389777</td><td>0.014641</td><td>-0.012277</td><td>0.199496</td><td>256925</td><td>210953.581633</td><td>42601</td><td>3370.418367</td><td>230737</td><td>16413</td></tr></tbody></table></div>"
      ],
      "text/plain": [
       "shape: (893_341, 40)\n",
       "┌────────┬────────┬──────────┬──────────┬───┬─────────────┬─────────────┬─────────────┬────────────┐\n",
       "│ node   ┆ cookie ┆ als-all  ┆ als-17   ┆ … ┆ last_node_d ┆ avg_node_di ┆ last_contac ┆ last_conta │\n",
       "│ ---    ┆ ---    ┆ ---      ┆ ---      ┆   ┆ iff         ┆ ff          ┆ t_node      ┆ ct_node_di │\n",
       "│ i64    ┆ i64    ┆ f64      ┆ f64      ┆   ┆ ---         ┆ ---         ┆ ---         ┆ ff         │\n",
       "│        ┆        ┆          ┆          ┆   ┆ i64         ┆ f64         ┆ u32         ┆ ---        │\n",
       "│        ┆        ┆          ┆          ┆   ┆             ┆             ┆             ┆ i64        │\n",
       "╞════════╪════════╪══════════╪══════════╪═══╪═════════════╪═════════════╪═════════════╪════════════╡\n",
       "│ 130821 ┆ 80407  ┆ null     ┆ null     ┆ … ┆ 13826       ┆ 13997.15    ┆ 116986      ┆ 13835      │\n",
       "│ 156363 ┆ 69287  ┆ null     ┆ null     ┆ … ┆ 40240       ┆ 45593.84210 ┆ 116123      ┆ 40240      │\n",
       "│        ┆        ┆          ┆          ┆   ┆             ┆ 5           ┆             ┆            │\n",
       "│ 255802 ┆ 104572 ┆ null     ┆ null     ┆ … ┆ 103693      ┆ 56702.61152 ┆ 142970      ┆ 112832     │\n",
       "│        ┆        ┆          ┆          ┆   ┆             ┆ 9           ┆             ┆            │\n",
       "│ 155668 ┆ 100250 ┆ 0.178002 ┆ 0.119847 ┆ … ┆ 149179      ┆ 55921.53927 ┆ 310791      ┆ 155123     │\n",
       "│        ┆        ┆          ┆          ┆   ┆             ┆ 3           ┆             ┆            │\n",
       "│ 173381 ┆ 145048 ┆ null     ┆ null     ┆ … ┆ 42787       ┆ 37781.69237 ┆ 106480      ┆ 66901      │\n",
       "│        ┆        ┆          ┆          ┆   ┆             ┆ 2           ┆             ┆            │\n",
       "│ …      ┆ …      ┆ …        ┆ …        ┆ … ┆ …           ┆ …           ┆ …           ┆ …          │\n",
       "│ 214224 ┆ 45427  ┆ null     ┆ null     ┆ … ┆ 14973       ┆ 22945.31707 ┆ 199251      ┆ 14973      │\n",
       "│        ┆        ┆          ┆          ┆   ┆             ┆ 3           ┆             ┆            │\n",
       "│ 199254 ┆ 48499  ┆ null     ┆ null     ┆ … ┆ 85025       ┆ 62191.21674 ┆ 171356      ┆ 27898      │\n",
       "│        ┆        ┆          ┆          ┆   ┆             ┆ 9           ┆             ┆            │\n",
       "│ 196488 ┆ 21280  ┆ null     ┆ null     ┆ … ┆ 42740       ┆ 42946.69642 ┆ 342310      ┆ 145822     │\n",
       "│        ┆        ┆          ┆          ┆   ┆             ┆ 9           ┆             ┆            │\n",
       "│ 196646 ┆ 94030  ┆ null     ┆ null     ┆ … ┆ 98960       ┆ 91662.06711 ┆ 97686       ┆ 98960      │\n",
       "│        ┆        ┆          ┆          ┆   ┆             ┆ 4           ┆             ┆            │\n",
       "│ 214324 ┆ 53483  ┆ null     ┆ null     ┆ … ┆ 42601       ┆ 3370.418367 ┆ 230737      ┆ 16413      │\n",
       "└────────┴────────┴──────────┴──────────┴───┴─────────────┴─────────────┴─────────────┴────────────┘"
      ]
     },
     "execution_count": 12,
     "metadata": {},
     "output_type": "execute_result"
    }
   ],
   "source": [
    "df_14"
   ]
  },
  {
   "cell_type": "code",
   "execution_count": 13,
   "id": "1e7e0f1f-7bb9-41cd-8d41-cecbad259909",
   "metadata": {},
   "outputs": [
    {
     "name": "stdout",
     "output_type": "stream",
     "text": [
      "df built, retrieved 89893 items from 154214 overall, 0.5829107603719507% coverage\n"
     ]
    }
   ],
   "source": [
    "DAYS = '28'\n",
    "dfs = {\n",
    "    key: read_any(Path(DATA_DIR) / tpl.format(d=DAYS))\n",
    "    for key, tpl in FILES.items()\n",
    "}\n",
    "\n",
    "feature_args = [dfs[name] for name in ORDER]\n",
    "\n",
    "df_28 = create_features(\n",
    "    df_events_28,\n",
    "    df_targets_28,\n",
    "    *feature_args,\n",
    "    subsample=SUBSAMPLE\n",
    ")"
   ]
  },
  {
   "cell_type": "code",
   "execution_count": 14,
   "id": "8cb45e4f-eaf0-46be-972f-8970067a1dc6",
   "metadata": {},
   "outputs": [],
   "source": [
    "df_14 = df_14.with_columns(pl.lit(14).alias(\"lag\"))\n",
    "df_28 = df_28.with_columns(pl.lit(28).alias(\"lag\"))\n",
    "\n",
    "df = pl.concat([df_14, df_28], how=\"vertical\")"
   ]
  },
  {
   "cell_type": "code",
   "execution_count": 15,
   "id": "e32bf4f4-325a-4cf2-96ea-a95b67744355",
   "metadata": {},
   "outputs": [],
   "source": [
    "features = [i for i in df.columns if i not in ['event', 'target', 'lag']]\n",
    "cat_features = ['user_location', 'user_category', 'node', 'cookie', 'last_node', 'last_contact_node']"
   ]
  },
  {
   "cell_type": "code",
   "execution_count": 16,
   "id": "9098d4f0-f6a1-4050-9399-1f60aed37e5d",
   "metadata": {},
   "outputs": [],
   "source": [
    "als_all1 = pl.read_csv(f'{DATA_DIR}/als-all.csv')\n",
    "als_contact1 = pl.read_csv(f'{DATA_DIR}/als-contact.csv')\n",
    "als_user_emb1 = pl.read_parquet(f'{DATA_DIR}/als_user_emb.pq')\n",
    "als_item_emb1 = pl.read_parquet(f'{DATA_DIR}/als_item_emb.pq')\n",
    "als_17_user_emb1 = pl.read_parquet(f'{DATA_DIR}/als_user_emb.pq')\n",
    "als_17_item_emb1 = pl.read_parquet(f'{DATA_DIR}/als_item_emb.pq')\n",
    "i2i_df1 = pl.read_parquet(f'{DATA_DIR}/i2i.pq')\n",
    "\n",
    "i2i_seq_all1 = pl.read_parquet(f'{DATA_DIR}/i2i_17.pq')\n",
    "i2i_seq_contact1 = pl.read_parquet(f'{DATA_DIR}/i2i_11.pq')\n",
    "\n",
    "avg_text_node1 = pl.read_parquet(f'{DATA_DIR}/avg_text_node.parquet')\n",
    "avg_text_cookie1 = pl.read_parquet(f'{DATA_DIR}/cluster_text_cookie.parquet')\n",
    "last_text_cookie1 = pl.read_parquet(f'{DATA_DIR}/last_item_text_cookie.parquet')\n",
    "topk_avg_text_cookie1 = pl.read_csv(f'{DATA_DIR}/cluster_text_pred.csv')\n",
    "topk_last_text_cookie1 = pl.read_csv(f'{DATA_DIR}/last_item_text_pred.csv')\n",
    "graph_pred1 = pl.read_parquet(f'{DATA_DIR}/top300_graph_emb.pq')\n",
    "graph_item_emb1 = pl.read_parquet(f'{DATA_DIR}/item_graph_emb.pq')\n",
    "graph_user_emb1 = pl.read_parquet(f'{DATA_DIR}/user_graph_emb.pq')\n",
    "tag_cosine1 = pl.read_parquet(f'{DATA_DIR}/top300_tag_cosine1.pq')\n",
    "tag_emb_cookie1 = pl.read_parquet(f'{DATA_DIR}/tag_cosine_cookie.pq')\n",
    "tag_emb_node1 = pl.read_parquet(f'{DATA_DIR}/tag_cosine_node.pq')\n",
    "transformer1 = pl.read_parquet(f'{DATA_DIR}/transformer2.parquet')"
   ]
  },
  {
   "cell_type": "code",
   "execution_count": 17,
   "id": "0b9c5de1-7663-43c7-8874-fe7c1a62900b",
   "metadata": {},
   "outputs": [
    {
     "data": {
      "text/html": [
       "<div><style>\n",
       ".dataframe > thead > tr,\n",
       ".dataframe > tbody > tr {\n",
       "  text-align: right;\n",
       "  white-space: pre-wrap;\n",
       "}\n",
       "</style>\n",
       "<small>shape: (130_561_584, 38)</small><table border=\"1\" class=\"dataframe\"><thead><tr><th>node</th><th>cookie</th><th>als-all</th><th>als-17</th><th>rank_category</th><th>rank_location</th><th>count_all_pop</th><th>count_contact</th><th>i2i_11_score</th><th>i2i_11_score_right</th><th>rank</th><th>rank_last_item</th><th>rank_right</th><th>i2i_score</th><th>tag_score</th><th>proba</th><th>count_all</th><th>contact_all</th><th>contact_ratio</th><th>user_location</th><th>user_category</th><th>num_contacts</th><th>num_events</th><th>surface_unique_counts</th><th>location_unique_counts</th><th>count_location</th><th>count_category</th><th>dot_centroid</th><th>dot_last_item</th><th>dot_als</th><th>dot_als_17</th><th>dot_graph</th><th>last_node</th><th>avg_node</th><th>last_node_diff</th><th>avg_node_diff</th><th>last_contact_node</th><th>last_contact_node_diff</th></tr><tr><td>i64</td><td>i64</td><td>f64</td><td>f64</td><td>f64</td><td>f64</td><td>f64</td><td>f64</td><td>f64</td><td>f64</td><td>f64</td><td>f64</td><td>f64</td><td>f64</td><td>f64</td><td>f64</td><td>f64</td><td>f64</td><td>f64</td><td>i64</td><td>i64</td><td>f64</td><td>f64</td><td>f64</td><td>f64</td><td>f64</td><td>f64</td><td>f32</td><td>f32</td><td>f32</td><td>f32</td><td>f32</td><td>u32</td><td>f64</td><td>i64</td><td>f64</td><td>u32</td><td>i64</td></tr></thead><tbody><tr><td>229316</td><td>1</td><td>0.505412</td><td>0.195368</td><td>0.192369</td><td>null</td><td>null</td><td>null</td><td>0.100931</td><td>0.112338</td><td>null</td><td>null</td><td>null</td><td>0.153325</td><td>null</td><td>null</td><td>0.111226</td><td>0.130475</td><td>0.141649</td><td>5675</td><td>51</td><td>0.127017</td><td>0.300717</td><td>0.6</td><td>0.36383</td><td>0.100008</td><td>0.111226</td><td>10.493627</td><td>7.036992</td><td>1.117484</td><td>1.117484</td><td>1.43972</td><td>238794</td><td>190473.194553</td><td>9478</td><td>38842.805447</td><td>230740</td><td>1424</td></tr><tr><td>214198</td><td>1</td><td>0.497455</td><td>0.155515</td><td>null</td><td>0.473494</td><td>0.213738</td><td>0.402549</td><td>0.101141</td><td>0.106435</td><td>null</td><td>null</td><td>0.434448</td><td>null</td><td>null</td><td>0.103222</td><td>0.246195</td><td>0.488616</td><td>0.140784</td><td>5675</td><td>51</td><td>0.127017</td><td>0.300717</td><td>0.6</td><td>0.36383</td><td>0.100594</td><td>null</td><td>9.571742</td><td>7.381647</td><td>1.095552</td><td>1.095552</td><td>3.002574</td><td>238794</td><td>190473.194553</td><td>24596</td><td>23724.805447</td><td>230740</td><td>16542</td></tr><tr><td>214233</td><td>1</td><td>0.488634</td><td>null</td><td>null</td><td>0.887149</td><td>null</td><td>null</td><td>null</td><td>0.106406</td><td>0.547236</td><td>null</td><td>0.237124</td><td>0.184547</td><td>null</td><td>0.110062</td><td>0.126851</td><td>0.167427</td><td>0.138527</td><td>5675</td><td>51</td><td>0.127017</td><td>0.300717</td><td>0.6</td><td>0.36383</td><td>0.100318</td><td>null</td><td>9.351207</td><td>5.281264</td><td>1.071239</td><td>1.071239</td><td>4.134598</td><td>238794</td><td>190473.194553</td><td>24561</td><td>23759.805447</td><td>230740</td><td>16507</td></tr><tr><td>214339</td><td>1</td><td>0.482473</td><td>null</td><td>null</td><td>null</td><td>null</td><td>null</td><td>null</td><td>0.115062</td><td>null</td><td>null</td><td>0.501338</td><td>0.144688</td><td>null</td><td>0.105784</td><td>0.109871</td><td>0.196271</td><td>0.249628</td><td>5675</td><td>51</td><td>0.127017</td><td>0.300717</td><td>0.6</td><td>0.36383</td><td>0.100066</td><td>null</td><td>11.904276</td><td>8.087865</td><td>1.054257</td><td>1.054257</td><td>2.147449</td><td>238794</td><td>190473.194553</td><td>24455</td><td>23865.805447</td><td>230740</td><td>16401</td></tr><tr><td>152705</td><td>1</td><td>0.45853</td><td>0.155079</td><td>null</td><td>null</td><td>null</td><td>null</td><td>0.100746</td><td>0.110226</td><td>null</td><td>null</td><td>null</td><td>0.213652</td><td>null</td><td>null</td><td>0.11416</td><td>0.115652</td><td>0.11696</td><td>5675</td><td>51</td><td>0.127017</td><td>0.300717</td><td>0.6</td><td>0.36383</td><td>0.10005</td><td>null</td><td>8.708915</td><td>1.46323</td><td>0.988261</td><td>0.988261</td><td>1.417004</td><td>238794</td><td>190473.194553</td><td>86089</td><td>37768.194553</td><td>230740</td><td>78035</td></tr><tr><td>&hellip;</td><td>&hellip;</td><td>&hellip;</td><td>&hellip;</td><td>&hellip;</td><td>&hellip;</td><td>&hellip;</td><td>&hellip;</td><td>&hellip;</td><td>&hellip;</td><td>&hellip;</td><td>&hellip;</td><td>&hellip;</td><td>&hellip;</td><td>&hellip;</td><td>&hellip;</td><td>&hellip;</td><td>&hellip;</td><td>&hellip;</td><td>&hellip;</td><td>&hellip;</td><td>&hellip;</td><td>&hellip;</td><td>&hellip;</td><td>&hellip;</td><td>&hellip;</td><td>&hellip;</td><td>&hellip;</td><td>&hellip;</td><td>&hellip;</td><td>&hellip;</td><td>&hellip;</td><td>&hellip;</td><td>&hellip;</td><td>&hellip;</td><td>&hellip;</td><td>&hellip;</td><td>&hellip;</td></tr><tr><td>199254</td><td>38860</td><td>null</td><td>null</td><td>null</td><td>null</td><td>null</td><td>null</td><td>null</td><td>null</td><td>null</td><td>null</td><td>null</td><td>null</td><td>null</td><td>0.102578</td><td>0.10588</td><td>0.120032</td><td>0.152266</td><td>6230</td><td>19</td><td>0.100772</td><td>0.105511</td><td>0.433333</td><td>0.111915</td><td>0.100022</td><td>null</td><td>6.14558</td><td>7.154558</td><td>-0.031062</td><td>-0.031062</td><td>0.487246</td><td>225016</td><td>150727.755906</td><td>25762</td><td>48526.244094</td><td>117336</td><td>81918</td></tr><tr><td>197431</td><td>8908</td><td>null</td><td>null</td><td>null</td><td>null</td><td>null</td><td>null</td><td>null</td><td>null</td><td>null</td><td>null</td><td>null</td><td>null</td><td>null</td><td>0.102641</td><td>0.10188</td><td>0.111764</td><td>0.196016</td><td>2348</td><td>52</td><td>0.10386</td><td>0.10678</td><td>0.516667</td><td>0.113617</td><td>0.10124</td><td>null</td><td>9.571344</td><td>11.21903</td><td>-0.009889</td><td>-0.009889</td><td>0.290966</td><td>218480</td><td>170475.942308</td><td>21049</td><td>26955.057692</td><td>170538</td><td>26893</td></tr><tr><td>187771</td><td>80887</td><td>null</td><td>null</td><td>null</td><td>null</td><td>null</td><td>null</td><td>null</td><td>null</td><td>null</td><td>null</td><td>null</td><td>null</td><td>null</td><td>0.102498</td><td>0.111819</td><td>0.139561</td><td>0.151356</td><td>2105</td><td>6</td><td>0.1</td><td>0.100875</td><td>0.183333</td><td>0.105957</td><td>0.100164</td><td>null</td><td>10.553353</td><td>12.95696</td><td>0.014019</td><td>0.014019</td><td>0.097078</td><td>336400</td><td>116043.619048</td><td>148629</td><td>71727.380952</td><td>null</td><td>null</td></tr><tr><td>196329</td><td>50930</td><td>null</td><td>null</td><td>null</td><td>null</td><td>null</td><td>null</td><td>null</td><td>null</td><td>null</td><td>null</td><td>null</td><td>null</td><td>null</td><td>0.106097</td><td>0.111314</td><td>0.144925</td><td>0.16092</td><td>8256</td><td>40</td><td>0.1</td><td>0.1014</td><td>0.35</td><td>0.105106</td><td>0.101125</td><td>null</td><td>11.11009</td><td>11.014272</td><td>0.000093</td><td>0.000093</td><td>0.955452</td><td>214223</td><td>153859.212121</td><td>17894</td><td>42469.787879</td><td>null</td><td>null</td></tr><tr><td>198565</td><td>31063</td><td>null</td><td>null</td><td>null</td><td>null</td><td>null</td><td>null</td><td>null</td><td>null</td><td>null</td><td>null</td><td>null</td><td>null</td><td>null</td><td>0.103525</td><td>0.102209</td><td>0.108742</td><td>0.160715</td><td>1372</td><td>24</td><td>0.100772</td><td>0.101443</td><td>0.266667</td><td>0.104255</td><td>0.100075</td><td>null</td><td>11.267011</td><td>11.715001</td><td>-0.012582</td><td>-0.012582</td><td>0.130228</td><td>161764</td><td>171314.294118</td><td>36801</td><td>27250.705882</td><td>1886</td><td>196679</td></tr></tbody></table></div>"
      ],
      "text/plain": [
       "shape: (130_561_584, 38)\n",
       "┌────────┬────────┬──────────┬──────────┬───┬─────────────┬─────────────┬─────────────┬────────────┐\n",
       "│ node   ┆ cookie ┆ als-all  ┆ als-17   ┆ … ┆ last_node_d ┆ avg_node_di ┆ last_contac ┆ last_conta │\n",
       "│ ---    ┆ ---    ┆ ---      ┆ ---      ┆   ┆ iff         ┆ ff          ┆ t_node      ┆ ct_node_di │\n",
       "│ i64    ┆ i64    ┆ f64      ┆ f64      ┆   ┆ ---         ┆ ---         ┆ ---         ┆ ff         │\n",
       "│        ┆        ┆          ┆          ┆   ┆ i64         ┆ f64         ┆ u32         ┆ ---        │\n",
       "│        ┆        ┆          ┆          ┆   ┆             ┆             ┆             ┆ i64        │\n",
       "╞════════╪════════╪══════════╪══════════╪═══╪═════════════╪═════════════╪═════════════╪════════════╡\n",
       "│ 229316 ┆ 1      ┆ 0.505412 ┆ 0.195368 ┆ … ┆ 9478        ┆ 38842.80544 ┆ 230740      ┆ 1424       │\n",
       "│        ┆        ┆          ┆          ┆   ┆             ┆ 7           ┆             ┆            │\n",
       "│ 214198 ┆ 1      ┆ 0.497455 ┆ 0.155515 ┆ … ┆ 24596       ┆ 23724.80544 ┆ 230740      ┆ 16542      │\n",
       "│        ┆        ┆          ┆          ┆   ┆             ┆ 7           ┆             ┆            │\n",
       "│ 214233 ┆ 1      ┆ 0.488634 ┆ null     ┆ … ┆ 24561       ┆ 23759.80544 ┆ 230740      ┆ 16507      │\n",
       "│        ┆        ┆          ┆          ┆   ┆             ┆ 7           ┆             ┆            │\n",
       "│ 214339 ┆ 1      ┆ 0.482473 ┆ null     ┆ … ┆ 24455       ┆ 23865.80544 ┆ 230740      ┆ 16401      │\n",
       "│        ┆        ┆          ┆          ┆   ┆             ┆ 7           ┆             ┆            │\n",
       "│ 152705 ┆ 1      ┆ 0.45853  ┆ 0.155079 ┆ … ┆ 86089       ┆ 37768.19455 ┆ 230740      ┆ 78035      │\n",
       "│        ┆        ┆          ┆          ┆   ┆             ┆ 3           ┆             ┆            │\n",
       "│ …      ┆ …      ┆ …        ┆ …        ┆ … ┆ …           ┆ …           ┆ …           ┆ …          │\n",
       "│ 199254 ┆ 38860  ┆ null     ┆ null     ┆ … ┆ 25762       ┆ 48526.24409 ┆ 117336      ┆ 81918      │\n",
       "│        ┆        ┆          ┆          ┆   ┆             ┆ 4           ┆             ┆            │\n",
       "│ 197431 ┆ 8908   ┆ null     ┆ null     ┆ … ┆ 21049       ┆ 26955.05769 ┆ 170538      ┆ 26893      │\n",
       "│        ┆        ┆          ┆          ┆   ┆             ┆ 2           ┆             ┆            │\n",
       "│ 187771 ┆ 80887  ┆ null     ┆ null     ┆ … ┆ 148629      ┆ 71727.38095 ┆ null        ┆ null       │\n",
       "│        ┆        ┆          ┆          ┆   ┆             ┆ 2           ┆             ┆            │\n",
       "│ 196329 ┆ 50930  ┆ null     ┆ null     ┆ … ┆ 17894       ┆ 42469.78787 ┆ null        ┆ null       │\n",
       "│        ┆        ┆          ┆          ┆   ┆             ┆ 9           ┆             ┆            │\n",
       "│ 198565 ┆ 31063  ┆ null     ┆ null     ┆ … ┆ 36801       ┆ 27250.70588 ┆ 1886        ┆ 196679     │\n",
       "│        ┆        ┆          ┆          ┆   ┆             ┆ 2           ┆             ┆            │\n",
       "└────────┴────────┴──────────┴──────────┴───┴─────────────┴─────────────┴─────────────┴────────────┘"
      ]
     },
     "execution_count": 17,
     "metadata": {},
     "output_type": "execute_result"
    }
   ],
   "source": [
    "sub_df = create_features(df_clickstream, \n",
    "                         df_test_users, \n",
    "                         als_all1, \n",
    "                         als_user_emb1,\n",
    "                         als_item_emb1,\n",
    "                         als_contact1, \n",
    "                         als_17_user_emb1,\n",
    "                         als_17_item_emb1,\n",
    "                         i2i_seq_all1,\n",
    "                         i2i_seq_contact1,\n",
    "                         avg_text_node1,\n",
    "                         avg_text_cookie1,\n",
    "                         last_text_cookie1,\n",
    "                         topk_avg_text_cookie1,\n",
    "                         topk_last_text_cookie1,\n",
    "                         graph_pred1,\n",
    "                         graph_item_emb1,\n",
    "                         graph_user_emb1,\n",
    "                         i2i_df1,\n",
    "                         tag_cosine1,\n",
    "                         tag_emb_cookie1,\n",
    "                         tag_emb_node1,\n",
    "                         transformer1,\n",
    "                         is_submit=True)\n",
    "sub_df"
   ]
  },
  {
   "cell_type": "code",
   "execution_count": 23,
   "id": "a5df12f3-0cf5-412e-bdf6-e0cfbe1f3cfe",
   "metadata": {},
   "outputs": [],
   "source": [
    "DAYS = '0'\n",
    "dfs = {\n",
    "    key: read_any(Path(DATA_DIR) / tpl.format(d=DAYS))\n",
    "    for key, tpl in FILES.items()\n",
    "}\n",
    "\n",
    "feature_args = [dfs[name] for name in ORDER]\n",
    "\n",
    "sub_df = create_features(\n",
    "    df_clickstream,\n",
    "    df_test_users,\n",
    "    *feature_args,\n",
    "    subsample=SUBSAMPLE,\n",
    "    is_submit=True\n",
    ")"
   ]
  },
  {
   "cell_type": "code",
   "execution_count": 18,
   "id": "45377904-da4e-408e-831d-6e373e048dad",
   "metadata": {},
   "outputs": [],
   "source": [
    "sub_df = sub_df.filter(pl.col('cookie').is_in(df_test_users))"
   ]
  },
  {
   "cell_type": "code",
   "execution_count": 19,
   "id": "db0b19e2-2c6d-4af6-a7ea-2f8e21cf5b0b",
   "metadata": {},
   "outputs": [],
   "source": [
    "for col in cat_features:\n",
    "    df = df.with_columns(pl.col(col).fill_null(-1).cast(pl.Int64))\n",
    "    sub_df = sub_df.with_columns(pl.col(col).fill_null(-1).cast(pl.Int64))\n",
    "    df = df.with_columns(pl.col(col).cast(pl.Int64))\n",
    "    sub_df = sub_df.with_columns(pl.col(col).cast(pl.Int64))"
   ]
  },
  {
   "cell_type": "code",
   "execution_count": 20,
   "id": "b1664190-c067-4af4-9692-73b507763025",
   "metadata": {},
   "outputs": [
    {
     "data": {
      "text/html": [
       "<div><style>\n",
       ".dataframe > thead > tr,\n",
       ".dataframe > tbody > tr {\n",
       "  text-align: right;\n",
       "  white-space: pre-wrap;\n",
       "}\n",
       "</style>\n",
       "<small>shape: (1_779_043, 41)</small><table border=\"1\" class=\"dataframe\"><thead><tr><th>node</th><th>cookie</th><th>als-all</th><th>als-17</th><th>rank_category</th><th>rank_location</th><th>count_all_pop</th><th>count_contact</th><th>i2i_11_score</th><th>i2i_11_score_right</th><th>rank</th><th>rank_last_item</th><th>rank_right</th><th>i2i_score</th><th>tag_score</th><th>proba</th><th>count_all</th><th>contact_all</th><th>contact_ratio</th><th>user_location</th><th>user_category</th><th>num_contacts</th><th>num_events</th><th>surface_unique_counts</th><th>location_unique_counts</th><th>count_location</th><th>count_category</th><th>event</th><th>target</th><th>dot_centroid</th><th>dot_last_item</th><th>dot_als</th><th>dot_als_17</th><th>dot_graph</th><th>last_node</th><th>avg_node</th><th>last_node_diff</th><th>avg_node_diff</th><th>last_contact_node</th><th>last_contact_node_diff</th><th>lag</th></tr><tr><td>i64</td><td>i64</td><td>f64</td><td>f64</td><td>f64</td><td>f64</td><td>f64</td><td>f64</td><td>f64</td><td>f64</td><td>f64</td><td>f64</td><td>f64</td><td>f64</td><td>f64</td><td>f64</td><td>f64</td><td>f64</td><td>f64</td><td>i64</td><td>i64</td><td>f64</td><td>f64</td><td>f64</td><td>f64</td><td>f64</td><td>f64</td><td>i64</td><td>i32</td><td>f32</td><td>f32</td><td>f32</td><td>f32</td><td>f32</td><td>i64</td><td>f64</td><td>i64</td><td>f64</td><td>i64</td><td>i64</td><td>i32</td></tr></thead><tbody><tr><td>130821</td><td>80407</td><td>null</td><td>null</td><td>null</td><td>null</td><td>null</td><td>null</td><td>null</td><td>null</td><td>null</td><td>null</td><td>null</td><td>0.133383</td><td>null</td><td>null</td><td>0.10237</td><td>0.104047</td><td>0.125627</td><td>2551</td><td>19</td><td>0.104772</td><td>0.103428</td><td>0.516667</td><td>0.112184</td><td>0.1</td><td>null</td><td>null</td><td>0</td><td>9.011393</td><td>11.210859</td><td>0.024172</td><td>-0.002015</td><td>0.219741</td><td>116995</td><td>116823.85</td><td>13826</td><td>13997.15</td><td>116986</td><td>13835</td><td>14</td></tr><tr><td>156363</td><td>69287</td><td>null</td><td>null</td><td>null</td><td>null</td><td>null</td><td>null</td><td>null</td><td>null</td><td>0.692965</td><td>null</td><td>null</td><td>null</td><td>null</td><td>null</td><td>0.100389</td><td>0.100819</td><td>0.131569</td><td>4283</td><td>19</td><td>0.102651</td><td>0.103254</td><td>0.433333</td><td>0.110309</td><td>0.100019</td><td>null</td><td>null</td><td>0</td><td>12.028119</td><td>13.208828</td><td>0.002818</td><td>-0.000888</td><td>0.015816</td><td>116123</td><td>110769.157895</td><td>40240</td><td>45593.842105</td><td>116123</td><td>40240</td><td>14</td></tr><tr><td>255802</td><td>104572</td><td>null</td><td>null</td><td>null</td><td>null</td><td>null</td><td>null</td><td>null</td><td>null</td><td>null</td><td>null</td><td>null</td><td>null</td><td>0.713323</td><td>null</td><td>0.100013</td><td>0.1</td><td>0.1</td><td>2348</td><td>51</td><td>0.109014</td><td>0.215856</td><td>0.6</td><td>0.277132</td><td>0.100061</td><td>0.100013</td><td>null</td><td>0</td><td>null</td><td>null</td><td>0.005256</td><td>null</td><td>null</td><td>152109</td><td>199099.388471</td><td>103693</td><td>56702.611529</td><td>142970</td><td>112832</td><td>14</td></tr><tr><td>155668</td><td>100250</td><td>0.178002</td><td>0.119847</td><td>null</td><td>null</td><td>null</td><td>null</td><td>null</td><td>null</td><td>null</td><td>null</td><td>null</td><td>null</td><td>null</td><td>null</td><td>0.10201</td><td>0.106415</td><td>0.147898</td><td>2348</td><td>28</td><td>0.108484</td><td>0.149503</td><td>0.433333</td><td>0.186223</td><td>0.102976</td><td>null</td><td>null</td><td>0</td><td>10.67544</td><td>7.112644</td><td>0.262669</td><td>0.035907</td><td>0.170702</td><td>6489</td><td>99746.460727</td><td>149179</td><td>55921.539273</td><td>310791</td><td>155123</td><td>14</td></tr><tr><td>173381</td><td>145048</td><td>null</td><td>null</td><td>null</td><td>null</td><td>null</td><td>null</td><td>null</td><td>null</td><td>null</td><td>null</td><td>null</td><td>null</td><td>0.681536</td><td>null</td><td>0.100078</td><td>0.100114</td><td>0.121787</td><td>166</td><td>49</td><td>0.119618</td><td>0.169258</td><td>0.516667</td><td>0.263074</td><td>null</td><td>null</td><td>null</td><td>0</td><td>9.388408</td><td>9.195368</td><td>0.096364</td><td>0.000637</td><td>null</td><td>130594</td><td>135599.307628</td><td>42787</td><td>37781.692372</td><td>106480</td><td>66901</td><td>14</td></tr><tr><td>&hellip;</td><td>&hellip;</td><td>&hellip;</td><td>&hellip;</td><td>&hellip;</td><td>&hellip;</td><td>&hellip;</td><td>&hellip;</td><td>&hellip;</td><td>&hellip;</td><td>&hellip;</td><td>&hellip;</td><td>&hellip;</td><td>&hellip;</td><td>&hellip;</td><td>&hellip;</td><td>&hellip;</td><td>&hellip;</td><td>&hellip;</td><td>&hellip;</td><td>&hellip;</td><td>&hellip;</td><td>&hellip;</td><td>&hellip;</td><td>&hellip;</td><td>&hellip;</td><td>&hellip;</td><td>&hellip;</td><td>&hellip;</td><td>&hellip;</td><td>&hellip;</td><td>&hellip;</td><td>&hellip;</td><td>&hellip;</td><td>&hellip;</td><td>&hellip;</td><td>&hellip;</td><td>&hellip;</td><td>&hellip;</td><td>&hellip;</td><td>&hellip;</td></tr><tr><td>120284</td><td>51356</td><td>null</td><td>null</td><td>null</td><td>null</td><td>null</td><td>null</td><td>null</td><td>null</td><td>null</td><td>null</td><td>null</td><td>null</td><td>null</td><td>0.115558</td><td>0.105363</td><td>0.116738</td><td>0.146009</td><td>2348</td><td>28</td><td>0.106098</td><td>0.13288</td><td>0.463636</td><td>0.150605</td><td>0.104393</td><td>null</td><td>10</td><td>1</td><td>10.677451</td><td>10.636786</td><td>0.032362</td><td>0.023426</td><td>0.623725</td><td>1908</td><td>97434.748428</td><td>118376</td><td>22849.251572</td><td>230737</td><td>110453</td><td>28</td></tr><tr><td>214268</td><td>39140</td><td>null</td><td>null</td><td>null</td><td>null</td><td>null</td><td>null</td><td>null</td><td>null</td><td>null</td><td>null</td><td>null</td><td>null</td><td>null</td><td>0.112674</td><td>0.103553</td><td>0.134045</td><td>0.241258</td><td>8383</td><td>40</td><td>0.107114</td><td>0.176963</td><td>0.827273</td><td>0.181408</td><td>0.100756</td><td>null</td><td>5</td><td>1</td><td>10.379482</td><td>5.852678</td><td>0.130703</td><td>-0.001613</td><td>0.43403</td><td>122317</td><td>148930.711978</td><td>91951</td><td>65337.288022</td><td>46418</td><td>167850</td><td>28</td></tr><tr><td>214304</td><td>81065</td><td>null</td><td>null</td><td>null</td><td>null</td><td>null</td><td>null</td><td>null</td><td>null</td><td>null</td><td>null</td><td>null</td><td>null</td><td>null</td><td>0.102926</td><td>0.10063</td><td>0.108562</td><td>0.300259</td><td>2006</td><td>40</td><td>0.103049</td><td>0.107572</td><td>0.463636</td><td>0.117602</td><td>0.100092</td><td>null</td><td>5</td><td>1</td><td>9.501436</td><td>13.627958</td><td>0.015235</td><td>0.002762</td><td>0.151781</td><td>152642</td><td>143856.5</td><td>61662</td><td>70447.5</td><td>51105</td><td>163199</td><td>28</td></tr><tr><td>685</td><td>55285</td><td>null</td><td>null</td><td>null</td><td>null</td><td>null</td><td>null</td><td>null</td><td>null</td><td>null</td><td>null</td><td>null</td><td>null</td><td>null</td><td>0.118553</td><td>0.113145</td><td>0.130327</td><td>0.134018</td><td>7661</td><td>1</td><td>0.1</td><td>0.101763</td><td>0.190909</td><td>0.107701</td><td>0.100023</td><td>null</td><td>10</td><td>1</td><td>9.941967</td><td>8.373608</td><td>0.000142</td><td>0.000024</td><td>null</td><td>92388</td><td>65523.222222</td><td>91703</td><td>64838.222222</td><td>-1</td><td>null</td><td>28</td></tr><tr><td>214284</td><td>107305</td><td>null</td><td>null</td><td>null</td><td>null</td><td>null</td><td>null</td><td>null</td><td>null</td><td>null</td><td>null</td><td>null</td><td>null</td><td>null</td><td>0.116463</td><td>0.107551</td><td>0.118762</td><td>0.136636</td><td>2269</td><td>33</td><td>0.1</td><td>0.100934</td><td>0.281818</td><td>0.1022</td><td>0.105055</td><td>null</td><td>10</td><td>1</td><td>10.424354</td><td>11.93274</td><td>-0.005909</td><td>null</td><td>0.100023</td><td>75387</td><td>128327.3</td><td>138897</td><td>85956.7</td><td>-1</td><td>null</td><td>28</td></tr></tbody></table></div>"
      ],
      "text/plain": [
       "shape: (1_779_043, 41)\n",
       "┌────────┬────────┬──────────┬──────────┬───┬───────────────┬────────────────┬───────────────┬─────┐\n",
       "│ node   ┆ cookie ┆ als-all  ┆ als-17   ┆ … ┆ avg_node_diff ┆ last_contact_n ┆ last_contact_ ┆ lag │\n",
       "│ ---    ┆ ---    ┆ ---      ┆ ---      ┆   ┆ ---           ┆ ode            ┆ node_diff     ┆ --- │\n",
       "│ i64    ┆ i64    ┆ f64      ┆ f64      ┆   ┆ f64           ┆ ---            ┆ ---           ┆ i32 │\n",
       "│        ┆        ┆          ┆          ┆   ┆               ┆ i64            ┆ i64           ┆     │\n",
       "╞════════╪════════╪══════════╪══════════╪═══╪═══════════════╪════════════════╪═══════════════╪═════╡\n",
       "│ 130821 ┆ 80407  ┆ null     ┆ null     ┆ … ┆ 13997.15      ┆ 116986         ┆ 13835         ┆ 14  │\n",
       "│ 156363 ┆ 69287  ┆ null     ┆ null     ┆ … ┆ 45593.842105  ┆ 116123         ┆ 40240         ┆ 14  │\n",
       "│ 255802 ┆ 104572 ┆ null     ┆ null     ┆ … ┆ 56702.611529  ┆ 142970         ┆ 112832        ┆ 14  │\n",
       "│ 155668 ┆ 100250 ┆ 0.178002 ┆ 0.119847 ┆ … ┆ 55921.539273  ┆ 310791         ┆ 155123        ┆ 14  │\n",
       "│ 173381 ┆ 145048 ┆ null     ┆ null     ┆ … ┆ 37781.692372  ┆ 106480         ┆ 66901         ┆ 14  │\n",
       "│ …      ┆ …      ┆ …        ┆ …        ┆ … ┆ …             ┆ …              ┆ …             ┆ …   │\n",
       "│ 120284 ┆ 51356  ┆ null     ┆ null     ┆ … ┆ 22849.251572  ┆ 230737         ┆ 110453        ┆ 28  │\n",
       "│ 214268 ┆ 39140  ┆ null     ┆ null     ┆ … ┆ 65337.288022  ┆ 46418          ┆ 167850        ┆ 28  │\n",
       "│ 214304 ┆ 81065  ┆ null     ┆ null     ┆ … ┆ 70447.5       ┆ 51105          ┆ 163199        ┆ 28  │\n",
       "│ 685    ┆ 55285  ┆ null     ┆ null     ┆ … ┆ 64838.222222  ┆ -1             ┆ null          ┆ 28  │\n",
       "│ 214284 ┆ 107305 ┆ null     ┆ null     ┆ … ┆ 85956.7       ┆ -1             ┆ null          ┆ 28  │\n",
       "└────────┴────────┴──────────┴──────────┴───┴───────────────┴────────────────┴───────────────┴─────┘"
      ]
     },
     "execution_count": 20,
     "metadata": {},
     "output_type": "execute_result"
    }
   ],
   "source": [
    "df"
   ]
  },
  {
   "cell_type": "code",
   "execution_count": 21,
   "id": "80d3e735-a120-42bc-8609-190b71e505f0",
   "metadata": {
    "scrolled": true
   },
   "outputs": [
    {
     "name": "stderr",
     "output_type": "stream",
     "text": [
      "/home/r.nesterov/miniconda3/envs/env310/lib/python3.10/site-packages/lightgbm/engine.py:204: UserWarning: Found `num_boost_round` in params. Will use it instead of argument\n",
      "  _log_warning(f\"Found `{alias}` in params. Will use it instead of argument\")\n"
     ]
    },
    {
     "name": "stdout",
     "output_type": "stream",
     "text": [
      "[LightGBM] [Info] Auto-choosing row-wise multi-threading, the overhead of testing was 0.511540 seconds.\n",
      "You can set `force_row_wise=true` to remove the overhead.\n",
      "And if memory is not enough, you can set `force_col_wise=true`.\n",
      "[LightGBM] [Info] Total Bins 8895\n",
      "[LightGBM] [Info] Number of data points in the train set: 1779043, number of used features: 38\n"
     ]
    },
    {
     "name": "stderr",
     "output_type": "stream",
     "text": [
      "/home/r.nesterov/miniconda3/envs/env310/lib/python3.10/site-packages/lightgbm/basic.py:1218: UserWarning: Converting data to scipy sparse matrix.\n",
      "  _log_warning(\"Converting data to scipy sparse matrix.\")\n"
     ]
    },
    {
     "data": {
      "text/html": [
       "<div><style>\n",
       ".dataframe > thead > tr,\n",
       ".dataframe > tbody > tr {\n",
       "  text-align: right;\n",
       "  white-space: pre-wrap;\n",
       "}\n",
       "</style>\n",
       "<small>shape: (3_692_760, 3)</small><table border=\"1\" class=\"dataframe\"><thead><tr><th>cookie</th><th>node</th><th>pred</th></tr><tr><td>i64</td><td>i64</td><td>f64</td></tr></thead><tbody><tr><td>1</td><td>229418</td><td>2.540486</td></tr><tr><td>1</td><td>243177</td><td>2.457443</td></tr><tr><td>1</td><td>214377</td><td>2.438571</td></tr><tr><td>1</td><td>229316</td><td>2.334626</td></tr><tr><td>1</td><td>214339</td><td>2.33387</td></tr><tr><td>&hellip;</td><td>&hellip;</td><td>&hellip;</td></tr><tr><td>149999</td><td>122326</td><td>1.702647</td></tr><tr><td>149999</td><td>214460</td><td>1.692605</td></tr><tr><td>149999</td><td>214290</td><td>1.677883</td></tr><tr><td>149999</td><td>120273</td><td>1.675348</td></tr><tr><td>149999</td><td>214261</td><td>1.674634</td></tr></tbody></table></div>"
      ],
      "text/plain": [
       "shape: (3_692_760, 3)\n",
       "┌────────┬────────┬──────────┐\n",
       "│ cookie ┆ node   ┆ pred     │\n",
       "│ ---    ┆ ---    ┆ ---      │\n",
       "│ i64    ┆ i64    ┆ f64      │\n",
       "╞════════╪════════╪══════════╡\n",
       "│ 1      ┆ 229418 ┆ 2.540486 │\n",
       "│ 1      ┆ 243177 ┆ 2.457443 │\n",
       "│ 1      ┆ 214377 ┆ 2.438571 │\n",
       "│ 1      ┆ 229316 ┆ 2.334626 │\n",
       "│ 1      ┆ 214339 ┆ 2.33387  │\n",
       "│ …      ┆ …      ┆ …        │\n",
       "│ 149999 ┆ 122326 ┆ 1.702647 │\n",
       "│ 149999 ┆ 214460 ┆ 1.692605 │\n",
       "│ 149999 ┆ 214290 ┆ 1.677883 │\n",
       "│ 149999 ┆ 120273 ┆ 1.675348 │\n",
       "│ 149999 ┆ 214261 ┆ 1.674634 │\n",
       "└────────┴────────┴──────────┘"
      ]
     },
     "execution_count": 21,
     "metadata": {},
     "output_type": "execute_result"
    }
   ],
   "source": [
    "params = {\n",
    "    'objective': 'lambdarank',\n",
    "    'metric': 'ndcg',\n",
    "    'num_boost_round': 150,\n",
    "    'num_leaves': 63,\n",
    "    'max_bin': 255,\n",
    "    'min_data_in_leaf': 20,\n",
    "    'min_sum_hessian_in_leaf': 5.0,\n",
    "    'is_enable_sparse': True,\n",
    "    'learning_rate': 0.05,\n",
    "    'feature_fraction': 0.8,\n",
    "    'bagging_fraction': 0.8,\n",
    "    'bagging_freq': 5,\n",
    "}\n",
    "\n",
    "ranker = fit_lgb_ranker(df, features, cat_features, params, group_column=['lag', 'cookie'])\n",
    "\n",
    "predictions = ranker.predict(sub_df[features])\n",
    "\n",
    "sub_df = sub_df.with_columns(pred=pl.Series(predictions))\n",
    "\n",
    "top_40_per_cookie = (\n",
    "    sub_df\n",
    "    .sort([\"cookie\", \"pred\"], descending=[False, True])\n",
    "    .group_by(\"cookie\", maintain_order=True)\n",
    "    .head(40)\n",
    ")\n",
    "top_40_per_cookie.select('cookie', 'node', 'pred')"
   ]
  },
  {
   "cell_type": "code",
   "execution_count": 22,
   "id": "3571003e-2084-49a1-961f-526ebc47ff1f",
   "metadata": {},
   "outputs": [],
   "source": [
    "top_40_per_cookie.select('cookie', 'node', 'pred').write_csv('pred_14d_lgb1.csv')"
   ]
  },
  {
   "cell_type": "code",
   "execution_count": null,
   "id": "65b50a0b-7a4e-4ad2-8377-b080f4b22ce5",
   "metadata": {},
   "outputs": [],
   "source": [
    "1"
   ]
  },
  {
   "cell_type": "code",
   "execution_count": null,
   "id": "2230a337-d02c-45ce-bd5c-88ed8672f52d",
   "metadata": {},
   "outputs": [],
   "source": []
  }
 ],
 "metadata": {
  "kernelspec": {
   "display_name": "Python (env310)",
   "language": "python",
   "name": "env310"
  },
  "language_info": {
   "codemirror_mode": {
    "name": "ipython",
    "version": 3
   },
   "file_extension": ".py",
   "mimetype": "text/x-python",
   "name": "python",
   "nbconvert_exporter": "python",
   "pygments_lexer": "ipython3",
   "version": "3.10.13"
  }
 },
 "nbformat": 4,
 "nbformat_minor": 5
}
