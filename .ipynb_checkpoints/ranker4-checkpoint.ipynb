{
 "cells": [
  {
   "cell_type": "code",
   "execution_count": 1,
   "id": "ebab1d5b-94e8-4c4e-915d-ea2a048343d4",
   "metadata": {},
   "outputs": [],
   "source": [
    "%load_ext autoreload\n",
    "%autoreload 2"
   ]
  },
  {
   "cell_type": "code",
   "execution_count": 2,
   "id": "f7d1b8e6-6938-47d7-8a34-e6c06336c570",
   "metadata": {},
   "outputs": [],
   "source": [
    "import numpy as np\n",
    "import matplotlib.pyplot as plt\n",
    "import seaborn as sns\n",
    "from datetime import timedelta\n",
    "import polars as pl\n",
    "import implicit\n",
    "import lightgbm as lgb\n",
    "from itertools import groupby\n",
    "\n",
    "from utils import create_features, recall_at, fit_lgb_ranker, fit_catboost_ranker\n",
    "from constants import FILES, ORDER, read_any"
   ]
  },
  {
   "cell_type": "code",
   "execution_count": 3,
   "id": "229ed1a0-fe0c-43e6-b8ec-615e4692cdb8",
   "metadata": {},
   "outputs": [],
   "source": [
    "DATA_DIR = 'retrieval_data/'\n",
    "SUBSAMPLE = 0.03"
   ]
  },
  {
   "cell_type": "code",
   "execution_count": 4,
   "id": "b9fbaea3-b509-4a7c-9dc4-acdbd57ff2b2",
   "metadata": {},
   "outputs": [],
   "source": [
    "df_test_users = pl.read_parquet(f'test_users.pq')\n",
    "df_clickstream = pl.read_parquet(f'clickstream.pq')\n",
    "\n",
    "df_cat_features = pl.read_parquet(f'cat_features.pq')\n",
    "df_text_features = pl.read_parquet(f'text_features.pq')\n",
    "df_event = pl.read_parquet(f'events.pq')"
   ]
  },
  {
   "cell_type": "code",
   "execution_count": 5,
   "id": "34ac479d-fbfc-4838-8d82-eb11e12f3356",
   "metadata": {},
   "outputs": [],
   "source": [
    "df_clickstream = df_clickstream.join(df_event, on='event', how='left')\n",
    "df_clickstream = df_clickstream.join(df_cat_features, on='item', how='left')"
   ]
  },
  {
   "cell_type": "code",
   "execution_count": 6,
   "id": "43d9b26d-6f60-47de-9462-5c23b7e5cfa7",
   "metadata": {},
   "outputs": [],
   "source": [
    "def prepare_df_event_target(df_clickstream, threshold):\n",
    "    treshold_train = df_clickstream['event_date'].max() - timedelta(days=threshold)\n",
    "    df_events_train = df_clickstream.filter(df_clickstream['event_date']<= treshold_train)\n",
    "    df_targets_train = df_clickstream.filter(\n",
    "        (df_clickstream['event_date']> treshold_train) & (df_clickstream['event_date'] < treshold_train + timedelta(days=14))\n",
    "    )[['cookie', 'node', 'event']]\n",
    "    df_targets_train = df_targets_train.join(df_events_train, on=['cookie', 'node'], how='anti')\n",
    "\n",
    "    df_targets_train = (\n",
    "        df_targets_train\n",
    "        .filter(\n",
    "            pl.col('event').is_in(\n",
    "                df_event.filter(pl.col('is_contact') == 1)['event'].unique()\n",
    "            )\n",
    "        )\n",
    "        .with_columns(pl.lit(1).alias(\"target\"))\n",
    "        .filter(pl.col('cookie').is_in(df_events_train['cookie'].unique()))\n",
    "        .filter(pl.col('node').is_in(df_events_train['node'].unique()))\n",
    "        .unique(['cookie', 'node'])\n",
    "    )\n",
    "    return df_events_train, df_targets_train"
   ]
  },
  {
   "cell_type": "code",
   "execution_count": 7,
   "id": "765c7ab1-a784-44d7-885f-46bffccf86ed",
   "metadata": {},
   "outputs": [],
   "source": [
    "df_events_14, df_targets_14 = prepare_df_event_target(df_clickstream, 14)\n",
    "df_events_28, df_targets_28 = prepare_df_event_target(df_clickstream, 28)"
   ]
  },
  {
   "cell_type": "code",
   "execution_count": 8,
   "id": "4d4c78e4-199b-4340-92cb-5c1027645a11",
   "metadata": {},
   "outputs": [],
   "source": [
    "als_all_14 = pl.read_csv(f'{DATA_DIR}/14d-back-als-all.csv')\n",
    "als_contact_14 = pl.read_csv(f'{DATA_DIR}/14d-back-als-contact.csv')\n",
    "als_user_emb_14 = pl.read_parquet(f'{DATA_DIR}/als_user_emb_14d.pq')\n",
    "als_item_emb_14 = pl.read_parquet(f'{DATA_DIR}/als_item_emb_14d.pq')\n",
    "als_17_user_emb_14 = pl.read_parquet(f'{DATA_DIR}/als_17_user_emb_14d.pq')\n",
    "als_17_item_emb_14 = pl.read_parquet(f'{DATA_DIR}/als_17_item_emb_14d.pq')\n",
    "i2i_seq_all_14 = pl.read_parquet(f'{DATA_DIR}/i2i_17_14d.pq')\n",
    "i2i_seq_contact_14 = pl.read_parquet(f'{DATA_DIR}/i2i_11_14d.pq')\n",
    "i2i_df_14 = pl.read_parquet(f'{DATA_DIR}/i2i_14d.pq')\n",
    "\n",
    "avg_text_node_14 = pl.read_parquet(f'{DATA_DIR}/avg_text_node_14d.parquet')\n",
    "avg_text_cookie_14 = pl.read_parquet(f'{DATA_DIR}/cluster_text_cookie_14d.parquet')\n",
    "last_text_cookie_14 = pl.read_parquet(f'{DATA_DIR}/last_item_text_cookie_14d.parquet')\n",
    "topk_avg_text_cookie_14 = pl.read_csv(f'{DATA_DIR}/cluster_text_pred_14d.csv')\n",
    "topk_last_text_cookie_14 = pl.read_csv(f'{DATA_DIR}/last_item_text_pred_14d.csv')\n",
    "graph_pred_14 = pl.read_parquet(f'{DATA_DIR}/top300_graph_emb_14d.pq')\n",
    "graph_item_emb_14 = pl.read_parquet(f'{DATA_DIR}/item_graph_emb_14d.pq')\n",
    "graph_user_emb_14 = pl.read_parquet(f'{DATA_DIR}/user_graph_emb_14d.pq')\n",
    "tag_cosine_14 = pl.read_parquet(f'{DATA_DIR}/top300_tag_cosine1_14d.pq')\n",
    "tag_emb_cookie_14 = pl.read_parquet(f'{DATA_DIR}/tag_cosine_cookie_14d.pq')\n",
    "tag_emb_node_14 = pl.read_parquet(f'{DATA_DIR}/tag_cosine_node_14d.pq')\n",
    "transformer_14 = pl.read_parquet(f'{DATA_DIR}/transformer2_14d.parquet')"
   ]
  },
  {
   "cell_type": "code",
   "execution_count": 9,
   "id": "181525c5-99bc-480c-befa-d0860504a3ed",
   "metadata": {},
   "outputs": [],
   "source": [
    "als_all_28 = pl.read_csv(f'{DATA_DIR}/28d-back-als-all.csv')\n",
    "als_contact_28 = pl.read_csv(f'{DATA_DIR}/28d-back-als-contact.csv')\n",
    "als_user_emb_28 = pl.read_parquet(f'{DATA_DIR}/als_user_emb_28d.pq')\n",
    "als_item_emb_28 = pl.read_parquet(f'{DATA_DIR}/als_item_emb_28d.pq')\n",
    "als_17_user_emb_28 = pl.read_parquet(f'{DATA_DIR}/als_17_user_emb_28d.pq')\n",
    "als_17_item_emb_28 = pl.read_parquet(f'{DATA_DIR}/als_17_item_emb_28d.pq')\n",
    "i2i_seq_all_28 = pl.read_parquet(f'{DATA_DIR}/i2i_17_28d.pq')\n",
    "i2i_seq_contact_28 = pl.read_parquet(f'{DATA_DIR}/i2i_11_28d.pq')\n",
    "i2i_df_28 = pl.read_parquet(f'{DATA_DIR}/i2i_28d.pq')\n",
    "\n",
    "avg_text_node_28 = pl.read_parquet(f'{DATA_DIR}/avg_text_node_28d.parquet')\n",
    "avg_text_cookie_28 = pl.read_parquet(f'{DATA_DIR}/cluster_text_cookie_28d.parquet')\n",
    "last_text_cookie_28 = pl.read_parquet(f'{DATA_DIR}/last_item_text_cookie_28d.parquet')\n",
    "topk_avg_text_cookie_28 = pl.read_csv(f'{DATA_DIR}/cluster_text_pred_28d.csv')\n",
    "topk_last_text_cookie_28 = pl.read_csv(f'{DATA_DIR}/last_item_text_pred_28d.csv')\n",
    "graph_pred_28 = pl.read_parquet(f'{DATA_DIR}/top300_graph_emb_28d.pq')\n",
    "graph_item_emb_28 = pl.read_parquet(f'{DATA_DIR}/item_graph_emb_28d.pq')\n",
    "graph_user_emb_28 = pl.read_parquet(f'{DATA_DIR}/user_graph_emb_28d.pq')\n",
    "tag_cosine_28 = pl.read_parquet(f'{DATA_DIR}/top300_tag_cosine1_28d.pq')\n",
    "tag_emb_cookie_28 = pl.read_parquet(f'{DATA_DIR}/tag_cosine_cookie_28d.pq')\n",
    "tag_emb_node_28 = pl.read_parquet(f'{DATA_DIR}/tag_cosine_node_28d.pq')\n",
    "transformer_28 = pl.read_parquet(f'{DATA_DIR}/transformer2_28d.parquet')"
   ]
  },
  {
   "cell_type": "code",
   "execution_count": 10,
   "id": "33c836ac-ad7b-4d1d-a390-be6f3ca433fd",
   "metadata": {},
   "outputs": [],
   "source": [
    "target = 'target'\n",
    "group_column = 'cookie'"
   ]
  },
  {
   "cell_type": "code",
   "execution_count": null,
   "id": "1357350b-e01e-403f-bc9d-848cb51a5727",
   "metadata": {},
   "outputs": [],
   "source": [
    "DAYS = 14\n",
    "dfs = {\n",
    "    key: read_any(DATA_DIR / tpl.format(d=DAYS))\n",
    "    for key, tpl in FILES.items()\n",
    "}\n",
    "\n",
    "# Build the arg list in the exact order create_features expects\n",
    "feature_args = [dfs[name] for name in ORDER]\n",
    "\n",
    "# Call as before\n",
    "df_14 = create_features(\n",
    "    df_events_14,\n",
    "    df_targets_14,\n",
    "    *feature_args,\n",
    "    subsample=SUBSAMPLE\n",
    ")"
   ]
  },
  {
   "cell_type": "code",
   "execution_count": 11,
   "id": "a3cb5326-e5d2-4155-a305-f33a5197bd4d",
   "metadata": {},
   "outputs": [
    {
     "name": "stdout",
     "output_type": "stream",
     "text": [
      "start scale\n",
      "end scale\n",
      "df built, retrieved 88493 items from 156112 overall, 0.5668558470841447% coverage1\n"
     ]
    }
   ],
   "source": [
    "df_14 = create_features(df_events_14, \n",
    "                         df_targets_14, \n",
    "                         als_all_14, \n",
    "                         als_user_emb_14,\n",
    "                         als_item_emb_14,\n",
    "                         als_contact_14, \n",
    "                         als_17_user_emb_14,\n",
    "                         als_17_item_emb_14,\n",
    "                         i2i_seq_all_14,\n",
    "                         i2i_seq_contact_14,\n",
    "                         avg_text_node_14,\n",
    "                         avg_text_cookie_14,\n",
    "                         last_text_cookie_14,\n",
    "                         topk_avg_text_cookie_14,\n",
    "                         topk_last_text_cookie_14,\n",
    "                         graph_pred_14,\n",
    "                         graph_item_emb_14,\n",
    "                         graph_user_emb_14,\n",
    "                         i2i_df_14,\n",
    "                         tag_cosine_14,\n",
    "                         tag_emb_cookie_14,\n",
    "                         tag_emb_node_14,\n",
    "                         transformer_14,\n",
    "                         subsample=SUBSAMPLE)"
   ]
  },
  {
   "cell_type": "code",
   "execution_count": 12,
   "id": "a59da9f8-4d4c-446a-8e83-e3e4f0eb0d47",
   "metadata": {},
   "outputs": [
    {
     "name": "stdout",
     "output_type": "stream",
     "text": [
      "start scale\n",
      "end scale\n",
      "df built, retrieved 89880 items from 154214 overall, 0.5828264619295265% coverage1\n"
     ]
    }
   ],
   "source": [
    "df_28 = create_features(df_events_28, \n",
    "                         df_targets_28, \n",
    "                         als_all_28, \n",
    "                         als_user_emb_28,\n",
    "                         als_item_emb_28,\n",
    "                         als_contact_28, \n",
    "                         als_17_user_emb_28,\n",
    "                         als_17_item_emb_28,\n",
    "                         i2i_seq_all_28,\n",
    "                         i2i_seq_contact_28,\n",
    "                         avg_text_node_28,\n",
    "                         avg_text_cookie_28,\n",
    "                         last_text_cookie_28,\n",
    "                         topk_avg_text_cookie_28,\n",
    "                         topk_last_text_cookie_28,\n",
    "                         graph_pred_28,\n",
    "                         graph_item_emb_28,\n",
    "                         graph_user_emb_28,\n",
    "                         i2i_df_28,\n",
    "                         tag_cosine_28,\n",
    "                         tag_emb_cookie_28,\n",
    "                         tag_emb_node_28,\n",
    "                         transformer_28,\n",
    "                         subsample=SUBSAMPLE)"
   ]
  },
  {
   "cell_type": "code",
   "execution_count": 13,
   "id": "8cb45e4f-eaf0-46be-972f-8970067a1dc6",
   "metadata": {},
   "outputs": [],
   "source": [
    "df_14 = df_14.with_columns(pl.lit(14).alias(\"lag\"))\n",
    "df_28 = df_28.with_columns(pl.lit(28).alias(\"lag\"))\n",
    "\n",
    "df = pl.concat([df_14, df_28], how=\"vertical\")"
   ]
  },
  {
   "cell_type": "code",
   "execution_count": 14,
   "id": "feef70bf-0eac-4b70-9bf5-de3dc6ab71d6",
   "metadata": {},
   "outputs": [
    {
     "data": {
      "text/html": [
       "<div><style>\n",
       ".dataframe > thead > tr,\n",
       ".dataframe > tbody > tr {\n",
       "  text-align: right;\n",
       "  white-space: pre-wrap;\n",
       "}\n",
       "</style>\n",
       "<small>shape: (2_503_025, 42)</small><table border=\"1\" class=\"dataframe\"><thead><tr><th>node</th><th>cookie</th><th>als-all</th><th>als-17</th><th>rank_category</th><th>rank_location</th><th>count_all_pop</th><th>count_contact</th><th>i2i_11_score</th><th>i2i_11_score_right</th><th>rank</th><th>rank_last_item</th><th>rank_right</th><th>i2i_score</th><th>tag_score</th><th>proba</th><th>count_all</th><th>contact_all</th><th>contact_ratio</th><th>user_location</th><th>user_category</th><th>num_contacts</th><th>num_events</th><th>surface_unique_counts</th><th>location_unique_counts</th><th>count_location</th><th>count_category</th><th>event</th><th>target</th><th>dot_centroid</th><th>dot_last_item</th><th>dot_als</th><th>dot_als_17</th><th>dot_graph</th><th>dot_tag_score</th><th>last_node</th><th>avg_node</th><th>last_node_diff</th><th>avg_node_diff</th><th>last_contact_node</th><th>last_contact_node_diff</th><th>lag</th></tr><tr><td>i64</td><td>i64</td><td>f64</td><td>f64</td><td>f64</td><td>f64</td><td>f64</td><td>f64</td><td>f64</td><td>f64</td><td>f64</td><td>f64</td><td>f64</td><td>f64</td><td>f64</td><td>f64</td><td>f64</td><td>f64</td><td>f64</td><td>i64</td><td>i64</td><td>f64</td><td>f64</td><td>f64</td><td>f64</td><td>f64</td><td>f64</td><td>i64</td><td>i32</td><td>f32</td><td>f32</td><td>f32</td><td>f32</td><td>f32</td><td>f64</td><td>u32</td><td>f64</td><td>i64</td><td>f64</td><td>u32</td><td>i64</td><td>i32</td></tr></thead><tbody><tr><td>130853</td><td>72750</td><td>null</td><td>null</td><td>null</td><td>null</td><td>null</td><td>null</td><td>null</td><td>null</td><td>null</td><td>null</td><td>null</td><td>null</td><td>0.329281</td><td>null</td><td>0.100178</td><td>0.100086</td><td>0.107226</td><td>7530</td><td>7</td><td>0.106363</td><td>0.124287</td><td>0.683333</td><td>0.126242</td><td>null</td><td>null</td><td>null</td><td>0</td><td>12.332542</td><td>11.815451</td><td>0.003975</td><td>-0.000872</td><td>0.022317</td><td>0.229281</td><td>202602</td><td>72655.665871</td><td>71749</td><td>58197.334129</td><td>44437</td><td>86416</td><td>14</td></tr><tr><td>122327</td><td>100253</td><td>0.370635</td><td>0.146374</td><td>null</td><td>null</td><td>null</td><td>null</td><td>0.103489</td><td>null</td><td>null</td><td>null</td><td>0.922742</td><td>0.124708</td><td>null</td><td>0.106645</td><td>0.123015</td><td>0.150316</td><td>0.132813</td><td>4545</td><td>35</td><td>0.103181</td><td>0.166353</td><td>0.683333</td><td>0.145923</td><td>0.101303</td><td>null</td><td>null</td><td>0</td><td>12.43658</td><td>13.436519</td><td>0.911341</td><td>0.083877</td><td>1.5955</td><td>0.219215</td><td>71518</td><td>182848.848644</td><td>50809</td><td>60521.848644</td><td>234906</td><td>112579</td><td>14</td></tr><tr><td>345062</td><td>142064</td><td>null</td><td>null</td><td>null</td><td>null</td><td>null</td><td>null</td><td>null</td><td>null</td><td>null</td><td>null</td><td>null</td><td>null</td><td>0.295366</td><td>null</td><td>0.100959</td><td>0.102257</td><td>0.135299</td><td>6199</td><td>7</td><td>0.101591</td><td>0.126437</td><td>0.683333</td><td>0.130928</td><td>0.100084</td><td>null</td><td>null</td><td>0</td><td>12.481132</td><td>11.023561</td><td>0.091073</td><td>0.012105</td><td>0.131555</td><td>0.195366</td><td>214253</td><td>151338.953947</td><td>130809</td><td>193723.046053</td><td>71515</td><td>273547</td><td>14</td></tr><tr><td>122326</td><td>53495</td><td>null</td><td>0.108165</td><td>null</td><td>0.128112</td><td>null</td><td>null</td><td>0.100987</td><td>null</td><td>null</td><td>null</td><td>null</td><td>null</td><td>null</td><td>null</td><td>0.117282</td><td>0.16062</td><td>0.152645</td><td>5069</td><td>31</td><td>0.1</td><td>0.102382</td><td>0.433333</td><td>0.109372</td><td>0.100345</td><td>null</td><td>null</td><td>0</td><td>9.993291</td><td>7.513049</td><td>0.000472</td><td>0.014782</td><td>0.696836</td><td>0.0</td><td>284141</td><td>152187.547619</td><td>161815</td><td>29861.547619</td><td>null</td><td>null</td><td>14</td></tr><tr><td>71546</td><td>67272</td><td>null</td><td>null</td><td>null</td><td>0.112048</td><td>0.36554</td><td>0.549695</td><td>0.111917</td><td>0.114198</td><td>null</td><td>null</td><td>0.1</td><td>0.192978</td><td>null</td><td>0.111676</td><td>0.392964</td><td>0.617859</td><td>0.126531</td><td>8458</td><td>24</td><td>0.104772</td><td>0.109761</td><td>0.433333</td><td>0.114995</td><td>0.119095</td><td>null</td><td>null</td><td>0</td><td>12.936415</td><td>13.799674</td><td>0.042838</td><td>-0.00258</td><td>3.675938</td><td>0.001391</td><td>214316</td><td>140899.431953</td><td>142770</td><td>69353.431953</td><td>115659</td><td>44113</td><td>14</td></tr><tr><td>&hellip;</td><td>&hellip;</td><td>&hellip;</td><td>&hellip;</td><td>&hellip;</td><td>&hellip;</td><td>&hellip;</td><td>&hellip;</td><td>&hellip;</td><td>&hellip;</td><td>&hellip;</td><td>&hellip;</td><td>&hellip;</td><td>&hellip;</td><td>&hellip;</td><td>&hellip;</td><td>&hellip;</td><td>&hellip;</td><td>&hellip;</td><td>&hellip;</td><td>&hellip;</td><td>&hellip;</td><td>&hellip;</td><td>&hellip;</td><td>&hellip;</td><td>&hellip;</td><td>&hellip;</td><td>&hellip;</td><td>&hellip;</td><td>&hellip;</td><td>&hellip;</td><td>&hellip;</td><td>&hellip;</td><td>&hellip;</td><td>&hellip;</td><td>&hellip;</td><td>&hellip;</td><td>&hellip;</td><td>&hellip;</td><td>&hellip;</td><td>&hellip;</td><td>&hellip;</td></tr><tr><td>1925</td><td>127429</td><td>null</td><td>null</td><td>null</td><td>null</td><td>null</td><td>null</td><td>null</td><td>null</td><td>null</td><td>null</td><td>null</td><td>null</td><td>null</td><td>0.10356</td><td>0.105107</td><td>0.122997</td><td>0.167589</td><td>2348</td><td>24</td><td>0.112195</td><td>0.136256</td><td>0.683333</td><td>0.131865</td><td>0.115031</td><td>null</td><td>10</td><td>1</td><td>10.457757</td><td>11.062087</td><td>0.079045</td><td>0.035876</td><td>1.093802</td><td>0.0</td><td>303463</td><td>133432.376</td><td>301538</td><td>131507.376</td><td>5742</td><td>3817</td><td>14</td></tr><tr><td>152705</td><td>117905</td><td>null</td><td>null</td><td>null</td><td>null</td><td>null</td><td>null</td><td>null</td><td>null</td><td>null</td><td>null</td><td>null</td><td>null</td><td>null</td><td>0.10222</td><td>0.11449</td><td>0.115664</td><td>0.116225</td><td>3707</td><td>6</td><td>0.103181</td><td>0.104881</td><td>0.35</td><td>0.114995</td><td>0.100756</td><td>null</td><td>10</td><td>1</td><td>9.423779</td><td>11.727062</td><td>0.042456</td><td>0.009466</td><td>0.404166</td><td>0.0</td><td>44019</td><td>89685.658824</td><td>108686</td><td>63019.341176</td><td>57716</td><td>94989</td><td>14</td></tr><tr><td>194841</td><td>57435</td><td>null</td><td>null</td><td>null</td><td>null</td><td>null</td><td>null</td><td>null</td><td>null</td><td>null</td><td>null</td><td>null</td><td>null</td><td>null</td><td>0.101789</td><td>0.103536</td><td>0.124335</td><td>0.20329</td><td>4528</td><td>53</td><td>0.113786</td><td>0.180414</td><td>0.766667</td><td>0.162793</td><td>0.100227</td><td>null</td><td>4</td><td>1</td><td>11.555828</td><td>14.310779</td><td>0.021335</td><td>0.001003</td><td>0.565358</td><td>0.000618</td><td>218478</td><td>216308.359567</td><td>23637</td><td>21467.359567</td><td>290456</td><td>95615</td><td>14</td></tr><tr><td>214221</td><td>98702</td><td>null</td><td>null</td><td>null</td><td>null</td><td>null</td><td>null</td><td>null</td><td>null</td><td>null</td><td>null</td><td>null</td><td>null</td><td>null</td><td>0.113029</td><td>0.105242</td><td>0.169885</td><td>0.30007</td><td>8383</td><td>40</td><td>0.101591</td><td>0.127831</td><td>0.516667</td><td>0.161856</td><td>0.100732</td><td>null</td><td>5</td><td>1</td><td>9.388001</td><td>13.153259</td><td>-0.075719</td><td>0.003423</td><td>0.546864</td><td>0.0</td><td>71521</td><td>132448.870833</td><td>142700</td><td>81772.129167</td><td>153380</td><td>60841</td><td>14</td></tr><tr><td>120297</td><td>65883</td><td>null</td><td>null</td><td>null</td><td>null</td><td>null</td><td>null</td><td>null</td><td>null</td><td>null</td><td>null</td><td>null</td><td>null</td><td>null</td><td>0.102478</td><td>0.106348</td><td>0.116142</td><td>0.138161</td><td>8256</td><td>37</td><td>0.108484</td><td>0.119697</td><td>0.516667</td><td>0.118744</td><td>0.100879</td><td>null</td><td>10</td><td>1</td><td>10.308086</td><td>10.706747</td><td>0.144747</td><td>0.05571</td><td>0.356527</td><td>0.171198</td><td>214236</td><td>133207.305882</td><td>93939</td><td>12910.305882</td><td>214239</td><td>93942</td><td>14</td></tr></tbody></table></div>"
      ],
      "text/plain": [
       "shape: (2_503_025, 42)\n",
       "┌────────┬────────┬──────────┬──────────┬───┬───────────────┬────────────────┬───────────────┬─────┐\n",
       "│ node   ┆ cookie ┆ als-all  ┆ als-17   ┆ … ┆ avg_node_diff ┆ last_contact_n ┆ last_contact_ ┆ lag │\n",
       "│ ---    ┆ ---    ┆ ---      ┆ ---      ┆   ┆ ---           ┆ ode            ┆ node_diff     ┆ --- │\n",
       "│ i64    ┆ i64    ┆ f64      ┆ f64      ┆   ┆ f64           ┆ ---            ┆ ---           ┆ i32 │\n",
       "│        ┆        ┆          ┆          ┆   ┆               ┆ u32            ┆ i64           ┆     │\n",
       "╞════════╪════════╪══════════╪══════════╪═══╪═══════════════╪════════════════╪═══════════════╪═════╡\n",
       "│ 130853 ┆ 72750  ┆ null     ┆ null     ┆ … ┆ 58197.334129  ┆ 44437          ┆ 86416         ┆ 14  │\n",
       "│ 122327 ┆ 100253 ┆ 0.370635 ┆ 0.146374 ┆ … ┆ 60521.848644  ┆ 234906         ┆ 112579        ┆ 14  │\n",
       "│ 345062 ┆ 142064 ┆ null     ┆ null     ┆ … ┆ 193723.046053 ┆ 71515          ┆ 273547        ┆ 14  │\n",
       "│ 122326 ┆ 53495  ┆ null     ┆ 0.108165 ┆ … ┆ 29861.547619  ┆ null           ┆ null          ┆ 14  │\n",
       "│ 71546  ┆ 67272  ┆ null     ┆ null     ┆ … ┆ 69353.431953  ┆ 115659         ┆ 44113         ┆ 14  │\n",
       "│ …      ┆ …      ┆ …        ┆ …        ┆ … ┆ …             ┆ …              ┆ …             ┆ …   │\n",
       "│ 1925   ┆ 127429 ┆ null     ┆ null     ┆ … ┆ 131507.376    ┆ 5742           ┆ 3817          ┆ 14  │\n",
       "│ 152705 ┆ 117905 ┆ null     ┆ null     ┆ … ┆ 63019.341176  ┆ 57716          ┆ 94989         ┆ 14  │\n",
       "│ 194841 ┆ 57435  ┆ null     ┆ null     ┆ … ┆ 21467.359567  ┆ 290456         ┆ 95615         ┆ 14  │\n",
       "│ 214221 ┆ 98702  ┆ null     ┆ null     ┆ … ┆ 81772.129167  ┆ 153380         ┆ 60841         ┆ 14  │\n",
       "│ 120297 ┆ 65883  ┆ null     ┆ null     ┆ … ┆ 12910.305882  ┆ 214239         ┆ 93942         ┆ 14  │\n",
       "└────────┴────────┴──────────┴──────────┴───┴───────────────┴────────────────┴───────────────┴─────┘"
      ]
     },
     "execution_count": 14,
     "metadata": {},
     "output_type": "execute_result"
    }
   ],
   "source": [
    "df_14"
   ]
  },
  {
   "cell_type": "code",
   "execution_count": 15,
   "id": "e32bf4f4-325a-4cf2-96ea-a95b67744355",
   "metadata": {},
   "outputs": [
    {
     "data": {
      "text/plain": [
       "['node',\n",
       " 'cookie',\n",
       " 'als-all',\n",
       " 'als-17',\n",
       " 'rank_category',\n",
       " 'rank_location',\n",
       " 'count_all_pop',\n",
       " 'count_contact',\n",
       " 'i2i_11_score',\n",
       " 'i2i_11_score_right',\n",
       " 'rank',\n",
       " 'rank_last_item',\n",
       " 'rank_right',\n",
       " 'i2i_score',\n",
       " 'tag_score',\n",
       " 'proba',\n",
       " 'count_all',\n",
       " 'contact_all',\n",
       " 'contact_ratio',\n",
       " 'user_location',\n",
       " 'user_category',\n",
       " 'num_contacts',\n",
       " 'num_events',\n",
       " 'surface_unique_counts',\n",
       " 'location_unique_counts',\n",
       " 'count_location',\n",
       " 'count_category',\n",
       " 'dot_centroid',\n",
       " 'dot_last_item',\n",
       " 'dot_als',\n",
       " 'dot_als_17',\n",
       " 'dot_graph',\n",
       " 'dot_tag_score',\n",
       " 'last_node',\n",
       " 'avg_node',\n",
       " 'last_node_diff',\n",
       " 'avg_node_diff',\n",
       " 'last_contact_node',\n",
       " 'last_contact_node_diff']"
      ]
     },
     "execution_count": 15,
     "metadata": {},
     "output_type": "execute_result"
    }
   ],
   "source": [
    "features = [i for i in df.columns if i not in ['event', 'target', 'lag']]\n",
    "cat_features = ['user_location', 'user_category', 'node', 'cookie', 'last_node', 'last_contact_node']\n",
    "features"
   ]
  },
  {
   "cell_type": "code",
   "execution_count": 16,
   "id": "7a0037e4-3ebb-4360-813f-7489dfd6965b",
   "metadata": {},
   "outputs": [],
   "source": [
    "params_cb = {\n",
    "    'loss_function': \"YetiRank\", \n",
    "    'iterations': 4000,\n",
    "    'depth': 6,\n",
    "    'learning_rate': 0.05,\n",
    "    'verbose': False\n",
    "}"
   ]
  },
  {
   "cell_type": "code",
   "execution_count": 17,
   "id": "9098d4f0-f6a1-4050-9399-1f60aed37e5d",
   "metadata": {},
   "outputs": [],
   "source": [
    "als_all1 = pl.read_csv(f'{DATA_DIR}/als-all.csv')\n",
    "als_contact1 = pl.read_csv(f'{DATA_DIR}/als-contact.csv')\n",
    "als_user_emb1 = pl.read_parquet(f'{DATA_DIR}/als_user_emb.pq')\n",
    "als_item_emb1 = pl.read_parquet(f'{DATA_DIR}/als_item_emb.pq')\n",
    "als_17_user_emb1 = pl.read_parquet(f'{DATA_DIR}/als_user_emb.pq')\n",
    "als_17_item_emb1 = pl.read_parquet(f'{DATA_DIR}/als_item_emb.pq')\n",
    "i2i_df1 = pl.read_parquet(f'{DATA_DIR}/i2i.pq')\n",
    "\n",
    "i2i_seq_all1 = pl.read_parquet(f'{DATA_DIR}/i2i_17.pq')\n",
    "i2i_seq_contact1 = pl.read_parquet(f'{DATA_DIR}/i2i_11.pq')\n",
    "\n",
    "avg_text_node1 = pl.read_parquet(f'{DATA_DIR}/avg_text_node.parquet')\n",
    "avg_text_cookie1 = pl.read_parquet(f'{DATA_DIR}/cluster_text_cookie.parquet')\n",
    "last_text_cookie1 = pl.read_parquet(f'{DATA_DIR}/last_item_text_cookie.parquet')\n",
    "topk_avg_text_cookie1 = pl.read_csv(f'{DATA_DIR}/cluster_text_pred.csv')\n",
    "topk_last_text_cookie1 = pl.read_csv(f'{DATA_DIR}/last_item_text_pred.csv')\n",
    "graph_pred1 = pl.read_parquet(f'{DATA_DIR}/top300_graph_emb.pq')\n",
    "graph_item_emb1 = pl.read_parquet(f'{DATA_DIR}/item_graph_emb.pq')\n",
    "graph_user_emb1 = pl.read_parquet(f'{DATA_DIR}/user_graph_emb.pq')\n",
    "tag_cosine1 = pl.read_parquet(f'{DATA_DIR}/top300_tag_cosine1.pq')\n",
    "tag_emb_cookie1 = pl.read_parquet(f'{DATA_DIR}/tag_cosine_cookie.pq')\n",
    "tag_emb_node1 = pl.read_parquet(f'{DATA_DIR}/tag_cosine_node.pq')\n",
    "transformer1 = pl.read_parquet(f'{DATA_DIR}/transformer2.parquet')"
   ]
  },
  {
   "cell_type": "code",
   "execution_count": null,
   "id": "0b9c5de1-7663-43c7-8874-fe7c1a62900b",
   "metadata": {},
   "outputs": [
    {
     "name": "stdout",
     "output_type": "stream",
     "text": [
      "start scale\n",
      "end scale\n"
     ]
    }
   ],
   "source": [
    "sub_df = create_features(df_clickstream, \n",
    "                         df_test_users, \n",
    "                         als_all1, \n",
    "                         als_user_emb1,\n",
    "                         als_item_emb1,\n",
    "                         als_contact1, \n",
    "                         als_17_user_emb1,\n",
    "                         als_17_item_emb1,\n",
    "                         i2i_seq_all1,\n",
    "                         i2i_seq_contact1,\n",
    "                         avg_text_node1,\n",
    "                         avg_text_cookie1,\n",
    "                         last_text_cookie1,\n",
    "                         topk_avg_text_cookie1,\n",
    "                         topk_last_text_cookie1,\n",
    "                         graph_pred1,\n",
    "                         graph_item_emb1,\n",
    "                         graph_user_emb1,\n",
    "                         i2i_df1,\n",
    "                         tag_cosine1,\n",
    "                         tag_emb_cookie1,\n",
    "                         tag_emb_node1,\n",
    "                         transformer1,\n",
    "                         is_submit=True)\n",
    "sub_df"
   ]
  },
  {
   "cell_type": "code",
   "execution_count": null,
   "id": "45377904-da4e-408e-831d-6e373e048dad",
   "metadata": {},
   "outputs": [],
   "source": [
    "sub_df = sub_df.filter(pl.col('cookie').is_in(df_test_users))"
   ]
  },
  {
   "cell_type": "code",
   "execution_count": 27,
   "id": "db0b19e2-2c6d-4af6-a7ea-2f8e21cf5b0b",
   "metadata": {},
   "outputs": [],
   "source": [
    "for col in cat_features:\n",
    "    df = df.with_columns(pl.col(col).fill_null(-1).cast(pl.Int64))\n",
    "    sub_df = sub_df.with_columns(pl.col(col).fill_null(-1).cast(pl.Int64))\n",
    "    df = df.with_columns(pl.col(col).cast(pl.Int64))\n",
    "    sub_df = sub_df.with_columns(pl.col(col).cast(pl.Int64))"
   ]
  },
  {
   "cell_type": "code",
   "execution_count": 28,
   "id": "b1664190-c067-4af4-9692-73b507763025",
   "metadata": {},
   "outputs": [
    {
     "data": {
      "text/html": [
       "<div><style>\n",
       ".dataframe > thead > tr,\n",
       ".dataframe > tbody > tr {\n",
       "  text-align: right;\n",
       "  white-space: pre-wrap;\n",
       "}\n",
       "</style>\n",
       "<small>shape: (4_980_370, 42)</small><table border=\"1\" class=\"dataframe\"><thead><tr><th>node</th><th>cookie</th><th>als-all</th><th>als-17</th><th>rank_category</th><th>rank_location</th><th>count_all_pop</th><th>count_contact</th><th>i2i_11_score</th><th>i2i_11_score_right</th><th>rank</th><th>rank_last_item</th><th>rank_right</th><th>i2i_score</th><th>tag_score</th><th>proba</th><th>count_all</th><th>contact_all</th><th>contact_ratio</th><th>user_location</th><th>user_category</th><th>num_contacts</th><th>num_events</th><th>surface_unique_counts</th><th>location_unique_counts</th><th>count_location</th><th>count_category</th><th>event</th><th>target</th><th>dot_centroid</th><th>dot_last_item</th><th>dot_als</th><th>dot_als_17</th><th>dot_graph</th><th>dot_tag_score</th><th>last_node</th><th>avg_node</th><th>last_node_diff</th><th>avg_node_diff</th><th>last_contact_node</th><th>last_contact_node_diff</th><th>lag</th></tr><tr><td>i64</td><td>i64</td><td>f64</td><td>f64</td><td>f64</td><td>f64</td><td>f64</td><td>f64</td><td>f64</td><td>f64</td><td>f64</td><td>f64</td><td>f64</td><td>f64</td><td>f64</td><td>f64</td><td>f64</td><td>f64</td><td>f64</td><td>i64</td><td>i64</td><td>f64</td><td>f64</td><td>f64</td><td>f64</td><td>f64</td><td>f64</td><td>i64</td><td>i32</td><td>f32</td><td>f32</td><td>f32</td><td>f32</td><td>f32</td><td>f64</td><td>i64</td><td>f64</td><td>i64</td><td>f64</td><td>i64</td><td>i64</td><td>i32</td></tr></thead><tbody><tr><td>130853</td><td>72750</td><td>null</td><td>null</td><td>null</td><td>null</td><td>null</td><td>null</td><td>null</td><td>null</td><td>null</td><td>null</td><td>null</td><td>null</td><td>0.329281</td><td>null</td><td>0.100178</td><td>0.100086</td><td>0.107226</td><td>7530</td><td>7</td><td>0.106363</td><td>0.124287</td><td>0.683333</td><td>0.126242</td><td>null</td><td>null</td><td>null</td><td>0</td><td>12.332542</td><td>11.815451</td><td>0.003975</td><td>-0.000872</td><td>0.022317</td><td>0.229281</td><td>202602</td><td>72655.665871</td><td>71749</td><td>58197.334129</td><td>44437</td><td>86416</td><td>14</td></tr><tr><td>122327</td><td>100253</td><td>0.370635</td><td>0.146374</td><td>null</td><td>null</td><td>null</td><td>null</td><td>0.103489</td><td>null</td><td>null</td><td>null</td><td>0.922742</td><td>0.124708</td><td>null</td><td>0.106645</td><td>0.123015</td><td>0.150316</td><td>0.132813</td><td>4545</td><td>35</td><td>0.103181</td><td>0.166353</td><td>0.683333</td><td>0.145923</td><td>0.101303</td><td>null</td><td>null</td><td>0</td><td>12.43658</td><td>13.436519</td><td>0.911341</td><td>0.083877</td><td>1.5955</td><td>0.219215</td><td>71518</td><td>182848.848644</td><td>50809</td><td>60521.848644</td><td>234906</td><td>112579</td><td>14</td></tr><tr><td>345062</td><td>142064</td><td>null</td><td>null</td><td>null</td><td>null</td><td>null</td><td>null</td><td>null</td><td>null</td><td>null</td><td>null</td><td>null</td><td>null</td><td>0.295366</td><td>null</td><td>0.100959</td><td>0.102257</td><td>0.135299</td><td>6199</td><td>7</td><td>0.101591</td><td>0.126437</td><td>0.683333</td><td>0.130928</td><td>0.100084</td><td>null</td><td>null</td><td>0</td><td>12.481132</td><td>11.023561</td><td>0.091073</td><td>0.012105</td><td>0.131555</td><td>0.195366</td><td>214253</td><td>151338.953947</td><td>130809</td><td>193723.046053</td><td>71515</td><td>273547</td><td>14</td></tr><tr><td>122326</td><td>53495</td><td>null</td><td>0.108165</td><td>null</td><td>0.128112</td><td>null</td><td>null</td><td>0.100987</td><td>null</td><td>null</td><td>null</td><td>null</td><td>null</td><td>null</td><td>null</td><td>0.117282</td><td>0.16062</td><td>0.152645</td><td>5069</td><td>31</td><td>0.1</td><td>0.102382</td><td>0.433333</td><td>0.109372</td><td>0.100345</td><td>null</td><td>null</td><td>0</td><td>9.993291</td><td>7.513049</td><td>0.000472</td><td>0.014782</td><td>0.696836</td><td>0.0</td><td>284141</td><td>152187.547619</td><td>161815</td><td>29861.547619</td><td>-1</td><td>null</td><td>14</td></tr><tr><td>71546</td><td>67272</td><td>null</td><td>null</td><td>null</td><td>0.112048</td><td>0.36554</td><td>0.549695</td><td>0.111917</td><td>0.114198</td><td>null</td><td>null</td><td>0.1</td><td>0.192978</td><td>null</td><td>0.111676</td><td>0.392964</td><td>0.617859</td><td>0.126531</td><td>8458</td><td>24</td><td>0.104772</td><td>0.109761</td><td>0.433333</td><td>0.114995</td><td>0.119095</td><td>null</td><td>null</td><td>0</td><td>12.936415</td><td>13.799674</td><td>0.042838</td><td>-0.00258</td><td>3.675938</td><td>0.001391</td><td>214316</td><td>140899.431953</td><td>142770</td><td>69353.431953</td><td>115659</td><td>44113</td><td>14</td></tr><tr><td>&hellip;</td><td>&hellip;</td><td>&hellip;</td><td>&hellip;</td><td>&hellip;</td><td>&hellip;</td><td>&hellip;</td><td>&hellip;</td><td>&hellip;</td><td>&hellip;</td><td>&hellip;</td><td>&hellip;</td><td>&hellip;</td><td>&hellip;</td><td>&hellip;</td><td>&hellip;</td><td>&hellip;</td><td>&hellip;</td><td>&hellip;</td><td>&hellip;</td><td>&hellip;</td><td>&hellip;</td><td>&hellip;</td><td>&hellip;</td><td>&hellip;</td><td>&hellip;</td><td>&hellip;</td><td>&hellip;</td><td>&hellip;</td><td>&hellip;</td><td>&hellip;</td><td>&hellip;</td><td>&hellip;</td><td>&hellip;</td><td>&hellip;</td><td>&hellip;</td><td>&hellip;</td><td>&hellip;</td><td>&hellip;</td><td>&hellip;</td><td>&hellip;</td><td>&hellip;</td></tr><tr><td>161726</td><td>14833</td><td>null</td><td>null</td><td>null</td><td>null</td><td>null</td><td>null</td><td>null</td><td>null</td><td>null</td><td>null</td><td>null</td><td>null</td><td>null</td><td>0.105899</td><td>0.100803</td><td>0.102431</td><td>0.144565</td><td>2348</td><td>59</td><td>0.1</td><td>0.101763</td><td>0.190909</td><td>0.109901</td><td>0.101</td><td>null</td><td>10</td><td>1</td><td>11.73789</td><td>11.241702</td><td>0.004364</td><td>null</td><td>0.073187</td><td>0.0</td><td>214216</td><td>175978.333333</td><td>52490</td><td>14252.333333</td><td>-1</td><td>null</td><td>28</td></tr><tr><td>153137</td><td>58731</td><td>null</td><td>null</td><td>null</td><td>null</td><td>null</td><td>null</td><td>null</td><td>null</td><td>null</td><td>null</td><td>null</td><td>null</td><td>null</td><td>0.104285</td><td>0.111154</td><td>0.110041</td><td>0.113272</td><td>6798</td><td>51</td><td>0.107114</td><td>0.147402</td><td>0.463636</td><td>0.223212</td><td>0.100598</td><td>null</td><td>10</td><td>1</td><td>11.758527</td><td>13.268492</td><td>0.004505</td><td>-0.029466</td><td>0.153475</td><td>0.49999</td><td>120263</td><td>204075.862445</td><td>32874</td><td>50938.862445</td><td>230739</td><td>77602</td><td>28</td></tr><tr><td>43169</td><td>72842</td><td>null</td><td>null</td><td>null</td><td>null</td><td>null</td><td>null</td><td>null</td><td>null</td><td>null</td><td>null</td><td>null</td><td>null</td><td>null</td><td>0.119954</td><td>0.109603</td><td>0.118571</td><td>0.128514</td><td>2348</td><td>40</td><td>0.113211</td><td>0.128213</td><td>0.463636</td><td>0.183608</td><td>0.105317</td><td>null</td><td>15</td><td>1</td><td>9.220644</td><td>10.885252</td><td>0.005933</td><td>0.021991</td><td>0.219829</td><td>0.009468</td><td>243180</td><td>191530.197802</td><td>200011</td><td>148361.197802</td><td>152470</td><td>109301</td><td>28</td></tr><tr><td>122397</td><td>62571</td><td>null</td><td>null</td><td>null</td><td>null</td><td>null</td><td>null</td><td>null</td><td>null</td><td>null</td><td>null</td><td>null</td><td>null</td><td>null</td><td>0.104936</td><td>0.112855</td><td>0.126241</td><td>0.130099</td><td>1033</td><td>57</td><td>0.115244</td><td>0.110269</td><td>0.372727</td><td>0.127503</td><td>0.100097</td><td>null</td><td>10</td><td>1</td><td>10.449804</td><td>13.676293</td><td>-0.035758</td><td>0.010198</td><td>-0.040163</td><td>0.000001</td><td>114231</td><td>182555.28</td><td>8166</td><td>60158.28</td><td>113966</td><td>8431</td><td>28</td></tr><tr><td>194712</td><td>20330</td><td>null</td><td>null</td><td>null</td><td>null</td><td>null</td><td>null</td><td>null</td><td>null</td><td>null</td><td>null</td><td>null</td><td>null</td><td>null</td><td>0.121395</td><td>0.103431</td><td>0.122792</td><td>0.197935</td><td>8256</td><td>6</td><td>0.130488</td><td>0.150825</td><td>0.645455</td><td>0.158306</td><td>0.100941</td><td>null</td><td>4</td><td>1</td><td>8.207786</td><td>4.350145</td><td>-0.057669</td><td>-0.016737</td><td>0.753395</td><td>0.016386</td><td>2467</td><td>84337.670061</td><td>192245</td><td>110374.329939</td><td>57920</td><td>136792</td><td>28</td></tr></tbody></table></div>"
      ],
      "text/plain": [
       "shape: (4_980_370, 42)\n",
       "┌────────┬────────┬──────────┬──────────┬───┬───────────────┬────────────────┬───────────────┬─────┐\n",
       "│ node   ┆ cookie ┆ als-all  ┆ als-17   ┆ … ┆ avg_node_diff ┆ last_contact_n ┆ last_contact_ ┆ lag │\n",
       "│ ---    ┆ ---    ┆ ---      ┆ ---      ┆   ┆ ---           ┆ ode            ┆ node_diff     ┆ --- │\n",
       "│ i64    ┆ i64    ┆ f64      ┆ f64      ┆   ┆ f64           ┆ ---            ┆ ---           ┆ i32 │\n",
       "│        ┆        ┆          ┆          ┆   ┆               ┆ i64            ┆ i64           ┆     │\n",
       "╞════════╪════════╪══════════╪══════════╪═══╪═══════════════╪════════════════╪═══════════════╪═════╡\n",
       "│ 130853 ┆ 72750  ┆ null     ┆ null     ┆ … ┆ 58197.334129  ┆ 44437          ┆ 86416         ┆ 14  │\n",
       "│ 122327 ┆ 100253 ┆ 0.370635 ┆ 0.146374 ┆ … ┆ 60521.848644  ┆ 234906         ┆ 112579        ┆ 14  │\n",
       "│ 345062 ┆ 142064 ┆ null     ┆ null     ┆ … ┆ 193723.046053 ┆ 71515          ┆ 273547        ┆ 14  │\n",
       "│ 122326 ┆ 53495  ┆ null     ┆ 0.108165 ┆ … ┆ 29861.547619  ┆ -1             ┆ null          ┆ 14  │\n",
       "│ 71546  ┆ 67272  ┆ null     ┆ null     ┆ … ┆ 69353.431953  ┆ 115659         ┆ 44113         ┆ 14  │\n",
       "│ …      ┆ …      ┆ …        ┆ …        ┆ … ┆ …             ┆ …              ┆ …             ┆ …   │\n",
       "│ 161726 ┆ 14833  ┆ null     ┆ null     ┆ … ┆ 14252.333333  ┆ -1             ┆ null          ┆ 28  │\n",
       "│ 153137 ┆ 58731  ┆ null     ┆ null     ┆ … ┆ 50938.862445  ┆ 230739         ┆ 77602         ┆ 28  │\n",
       "│ 43169  ┆ 72842  ┆ null     ┆ null     ┆ … ┆ 148361.197802 ┆ 152470         ┆ 109301        ┆ 28  │\n",
       "│ 122397 ┆ 62571  ┆ null     ┆ null     ┆ … ┆ 60158.28      ┆ 113966         ┆ 8431          ┆ 28  │\n",
       "│ 194712 ┆ 20330  ┆ null     ┆ null     ┆ … ┆ 110374.329939 ┆ 57920          ┆ 136792        ┆ 28  │\n",
       "└────────┴────────┴──────────┴──────────┴───┴───────────────┴────────────────┴───────────────┴─────┘"
      ]
     },
     "execution_count": 28,
     "metadata": {},
     "output_type": "execute_result"
    }
   ],
   "source": [
    "df"
   ]
  },
  {
   "cell_type": "code",
   "execution_count": 29,
   "id": "80d3e735-a120-42bc-8609-190b71e505f0",
   "metadata": {
    "scrolled": true
   },
   "outputs": [
    {
     "name": "stderr",
     "output_type": "stream",
     "text": [
      "/home/r.nesterov/miniconda3/envs/env310/lib/python3.10/site-packages/lightgbm/engine.py:204: UserWarning: Found `num_boost_round` in params. Will use it instead of argument\n",
      "  _log_warning(f\"Found `{alias}` in params. Will use it instead of argument\")\n"
     ]
    },
    {
     "name": "stdout",
     "output_type": "stream",
     "text": [
      "[LightGBM] [Info] Total Bins 9148\n",
      "[LightGBM] [Info] Number of data points in the train set: 4980370, number of used features: 39\n"
     ]
    },
    {
     "name": "stderr",
     "output_type": "stream",
     "text": [
      "/home/r.nesterov/miniconda3/envs/env310/lib/python3.10/site-packages/lightgbm/basic.py:1218: UserWarning: Converting data to scipy sparse matrix.\n",
      "  _log_warning(\"Converting data to scipy sparse matrix.\")\n"
     ]
    },
    {
     "data": {
      "text/html": [
       "<div><style>\n",
       ".dataframe > thead > tr,\n",
       ".dataframe > tbody > tr {\n",
       "  text-align: right;\n",
       "  white-space: pre-wrap;\n",
       "}\n",
       "</style>\n",
       "<small>shape: (3_692_760, 3)</small><table border=\"1\" class=\"dataframe\"><thead><tr><th>cookie</th><th>node</th><th>pred</th></tr><tr><td>i64</td><td>i64</td><td>f64</td></tr></thead><tbody><tr><td>1</td><td>214377</td><td>2.137132</td></tr><tr><td>1</td><td>214339</td><td>2.110812</td></tr><tr><td>1</td><td>243177</td><td>2.106701</td></tr><tr><td>1</td><td>229418</td><td>2.065049</td></tr><tr><td>1</td><td>229353</td><td>2.036372</td></tr><tr><td>&hellip;</td><td>&hellip;</td><td>&hellip;</td></tr><tr><td>149999</td><td>120273</td><td>1.524545</td></tr><tr><td>149999</td><td>5746</td><td>1.489668</td></tr><tr><td>149999</td><td>130598</td><td>1.478941</td></tr><tr><td>149999</td><td>1906</td><td>1.442367</td></tr><tr><td>149999</td><td>51165</td><td>1.425916</td></tr></tbody></table></div>"
      ],
      "text/plain": [
       "shape: (3_692_760, 3)\n",
       "┌────────┬────────┬──────────┐\n",
       "│ cookie ┆ node   ┆ pred     │\n",
       "│ ---    ┆ ---    ┆ ---      │\n",
       "│ i64    ┆ i64    ┆ f64      │\n",
       "╞════════╪════════╪══════════╡\n",
       "│ 1      ┆ 214377 ┆ 2.137132 │\n",
       "│ 1      ┆ 214339 ┆ 2.110812 │\n",
       "│ 1      ┆ 243177 ┆ 2.106701 │\n",
       "│ 1      ┆ 229418 ┆ 2.065049 │\n",
       "│ 1      ┆ 229353 ┆ 2.036372 │\n",
       "│ …      ┆ …      ┆ …        │\n",
       "│ 149999 ┆ 120273 ┆ 1.524545 │\n",
       "│ 149999 ┆ 5746   ┆ 1.489668 │\n",
       "│ 149999 ┆ 130598 ┆ 1.478941 │\n",
       "│ 149999 ┆ 1906   ┆ 1.442367 │\n",
       "│ 149999 ┆ 51165  ┆ 1.425916 │\n",
       "└────────┴────────┴──────────┘"
      ]
     },
     "execution_count": 29,
     "metadata": {},
     "output_type": "execute_result"
    }
   ],
   "source": [
    "params = {\n",
    "    'objective': 'lambdarank',\n",
    "    'metric': 'ndcg',\n",
    "    'num_boost_round': 150,\n",
    "    'num_leaves': 63,\n",
    "    'max_bin': 255,\n",
    "    'min_data_in_leaf': 20,\n",
    "    'min_sum_hessian_in_leaf': 5.0,\n",
    "    'is_enable_sparse': True,\n",
    "    'learning_rate': 0.05,\n",
    "    'feature_fraction': 0.8,\n",
    "    'bagging_fraction': 0.8,\n",
    "    'bagging_freq': 5,\n",
    "    'force_row_wise': True,    # Important for ranking tasks\n",
    "}\n",
    "\n",
    "ranker = fit_lgb_ranker(df, features, cat_features, params, group_column=['lag', 'cookie'])\n",
    "\n",
    "predictions = ranker.predict(sub_df[features])\n",
    "\n",
    "sub_df = sub_df.with_columns(pred=pl.Series(predictions))\n",
    "\n",
    "top_40_per_cookie = (\n",
    "    sub_df\n",
    "    .sort([\"cookie\", \"pred\"], descending=[False, True])\n",
    "    .group_by(\"cookie\", maintain_order=True)\n",
    "    .head(40)\n",
    ")\n",
    "top_40_per_cookie.select('cookie', 'node', 'pred')"
   ]
  },
  {
   "cell_type": "code",
   "execution_count": 32,
   "id": "878e9192-bec9-4af7-88e1-9f034929ed91",
   "metadata": {},
   "outputs": [
    {
     "data": {
      "text/html": [
       "<div><style>\n",
       ".dataframe > thead > tr,\n",
       ".dataframe > tbody > tr {\n",
       "  text-align: right;\n",
       "  white-space: pre-wrap;\n",
       "}\n",
       "</style>\n",
       "<small>shape: (3_692_760, 40)</small><table border=\"1\" class=\"dataframe\"><thead><tr><th>cookie</th><th>node</th><th>als-all</th><th>als-17</th><th>rank_category</th><th>rank_location</th><th>count_all_pop</th><th>count_contact</th><th>i2i_11_score</th><th>i2i_11_score_right</th><th>rank</th><th>rank_last_item</th><th>rank_right</th><th>i2i_score</th><th>tag_score</th><th>proba</th><th>count_all</th><th>contact_all</th><th>contact_ratio</th><th>user_location</th><th>user_category</th><th>num_contacts</th><th>num_events</th><th>surface_unique_counts</th><th>location_unique_counts</th><th>count_location</th><th>count_category</th><th>dot_centroid</th><th>dot_last_item</th><th>dot_als</th><th>dot_als_17</th><th>dot_graph</th><th>dot_tag_score</th><th>last_node</th><th>avg_node</th><th>last_node_diff</th><th>avg_node_diff</th><th>last_contact_node</th><th>last_contact_node_diff</th><th>pred</th></tr><tr><td>i64</td><td>i64</td><td>f64</td><td>f64</td><td>f64</td><td>f64</td><td>f64</td><td>f64</td><td>f64</td><td>f64</td><td>f64</td><td>f64</td><td>f64</td><td>f64</td><td>f64</td><td>f64</td><td>f64</td><td>f64</td><td>f64</td><td>i64</td><td>i64</td><td>f64</td><td>f64</td><td>f64</td><td>f64</td><td>f64</td><td>f64</td><td>f32</td><td>f32</td><td>f32</td><td>f32</td><td>f32</td><td>f64</td><td>i64</td><td>f64</td><td>i64</td><td>f64</td><td>i64</td><td>i64</td><td>f64</td></tr></thead><tbody><tr><td>1</td><td>214377</td><td>0.388399</td><td>0.155472</td><td>null</td><td>1.059839</td><td>null</td><td>null</td><td>0.10074</td><td>0.11253</td><td>0.105025</td><td>null</td><td>0.638462</td><td>0.153936</td><td>null</td><td>null</td><td>0.119365</td><td>0.196737</td><td>0.176642</td><td>5675</td><td>51</td><td>0.127017</td><td>0.300717</td><td>0.6</td><td>0.36383</td><td>0.100262</td><td>null</td><td>9.602156</td><td>6.799148</td><td>0.79495</td><td>0.79495</td><td>1.777191</td><td>0.054455</td><td>238794</td><td>190473.194553</td><td>24417</td><td>23903.805447</td><td>230740</td><td>16363</td><td>2.137132</td></tr><tr><td>1</td><td>214339</td><td>0.482473</td><td>null</td><td>null</td><td>null</td><td>null</td><td>null</td><td>null</td><td>0.115062</td><td>null</td><td>null</td><td>0.501338</td><td>0.144688</td><td>null</td><td>0.105784</td><td>0.109871</td><td>0.196271</td><td>0.249628</td><td>5675</td><td>51</td><td>0.127017</td><td>0.300717</td><td>0.6</td><td>0.36383</td><td>0.100066</td><td>null</td><td>11.904276</td><td>8.087865</td><td>1.054257</td><td>1.054257</td><td>2.147449</td><td>0.025495</td><td>238794</td><td>190473.194553</td><td>24455</td><td>23865.805447</td><td>230740</td><td>16401</td><td>2.110812</td></tr><tr><td>1</td><td>243177</td><td>0.440659</td><td>0.155265</td><td>0.220482</td><td>null</td><td>null</td><td>null</td><td>0.101277</td><td>0.119614</td><td>null</td><td>null</td><td>null</td><td>0.166316</td><td>0.688926</td><td>null</td><td>0.109232</td><td>0.125184</td><td>0.141854</td><td>5675</td><td>51</td><td>0.127017</td><td>0.300717</td><td>0.6</td><td>0.36383</td><td>0.100159</td><td>0.109232</td><td>9.823614</td><td>3.14852</td><td>0.939</td><td>0.939</td><td>1.239473</td><td>0.588926</td><td>238794</td><td>190473.194553</td><td>4383</td><td>52703.805447</td><td>230740</td><td>12437</td><td>2.106701</td></tr><tr><td>1</td><td>229418</td><td>0.431561</td><td>null</td><td>0.184337</td><td>null</td><td>null</td><td>null</td><td>0.101598</td><td>0.114017</td><td>0.336181</td><td>null</td><td>null</td><td>0.162843</td><td>null</td><td>null</td><td>0.111778</td><td>0.129303</td><td>0.138172</td><td>5675</td><td>51</td><td>0.127017</td><td>0.300717</td><td>0.6</td><td>0.36383</td><td>0.100093</td><td>0.111778</td><td>10.868161</td><td>6.319442</td><td>0.913922</td><td>0.913922</td><td>1.701562</td><td>0.230218</td><td>238794</td><td>190473.194553</td><td>9376</td><td>38944.805447</td><td>230740</td><td>1322</td><td>2.065049</td></tr><tr><td>1</td><td>229353</td><td>0.362099</td><td>0.179283</td><td>0.176305</td><td>null</td><td>null</td><td>null</td><td>0.102027</td><td>0.121665</td><td>null</td><td>null</td><td>null</td><td>0.140902</td><td>null</td><td>null</td><td>0.112266</td><td>0.133828</td><td>0.142312</td><td>5675</td><td>51</td><td>0.127017</td><td>0.300717</td><td>0.6</td><td>0.36383</td><td>0.100154</td><td>0.112266</td><td>11.037426</td><td>6.203959</td><td>0.722457</td><td>0.722457</td><td>1.164517</td><td>0.325752</td><td>238794</td><td>190473.194553</td><td>9441</td><td>38879.805447</td><td>230740</td><td>1387</td><td>2.036372</td></tr><tr><td>&hellip;</td><td>&hellip;</td><td>&hellip;</td><td>&hellip;</td><td>&hellip;</td><td>&hellip;</td><td>&hellip;</td><td>&hellip;</td><td>&hellip;</td><td>&hellip;</td><td>&hellip;</td><td>&hellip;</td><td>&hellip;</td><td>&hellip;</td><td>&hellip;</td><td>&hellip;</td><td>&hellip;</td><td>&hellip;</td><td>&hellip;</td><td>&hellip;</td><td>&hellip;</td><td>&hellip;</td><td>&hellip;</td><td>&hellip;</td><td>&hellip;</td><td>&hellip;</td><td>&hellip;</td><td>&hellip;</td><td>&hellip;</td><td>&hellip;</td><td>&hellip;</td><td>&hellip;</td><td>&hellip;</td><td>&hellip;</td><td>&hellip;</td><td>&hellip;</td><td>&hellip;</td><td>&hellip;</td><td>&hellip;</td><td>&hellip;</td></tr><tr><td>149999</td><td>120273</td><td>0.288416</td><td>0.118965</td><td>null</td><td>0.537751</td><td>null</td><td>null</td><td>null</td><td>0.121705</td><td>null</td><td>null</td><td>null</td><td>0.158768</td><td>null</td><td>0.101327</td><td>0.112002</td><td>0.124342</td><td>0.131118</td><td>8458</td><td>7</td><td>0.100386</td><td>0.134291</td><td>0.516667</td><td>0.125532</td><td>0.101797</td><td>null</td><td>12.646255</td><td>14.89689</td><td>0.519358</td><td>0.519358</td><td>0.860745</td><td>0.067635</td><td>120251</td><td>101450.143949</td><td>22</td><td>18822.856051</td><td>51162</td><td>69111</td><td>1.524545</td></tr><tr><td>149999</td><td>5746</td><td>0.269109</td><td>0.125223</td><td>null</td><td>1.051807</td><td>null</td><td>null</td><td>0.104391</td><td>0.117508</td><td>null</td><td>null</td><td>1.1</td><td>0.138763</td><td>null</td><td>0.101625</td><td>0.128902</td><td>0.164994</td><td>0.134501</td><td>8458</td><td>7</td><td>0.100386</td><td>0.134291</td><td>0.516667</td><td>0.125532</td><td>0.100945</td><td>null</td><td>11.08381</td><td>13.622387</td><td>0.46614</td><td>0.46614</td><td>0.924175</td><td>0.047818</td><td>120251</td><td>101450.143949</td><td>114505</td><td>95704.143949</td><td>51162</td><td>45416</td><td>1.489668</td></tr><tr><td>149999</td><td>130598</td><td>0.420031</td><td>0.125906</td><td>null</td><td>null</td><td>null</td><td>null</td><td>0.104992</td><td>0.132583</td><td>null</td><td>null</td><td>0.220401</td><td>0.248631</td><td>0.38492</td><td>0.106327</td><td>0.127536</td><td>0.118499</td><td>0.110307</td><td>8458</td><td>7</td><td>0.100386</td><td>0.134291</td><td>0.516667</td><td>0.125532</td><td>0.10031</td><td>null</td><td>11.730777</td><td>10.958941</td><td>0.882142</td><td>0.882142</td><td>1.764718</td><td>0.28492</td><td>120251</td><td>101450.143949</td><td>10347</td><td>29147.856051</td><td>51162</td><td>79436</td><td>1.478941</td></tr><tr><td>149999</td><td>1906</td><td>0.221676</td><td>0.150715</td><td>null</td><td>0.678313</td><td>0.11451</td><td>null</td><td>0.108449</td><td>0.142569</td><td>null</td><td>null</td><td>0.344147</td><td>0.181022</td><td>null</td><td>0.114851</td><td>0.150601</td><td>0.190655</td><td>0.127487</td><td>8458</td><td>7</td><td>0.100386</td><td>0.134291</td><td>0.516667</td><td>0.125532</td><td>0.101425</td><td>null</td><td>10.790383</td><td>11.376149</td><td>0.335394</td><td>0.335394</td><td>1.699379</td><td>0.000751</td><td>120251</td><td>101450.143949</td><td>118345</td><td>99544.143949</td><td>51162</td><td>49256</td><td>1.442367</td></tr><tr><td>149999</td><td>51165</td><td>0.266841</td><td>0.162617</td><td>null</td><td>null</td><td>null</td><td>null</td><td>0.102598</td><td>0.116869</td><td>null</td><td>null</td><td>null</td><td>0.12348</td><td>0.242728</td><td>null</td><td>0.111728</td><td>0.124795</td><td>0.132436</td><td>8458</td><td>7</td><td>0.100386</td><td>0.134291</td><td>0.516667</td><td>0.125532</td><td>0.100631</td><td>null</td><td>13.17106</td><td>15.432603</td><td>0.459887</td><td>0.459887</td><td>0.437238</td><td>0.142728</td><td>120251</td><td>101450.143949</td><td>69086</td><td>50285.143949</td><td>51162</td><td>3</td><td>1.425916</td></tr></tbody></table></div>"
      ],
      "text/plain": [
       "shape: (3_692_760, 40)\n",
       "┌────────┬────────┬──────────┬──────────┬───┬──────────────┬──────────────┬─────────────┬──────────┐\n",
       "│ cookie ┆ node   ┆ als-all  ┆ als-17   ┆ … ┆ avg_node_dif ┆ last_contact ┆ last_contac ┆ pred     │\n",
       "│ ---    ┆ ---    ┆ ---      ┆ ---      ┆   ┆ f            ┆ _node        ┆ t_node_diff ┆ ---      │\n",
       "│ i64    ┆ i64    ┆ f64      ┆ f64      ┆   ┆ ---          ┆ ---          ┆ ---         ┆ f64      │\n",
       "│        ┆        ┆          ┆          ┆   ┆ f64          ┆ i64          ┆ i64         ┆          │\n",
       "╞════════╪════════╪══════════╪══════════╪═══╪══════════════╪══════════════╪═════════════╪══════════╡\n",
       "│ 1      ┆ 214377 ┆ 0.388399 ┆ 0.155472 ┆ … ┆ 23903.805447 ┆ 230740       ┆ 16363       ┆ 2.137132 │\n",
       "│ 1      ┆ 214339 ┆ 0.482473 ┆ null     ┆ … ┆ 23865.805447 ┆ 230740       ┆ 16401       ┆ 2.110812 │\n",
       "│ 1      ┆ 243177 ┆ 0.440659 ┆ 0.155265 ┆ … ┆ 52703.805447 ┆ 230740       ┆ 12437       ┆ 2.106701 │\n",
       "│ 1      ┆ 229418 ┆ 0.431561 ┆ null     ┆ … ┆ 38944.805447 ┆ 230740       ┆ 1322        ┆ 2.065049 │\n",
       "│ 1      ┆ 229353 ┆ 0.362099 ┆ 0.179283 ┆ … ┆ 38879.805447 ┆ 230740       ┆ 1387        ┆ 2.036372 │\n",
       "│ …      ┆ …      ┆ …        ┆ …        ┆ … ┆ …            ┆ …            ┆ …           ┆ …        │\n",
       "│ 149999 ┆ 120273 ┆ 0.288416 ┆ 0.118965 ┆ … ┆ 18822.856051 ┆ 51162        ┆ 69111       ┆ 1.524545 │\n",
       "│ 149999 ┆ 5746   ┆ 0.269109 ┆ 0.125223 ┆ … ┆ 95704.143949 ┆ 51162        ┆ 45416       ┆ 1.489668 │\n",
       "│ 149999 ┆ 130598 ┆ 0.420031 ┆ 0.125906 ┆ … ┆ 29147.856051 ┆ 51162        ┆ 79436       ┆ 1.478941 │\n",
       "│ 149999 ┆ 1906   ┆ 0.221676 ┆ 0.150715 ┆ … ┆ 99544.143949 ┆ 51162        ┆ 49256       ┆ 1.442367 │\n",
       "│ 149999 ┆ 51165  ┆ 0.266841 ┆ 0.162617 ┆ … ┆ 50285.143949 ┆ 51162        ┆ 3           ┆ 1.425916 │\n",
       "└────────┴────────┴──────────┴──────────┴───┴──────────────┴──────────────┴─────────────┴──────────┘"
      ]
     },
     "execution_count": 32,
     "metadata": {},
     "output_type": "execute_result"
    }
   ],
   "source": [
    "top_40_per_cookie"
   ]
  },
  {
   "cell_type": "code",
   "execution_count": 31,
   "id": "3571003e-2084-49a1-961f-526ebc47ff1f",
   "metadata": {},
   "outputs": [],
   "source": [
    "top_40_per_cookie.select('cookie', 'node', 'pred').write_csv('pred_14d_lgb1.csv')"
   ]
  },
  {
   "cell_type": "code",
   "execution_count": null,
   "id": "d18213d6-d28e-48ec-909a-6427f41e18a6",
   "metadata": {
    "scrolled": true
   },
   "outputs": [],
   "source": [
    "# model_cb = fit_catboost_ranker(df, features, cat_features, params_cb, group_column=['lag', 'cookie']) # group_column=['lag', 'cookie']\n",
    "# predictions_cb = model_cb.predict(sub_df[features].to_pandas())\n",
    "# sub_df = sub_df.with_columns(pred=pl.Series(predictions_cb))\n",
    "\n",
    "# top_40_per_cookie_cb = (\n",
    "#     sub_df\n",
    "#     .sort([\"cookie\", \"pred\"], descending=[False, True])\n",
    "#     .group_by(\"cookie\", maintain_order=True)\n",
    "#     .head(40)\n",
    "# )\n",
    "# top_40_per_cookie_cb = top_40_per_cookie_cb.select('cookie', 'node', 'pred')\n",
    "# top_40_per_cookie_cb.write_csv('pred_ranker_14d_cb1.csv')"
   ]
  },
  {
   "cell_type": "code",
   "execution_count": null,
   "id": "129ded2f-db12-4b86-9ac4-741509636319",
   "metadata": {},
   "outputs": [],
   "source": [
    "top_40_per_cookie_cb"
   ]
  },
  {
   "cell_type": "code",
   "execution_count": null,
   "id": "e704cd22-0b8c-41cf-919d-6e90278d560e",
   "metadata": {},
   "outputs": [],
   "source": [
    "# 1\t243177\t3.408451\n",
    "# 1\t214377\t3.349749\n",
    "# 1\t214297\t3.18459\n",
    "# 1\t229316\t3.144853\n",
    "# 1\t229353\t2.988165\n",
    "# …\t…\t…\n",
    "# 149999\t214260\t2.581512\n",
    "# 149999\t214261\t2.561505\n",
    "# 149999\t71546\t2.553889\n",
    "# 149999\t214460\t2.548078\n",
    "# 149999\t120504\t2.544617"
   ]
  },
  {
   "cell_type": "code",
   "execution_count": null,
   "id": "c5600e7c-fbe9-496d-89d0-fb59d63d8725",
   "metadata": {},
   "outputs": [],
   "source": [
    "---"
   ]
  },
  {
   "cell_type": "code",
   "execution_count": null,
   "id": "14d0a975-f03b-4a75-8307-da0efaff268c",
   "metadata": {},
   "outputs": [],
   "source": [
    "corr = df.select(features + ['target']).fill_null(0).corr()\n",
    "\n",
    "# Convert to pandas DataFrame for Seaborn\n",
    "corr_pd = corr.to_pandas()\n",
    "\n",
    "# Create heatmap with proper axis labels\n",
    "plt.figure(figsize=(10, 8))\n",
    "heatmap = sns.heatmap(\n",
    "    corr_pd, \n",
    "    annot=True, \n",
    "    cmap='coolwarm', \n",
    "    center=0,\n",
    "    fmt=\".2f\",\n",
    "    linewidths=.5,\n",
    "    annot_kws={\"size\": 10}\n",
    ")\n",
    "\n",
    "# Explicitly set both x and y labels\n",
    "heatmap.set_xticklabels(heatmap.get_xticklabels(), rotation=45, horizontalalignment='right')\n",
    "heatmap.set_yticklabels(heatmap.get_yticklabels(), rotation=0)  # y-axis labels horizontal\n",
    "\n",
    "plt.title('Correlation Matrix Heatmap')\n",
    "plt.tight_layout()  # Ensures labels don't get cut off\n",
    "plt.show()"
   ]
  },
  {
   "cell_type": "code",
   "execution_count": null,
   "id": "3c87d784-ae4a-4873-b260-16d48bd45856",
   "metadata": {},
   "outputs": [],
   "source": [
    "corr_pd = (\n",
    "    df\n",
    "    .select(features + ['target'])\n",
    "    .drop('user_location', 'user_category')\n",
    "    .fill_null(0)               # or .fillna(0) if pandas\n",
    "    .corr()\n",
    "    .to_pandas()\n",
    ")\n",
    "\n",
    "# Ensure the index really is your feature names:\n",
    "labels = list(corr_pd.columns)\n",
    "corr_pd.index = labels\n",
    "\n",
    "# 2) Set up figure + axis\n",
    "fig, ax = plt.subplots(figsize=(10, 8))\n",
    "\n",
    "# 3) Plot heatmap with no built-in ticks\n",
    "sns.heatmap(\n",
    "    corr_pd,\n",
    "    annot=True,\n",
    "    fmt=\".2f\",\n",
    "    cmap='coolwarm',\n",
    "    center=0,\n",
    "    linewidths=0.5,\n",
    "    annot_kws={\"size\":10},\n",
    "    xticklabels=False,\n",
    "    yticklabels=False,\n",
    "    ax=ax\n",
    ")\n",
    "\n",
    "# 4) Manually place ticks at cell centers\n",
    "n = len(labels)\n",
    "tick_positions = np.arange(n) + 0.5\n",
    "\n",
    "ax.set_xticks(tick_positions)\n",
    "ax.set_yticks(tick_positions)\n",
    "\n",
    "# 5) Assign your labels\n",
    "ax.set_xticklabels(labels, rotation=45, ha='right')\n",
    "ax.set_yticklabels(labels, rotation=0, va='center')\n",
    "\n",
    "# 6) Force ticks to bottom & left\n",
    "ax.xaxis.tick_bottom()\n",
    "ax.yaxis.tick_left()\n",
    "\n",
    "ax.set_title('Correlation Matrix Heatmap')\n",
    "plt.tight_layout()\n",
    "plt.show()"
   ]
  },
  {
   "cell_type": "code",
   "execution_count": null,
   "id": "d11169e4-6951-4b12-8c08-443bb6f9d175",
   "metadata": {},
   "outputs": [],
   "source": [
    "df"
   ]
  },
  {
   "cell_type": "code",
   "execution_count": null,
   "id": "fef42c21-c825-44d7-b16b-c8ca84a149b9",
   "metadata": {},
   "outputs": [],
   "source": [
    "1"
   ]
  },
  {
   "cell_type": "code",
   "execution_count": 22,
   "id": "b71aed01-902e-4001-bcb2-698981fc11fe",
   "metadata": {},
   "outputs": [
    {
     "data": {
      "text/plain": [
       "1"
      ]
     },
     "execution_count": 22,
     "metadata": {},
     "output_type": "execute_result"
    }
   ],
   "source": [
    "1"
   ]
  },
  {
   "cell_type": "code",
   "execution_count": null,
   "id": "1c0d6a0c-d2a7-46fb-9cda-f128fc8f7569",
   "metadata": {},
   "outputs": [],
   "source": []
  },
  {
   "cell_type": "code",
   "execution_count": null,
   "id": "65b50a0b-7a4e-4ad2-8377-b080f4b22ce5",
   "metadata": {},
   "outputs": [],
   "source": []
  }
 ],
 "metadata": {
  "kernelspec": {
   "display_name": "Python (env310)",
   "language": "python",
   "name": "env310"
  },
  "language_info": {
   "codemirror_mode": {
    "name": "ipython",
    "version": 3
   },
   "file_extension": ".py",
   "mimetype": "text/x-python",
   "name": "python",
   "nbconvert_exporter": "python",
   "pygments_lexer": "ipython3",
   "version": "3.10.13"
  }
 },
 "nbformat": 4,
 "nbformat_minor": 5
}
