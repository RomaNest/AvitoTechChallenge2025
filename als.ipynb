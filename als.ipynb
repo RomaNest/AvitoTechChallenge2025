{
 "cells": [
  {
   "cell_type": "markdown",
   "id": "21e14b3b-d9be-4f1e-b277-9ab7f65c5a71",
   "metadata": {},
   "source": [
    "# Load Data"
   ]
  },
  {
   "cell_type": "code",
   "execution_count": 1,
   "id": "f9f92c11-baa9-4d93-b895-d191cbef3e31",
   "metadata": {},
   "outputs": [],
   "source": [
    "%load_ext autoreload\n",
    "%autoreload 2"
   ]
  },
  {
   "cell_type": "code",
   "execution_count": 2,
   "id": "7a1164ec-f32d-4d8c-9349-e07193347639",
   "metadata": {},
   "outputs": [],
   "source": [
    "from datetime import timedelta\n",
    "import polars as pl\n",
    "import implicit"
   ]
  },
  {
   "cell_type": "code",
   "execution_count": 3,
   "id": "11dc4c75-27b3-4cbb-a68f-98d3e7177ddd",
   "metadata": {},
   "outputs": [],
   "source": [
    "DATA_DIR = 'retrieval_data/'\n",
    "N_RETRIEVE = 300\n",
    "EVAL_DAYS_TRESHOLD = 0\n",
    "\n",
    "df_test_users = pl.read_parquet(f'test_users.pq')\n",
    "df_clickstream = pl.read_parquet(f'clickstream.pq')\n",
    "\n",
    "df_cat_features = pl.read_parquet(f'cat_features.pq')\n",
    "df_text_features = pl.read_parquet(f'text_features.pq')\n",
    "df_event = pl.read_parquet(f'events.pq')"
   ]
  },
  {
   "cell_type": "code",
   "execution_count": 4,
   "id": "8ca38261-b3fb-4cb5-8679-e1f719945925",
   "metadata": {},
   "outputs": [
    {
     "data": {
      "text/html": [
       "<div><style>\n",
       ".dataframe > thead > tr,\n",
       ".dataframe > tbody > tr {\n",
       "  text-align: right;\n",
       "  white-space: pre-wrap;\n",
       "}\n",
       "</style>\n",
       "<small>shape: (68_806_152, 7)</small><table border=\"1\" class=\"dataframe\"><thead><tr><th>cookie</th><th>item</th><th>event</th><th>event_date</th><th>platform</th><th>surface</th><th>node</th></tr><tr><td>i64</td><td>i64</td><td>i64</td><td>datetime[ns]</td><td>i64</td><td>i64</td><td>u32</td></tr></thead><tbody><tr><td>0</td><td>19915558</td><td>17</td><td>2025-02-05 02:30:59</td><td>3</td><td>2</td><td>115659</td></tr><tr><td>0</td><td>2680232</td><td>17</td><td>2025-01-24 21:16:57</td><td>3</td><td>2</td><td>115829</td></tr><tr><td>1</td><td>4247649</td><td>17</td><td>2025-01-29 23:00:58</td><td>2</td><td>2</td><td>7</td></tr><tr><td>1</td><td>4247649</td><td>17</td><td>2025-02-17 14:55:17</td><td>2</td><td>2</td><td>7</td></tr><tr><td>1</td><td>2171135</td><td>17</td><td>2025-01-17 19:23:29</td><td>2</td><td>2</td><td>214458</td></tr><tr><td>&hellip;</td><td>&hellip;</td><td>&hellip;</td><td>&hellip;</td><td>&hellip;</td><td>&hellip;</td><td>&hellip;</td></tr><tr><td>149999</td><td>4999183</td><td>17</td><td>2025-01-20 12:23:47</td><td>2</td><td>2</td><td>71511</td></tr><tr><td>149999</td><td>25999164</td><td>17</td><td>2025-01-24 14:26:57</td><td>2</td><td>2</td><td>71514</td></tr><tr><td>149999</td><td>12138732</td><td>17</td><td>2025-02-12 13:11:42</td><td>2</td><td>2</td><td>51162</td></tr><tr><td>149999</td><td>28207042</td><td>17</td><td>2025-02-16 12:35:35</td><td>2</td><td>2</td><td>71511</td></tr><tr><td>149999</td><td>16282539</td><td>17</td><td>2025-02-10 13:07:17</td><td>2</td><td>2</td><td>71524</td></tr></tbody></table></div>"
      ],
      "text/plain": [
       "shape: (68_806_152, 7)\n",
       "┌────────┬──────────┬───────┬─────────────────────┬──────────┬─────────┬────────┐\n",
       "│ cookie ┆ item     ┆ event ┆ event_date          ┆ platform ┆ surface ┆ node   │\n",
       "│ ---    ┆ ---      ┆ ---   ┆ ---                 ┆ ---      ┆ ---     ┆ ---    │\n",
       "│ i64    ┆ i64      ┆ i64   ┆ datetime[ns]        ┆ i64      ┆ i64     ┆ u32    │\n",
       "╞════════╪══════════╪═══════╪═════════════════════╪══════════╪═════════╪════════╡\n",
       "│ 0      ┆ 19915558 ┆ 17    ┆ 2025-02-05 02:30:59 ┆ 3        ┆ 2       ┆ 115659 │\n",
       "│ 0      ┆ 2680232  ┆ 17    ┆ 2025-01-24 21:16:57 ┆ 3        ┆ 2       ┆ 115829 │\n",
       "│ 1      ┆ 4247649  ┆ 17    ┆ 2025-01-29 23:00:58 ┆ 2        ┆ 2       ┆ 7      │\n",
       "│ 1      ┆ 4247649  ┆ 17    ┆ 2025-02-17 14:55:17 ┆ 2        ┆ 2       ┆ 7      │\n",
       "│ 1      ┆ 2171135  ┆ 17    ┆ 2025-01-17 19:23:29 ┆ 2        ┆ 2       ┆ 214458 │\n",
       "│ …      ┆ …        ┆ …     ┆ …                   ┆ …        ┆ …       ┆ …      │\n",
       "│ 149999 ┆ 4999183  ┆ 17    ┆ 2025-01-20 12:23:47 ┆ 2        ┆ 2       ┆ 71511  │\n",
       "│ 149999 ┆ 25999164 ┆ 17    ┆ 2025-01-24 14:26:57 ┆ 2        ┆ 2       ┆ 71514  │\n",
       "│ 149999 ┆ 12138732 ┆ 17    ┆ 2025-02-12 13:11:42 ┆ 2        ┆ 2       ┆ 51162  │\n",
       "│ 149999 ┆ 28207042 ┆ 17    ┆ 2025-02-16 12:35:35 ┆ 2        ┆ 2       ┆ 71511  │\n",
       "│ 149999 ┆ 16282539 ┆ 17    ┆ 2025-02-10 13:07:17 ┆ 2        ┆ 2       ┆ 71524  │\n",
       "└────────┴──────────┴───────┴─────────────────────┴──────────┴─────────┴────────┘"
      ]
     },
     "execution_count": 4,
     "metadata": {},
     "output_type": "execute_result"
    }
   ],
   "source": [
    "df_clickstream"
   ]
  },
  {
   "cell_type": "markdown",
   "id": "f821debd-2a22-41c3-9156-f85b3684bec6",
   "metadata": {},
   "source": [
    "# PREPARE TRAIN EVAL"
   ]
  },
  {
   "cell_type": "code",
   "execution_count": 5,
   "id": "78d6129e-81f8-4156-a360-1ebf380dbca4",
   "metadata": {},
   "outputs": [],
   "source": [
    "treshhold = df_clickstream['event_date'].max() - timedelta(days=EVAL_DAYS_TRESHOLD)"
   ]
  },
  {
   "cell_type": "code",
   "execution_count": 6,
   "id": "cabb9561-abf4-4e34-ab3b-9d7391188b92",
   "metadata": {},
   "outputs": [],
   "source": [
    "df_train = df_clickstream.filter(df_clickstream['event_date']<= treshhold)\n",
    "df_eval = df_clickstream.filter(df_clickstream['event_date']> treshhold)[['cookie', 'node', 'event']]"
   ]
  },
  {
   "cell_type": "code",
   "execution_count": 7,
   "id": "8484fcfb-47c7-4b3d-885b-2a691ed1e49f",
   "metadata": {},
   "outputs": [],
   "source": [
    "df_eval = df_eval.join(df_train, on=['cookie', 'node'], how='anti')"
   ]
  },
  {
   "cell_type": "code",
   "execution_count": 8,
   "id": "d2995b20-2896-4fb5-8f71-3e7a01ca3d8b",
   "metadata": {},
   "outputs": [],
   "source": [
    "df_eval = df_eval.filter(\n",
    "    pl.col('event').is_in(\n",
    "        df_event.filter(pl.col('is_contact')==1)['event'].unique()\n",
    "    )\n",
    ")"
   ]
  },
  {
   "cell_type": "code",
   "execution_count": 9,
   "id": "03053625-f774-4a3f-b093-0328aeb18e87",
   "metadata": {},
   "outputs": [],
   "source": [
    "df_eval = df_eval.filter(\n",
    "        pl.col('cookie').is_in(df_train['cookie'].unique())\n",
    "    ).filter(\n",
    "        pl.col('node').is_in(df_train['node'].unique())\n",
    "    )"
   ]
  },
  {
   "cell_type": "code",
   "execution_count": 10,
   "id": "1e938184-194e-469d-be17-043b0c0ad5ed",
   "metadata": {},
   "outputs": [],
   "source": [
    "df_eval = df_eval.unique(['cookie', 'node'])"
   ]
  },
  {
   "cell_type": "markdown",
   "id": "a7610069-bd37-4231-9285-8a8598339376",
   "metadata": {},
   "source": [
    "# TRAIN MODEL"
   ]
  },
  {
   "cell_type": "markdown",
   "id": "7db32b36-9ec3-47ed-bbc1-0b395c350cf7",
   "metadata": {},
   "source": [
    "## ALS"
   ]
  },
  {
   "cell_type": "code",
   "execution_count": 11,
   "id": "118b73e6-c306-4ab8-8ae5-3f133a95cda5",
   "metadata": {},
   "outputs": [],
   "source": [
    "def get_als_pred(users, nodes, user_to_pred):\n",
    "    user_ids = users.unique().to_list()\n",
    "    item_ids = nodes.unique().to_list()\n",
    "        \n",
    "    user_id_to_index = {user_id: idx for idx, user_id in enumerate(user_ids)}\n",
    "    item_id_to_index = {item_id: idx for idx, item_id in enumerate(item_ids)}\n",
    "    index_to_user_id = {v: k for k, v in user_id_to_index.items()}\n",
    "    index_to_item_id = {v:k for k,v in item_id_to_index.items()}\n",
    "    \n",
    "    rows = users.replace_strict(user_id_to_index).to_list()\n",
    "    cols = nodes.replace_strict(item_id_to_index).to_list()\n",
    "    \n",
    "    values = [1] * len(users)\n",
    "    \n",
    "    sparse_matrix = csr_matrix((values, (rows, cols)), shape=(len(user_ids), len(item_ids)))\n",
    "    \n",
    "    model = implicit.als.AlternatingLeastSquares(iterations=10, factors=60)\n",
    "    model.fit(sparse_matrix, )\n",
    "    \n",
    "    user_embeddings = model.user_factors\n",
    "    item_embeddings = model.item_factors\n",
    "\n",
    "    # user4pred = np.array([user_id_to_index[i] for i in user_to_pred])\n",
    "    user4pred = np.array([user_id_to_index[i] for i in user_to_pred], dtype=np.int32)\n",
    "    \n",
    "    recommendations, scores = model.recommend(user4pred, sparse_matrix[user4pred], N=N_RETRIEVE, filter_already_liked_items=True)\n",
    "    \n",
    "    df_pred = pl.DataFrame(\n",
    "        {\n",
    "            'node': [\n",
    "                [index_to_item_id[i] for i in i] for i in recommendations.tolist()\n",
    "            ], \n",
    "             'cookie': list(user_to_pred),\n",
    "            'als-all': scores.tolist()\n",
    "            \n",
    "        }\n",
    "    )\n",
    "    df_pred = df_pred.explode(['node', 'als-all'])\n",
    "    \n",
    "    user_emb = pl.DataFrame({\n",
    "        \"cookie\": [index_to_user_id[i] for i in range(len(user_embeddings))],\n",
    "        \"als_emb_user\": user_embeddings\n",
    "    })\n",
    "    item_emb = pl.DataFrame({\n",
    "        \"node\": [index_to_item_id[i] for i in range(len(item_embeddings))],\n",
    "        \"als_emb_node\": item_embeddings\n",
    "    })\n",
    "    return (\n",
    "        df_pred,\n",
    "        user_emb,\n",
    "        item_emb\n",
    "    )"
   ]
  },
  {
   "cell_type": "code",
   "execution_count": 12,
   "id": "7ec48ba7-af95-49a4-a8e3-f9d24e9a5b2d",
   "metadata": {
    "scrolled": true
   },
   "outputs": [
    {
     "name": "stderr",
     "output_type": "stream",
     "text": [
      "/home/r.nesterov/miniconda3/envs/env310/lib/python3.10/site-packages/implicit/cpu/als.py:95: RuntimeWarning: OpenBLAS is configured to use 20 threads. It is highly recommended to disable its internal threadpool by setting the environment variable 'OPENBLAS_NUM_THREADS=1' or by calling 'threadpoolctl.threadpool_limits(1, \"blas\")'. Having OpenBLAS use a threadpool can lead to severe performance issues here.\n",
      "  check_blas_config()\n"
     ]
    },
    {
     "data": {
      "application/vnd.jupyter.widget-view+json": {
       "model_id": "b117fbdd089a4d0a9493c1dd64759618",
       "version_major": 2,
       "version_minor": 0
      },
      "text/plain": [
       "  0%|          | 0/10 [00:00<?, ?it/s]"
      ]
     },
     "metadata": {},
     "output_type": "display_data"
    }
   ],
   "source": [
    "from scipy.sparse import csr_matrix\n",
    "import numpy as np\n",
    "import implicit\n",
    "\n",
    "\n",
    "users = df_train[\"cookie\"]\n",
    "nodes = df_train[\"node\"]\n",
    "eval_users = df_train['cookie'].unique().to_list() # df_eval['cookie'].unique().to_list()\n",
    "\n",
    "df_pred, user_emb, item_emb = get_als_pred(users, nodes, eval_users)\n",
    "df_pred.write_csv(f'{DATA_DIR}/als-all.csv')"
   ]
  },
  {
   "cell_type": "code",
   "execution_count": 13,
   "id": "cc6faf52-4044-472c-b817-9a1df121514b",
   "metadata": {},
   "outputs": [],
   "source": [
    "user_emb.write_parquet(f'{DATA_DIR}/als_user_emb.pq')"
   ]
  },
  {
   "cell_type": "code",
   "execution_count": 14,
   "id": "d8af6dd4-8f03-4828-b6da-bde028f17260",
   "metadata": {},
   "outputs": [],
   "source": [
    "item_emb.write_parquet(f'{DATA_DIR}/als_item_emb.pq')"
   ]
  },
  {
   "cell_type": "code",
   "execution_count": 15,
   "id": "d13a5668-3155-497d-9a72-b0ca0b1185c8",
   "metadata": {},
   "outputs": [
    {
     "data": {
      "text/html": [
       "<div><style>\n",
       ".dataframe > thead > tr,\n",
       ".dataframe > tbody > tr {\n",
       "  text-align: right;\n",
       "  white-space: pre-wrap;\n",
       "}\n",
       "</style>\n",
       "<small>shape: (408_474, 2)</small><table border=\"1\" class=\"dataframe\"><thead><tr><th>node</th><th>als_emb_node</th></tr><tr><td>i64</td><td>array[f32, 60]</td></tr></thead><tbody><tr><td>1</td><td>[0.003155, 0.00539, … 0.004884]</td></tr><tr><td>2</td><td>[0.0029, 0.005247, … 0.004868]</td></tr><tr><td>3</td><td>[0.002911, 0.005072, … 0.0046]</td></tr><tr><td>4</td><td>[0.001956, 0.003913, … 0.005578]</td></tr><tr><td>5</td><td>[0.002913, 0.005053, … 0.004405]</td></tr><tr><td>&hellip;</td><td>&hellip;</td></tr><tr><td>424063</td><td>[0.003173, 0.005433, … 0.00488]</td></tr><tr><td>424064</td><td>[0.00279, 0.004325, … 0.004215]</td></tr><tr><td>424065</td><td>[0.003564, 0.005496, … 0.004254]</td></tr><tr><td>424067</td><td>[0.002862, 0.004403, … 0.003971]</td></tr><tr><td>424068</td><td>[0.00341, 0.005736, … 0.005144]</td></tr></tbody></table></div>"
      ],
      "text/plain": [
       "shape: (408_474, 2)\n",
       "┌────────┬─────────────────────────────────┐\n",
       "│ node   ┆ als_emb_node                    │\n",
       "│ ---    ┆ ---                             │\n",
       "│ i64    ┆ array[f32, 60]                  │\n",
       "╞════════╪═════════════════════════════════╡\n",
       "│ 1      ┆ [0.003155, 0.00539, … 0.004884… │\n",
       "│ 2      ┆ [0.0029, 0.005247, … 0.004868]  │\n",
       "│ 3      ┆ [0.002911, 0.005072, … 0.0046]  │\n",
       "│ 4      ┆ [0.001956, 0.003913, … 0.00557… │\n",
       "│ 5      ┆ [0.002913, 0.005053, … 0.00440… │\n",
       "│ …      ┆ …                               │\n",
       "│ 424063 ┆ [0.003173, 0.005433, … 0.00488… │\n",
       "│ 424064 ┆ [0.00279, 0.004325, … 0.004215… │\n",
       "│ 424065 ┆ [0.003564, 0.005496, … 0.00425… │\n",
       "│ 424067 ┆ [0.002862, 0.004403, … 0.00397… │\n",
       "│ 424068 ┆ [0.00341, 0.005736, … 0.005144… │\n",
       "└────────┴─────────────────────────────────┘"
      ]
     },
     "execution_count": 15,
     "metadata": {},
     "output_type": "execute_result"
    }
   ],
   "source": [
    "item_emb"
   ]
  },
  {
   "cell_type": "code",
   "execution_count": null,
   "id": "53946e95-d444-4c16-bae6-650adc117498",
   "metadata": {},
   "outputs": [],
   "source": []
  }
 ],
 "metadata": {
  "kernelspec": {
   "display_name": "Python (env310)",
   "language": "python",
   "name": "env310"
  },
  "language_info": {
   "codemirror_mode": {
    "name": "ipython",
    "version": 3
   },
   "file_extension": ".py",
   "mimetype": "text/x-python",
   "name": "python",
   "nbconvert_exporter": "python",
   "pygments_lexer": "ipython3",
   "version": "3.10.13"
  }
 },
 "nbformat": 4,
 "nbformat_minor": 5
}
