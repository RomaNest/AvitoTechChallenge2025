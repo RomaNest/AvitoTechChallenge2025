{
 "cells": [
  {
   "cell_type": "code",
   "execution_count": 1,
   "id": "bca888d8-8bbb-4e71-90ff-b1124f631dc3",
   "metadata": {},
   "outputs": [],
   "source": [
    "import numpy as np\n",
    "import matplotlib.pyplot as plt\n",
    "import seaborn as sns\n",
    "from datetime import timedelta\n",
    "import polars as pl\n",
    "import implicit\n",
    "import lightgbm as lgb\n",
    "from itertools import groupby\n",
    "\n",
    "from utils import create_features, recall_at, fit_lgb_ranker"
   ]
  },
  {
   "cell_type": "code",
   "execution_count": 2,
   "id": "e077483d-ffaf-414c-a93b-e2dbb5074564",
   "metadata": {},
   "outputs": [],
   "source": [
    "df_test_users = pl.read_parquet(f'test_users.pq')\n",
    "df_clickstream = pl.read_parquet(f'clickstream.pq')\n",
    "\n",
    "df_cat_features = pl.read_parquet(f'cat_features.pq')\n",
    "df_text_features = pl.read_parquet(f'text_features.pq')\n",
    "df_event = pl.read_parquet(f'events.pq')"
   ]
  },
  {
   "cell_type": "code",
   "execution_count": 3,
   "id": "f6fe5bb0-5591-4964-b751-e97f74a191f6",
   "metadata": {},
   "outputs": [],
   "source": [
    "treshold = df_clickstream['event_date'].max() - timedelta(days=7)"
   ]
  },
  {
   "cell_type": "code",
   "execution_count": 4,
   "id": "134a3694-6c75-441f-afb2-5f27207fe82b",
   "metadata": {},
   "outputs": [],
   "source": [
    "df_train = (\n",
    "    df_clickstream\n",
    "    .join(df_event, on='event', how='left')\n",
    "    .filter(df_clickstream['event_date']<= treshold)\n",
    "    # .filter(pl.col('is_contact')==1) # comment for i2i_seq_all and increase cuts for memory\n",
    "    .group_by(['node', 'cookie'])\n",
    "    .agg(pl.min('event_date'))\n",
    ")"
   ]
  },
  {
   "cell_type": "code",
   "execution_count": 5,
   "id": "9cc103b8-7d71-4ae0-b07f-0642564fa30d",
   "metadata": {},
   "outputs": [],
   "source": [
    "dt_min = df_clickstream['event_date'].min()\n",
    "df_train = df_train.with_columns((pl.col(\"event_date\") - dt_min).dt.total_seconds().alias(\"event_date\"))"
   ]
  },
  {
   "cell_type": "code",
   "execution_count": 7,
   "id": "75959295-5cc5-4b82-b8f0-fa8997ee4212",
   "metadata": {},
   "outputs": [],
   "source": [
    "def i2i_model(df_train,\n",
    "              max_pos_diff=45,\n",
    "              w_pos=1.718759727352264,\n",
    "              w_time=2.3933322742952314,\n",
    "              w_recency=0.39059527613202566,\n",
    "              pop_pow=0.36497800607640746,\n",
    "              N_LAST=59,\n",
    "              TOPK_USER=300,\n",
    "              DECAY_BASE=0.9750338237166386\n",
    "             ):\n",
    "    interactions_df = df_train.sort(['cookie', 'event_date'])\n",
    "\n",
    "    interactions_df = interactions_df.with_columns(\n",
    "        pl.arange(0, pl.count(), step=1).over('cookie').alias('pos')\n",
    "    )\n",
    "    \n",
    "    pair_df = interactions_df.join(\n",
    "        interactions_df, \n",
    "        on='cookie', \n",
    "        how='inner', \n",
    "        suffix='_j' \n",
    "    ).filter(\n",
    "        (pl.col('pos_j') > pl.col('pos')) &\n",
    "        ((pl.col('pos_j') - pl.col('pos')) <= max_pos_diff)\n",
    "    ).with_columns([\n",
    "        (pl.col('pos_j') - pl.col('pos')).alias('pos_diff'),\n",
    "        (pl.col('event_date_j') - pl.col('event_date')).alias('time_diff')\n",
    "    ])\n",
    "\n",
    "    max_ts = interactions_df['event_date'].max()\n",
    "\n",
    "    pos   = w_pos / (1 + pl.col('pos_diff'))\n",
    "    time  = w_time / (1 + pl.col('time_diff').log1p())\n",
    "    recency = 1 + w_recency * (1 - (max_ts - pl.col('event_date_j')) / max_ts)\n",
    "    \n",
    "    pair_df = pair_df.with_columns(\n",
    "        (pos * time * recency).alias('pair_weight')\n",
    "    )\n",
    "\n",
    "    i2i_scores = pair_df.group_by(['node', 'node_j']).agg(\n",
    "        pl.sum('pair_weight').alias('score')\n",
    "    )\n",
    "    \n",
    "    i2i_symm = pl.concat([\n",
    "        i2i_scores,\n",
    "        i2i_scores.rename({'node': 'node_j', 'node_j': 'node'}).select(['node', 'node_j', 'score'])\n",
    "    ])\n",
    "    i2i_scores = i2i_symm.group_by(['node','node_j']).agg(\n",
    "        pl.sum('score').alias('score')    # sum if a pair appeared in both directions\n",
    "    )\n",
    "    \n",
    "    item_freq = interactions_df.group_by('node').agg(pl.count().alias('freq'))\n",
    "    i2i_scores = i2i_scores.join(item_freq, left_on='node_j', right_on='node', how='left')\n",
    "    i2i_scores = i2i_scores.with_columns(\n",
    "        (pl.col('score') / pl.col('freq').pow(pop_pow)).alias('i2i_score')   # e.g. divide by sqrt(freq of item_j)\n",
    "    ).select(['node', 'node_j', 'i2i_score'])\n",
    "\n",
    "    N = 500\n",
    "    i2i_topN = (\n",
    "        i2i_scores.sort('i2i_score', descending=True)\n",
    "                  .group_by('node')\n",
    "                  .head(N)\n",
    "    )\n",
    "\n",
    "    full_hist = (\n",
    "        interactions_df\n",
    "        .select(['cookie', 'node'])\n",
    "        .unique()\n",
    "    )\n",
    "    \n",
    "    lastN = (\n",
    "        interactions_df\n",
    "        .sort(['cookie', 'event_date'], descending=True)\n",
    "        .group_by('cookie')\n",
    "        .head(N_LAST)\n",
    "        .with_columns(\n",
    "            pl.int_range(1, pl.len() + 1).over('cookie').alias('recency_rank') #pl.cum_count().over('cookie').alias('recency_rank')\n",
    "        )\n",
    "    )\n",
    "    \n",
    "    lastN = (\n",
    "        lastN\n",
    "        .group_by(['cookie', 'node'])\n",
    "        .agg(pl.min('recency_rank').alias('recency_rank'))\n",
    "        .with_columns(\n",
    "            (DECAY_BASE ** pl.col('recency_rank')).alias('recency_weight')\n",
    "        )\n",
    "    )\n",
    "    \n",
    "    user_cand = (\n",
    "        lastN\n",
    "        .join(i2i_topN,\n",
    "              left_on='node',\n",
    "              right_on='node',\n",
    "              how='inner')\n",
    "        .with_columns(\n",
    "            (pl.col('i2i_score') * pl.col('recency_weight')).alias('weighted_i2i')\n",
    "        )\n",
    "    )\n",
    "    \n",
    "    user_cand = (\n",
    "        user_cand\n",
    "        .join(\n",
    "            full_hist,\n",
    "            how='anti',\n",
    "            left_on=['cookie', 'node_j'], \n",
    "            right_on=['cookie', 'node']\n",
    "        )\n",
    "    )\n",
    "    \n",
    "    user_recs = (\n",
    "        user_cand\n",
    "        .group_by(['cookie', 'node_j'])\n",
    "        .agg(pl.sum('weighted_i2i').alias('i2i_score'))\n",
    "        .rename({'node_j': 'node'})\n",
    "    )\n",
    "    \n",
    "    user_recs = (\n",
    "        user_recs\n",
    "        .with_columns(\n",
    "            pl.col('i2i_score')\n",
    "              .rank(method='dense', descending=True)\n",
    "              .over('cookie')\n",
    "              .alias('i2i_rank')\n",
    "        )\n",
    "        .filter(pl.col('i2i_rank') <= TOPK_USER)\n",
    "        .sort(['cookie', 'i2i_rank'])\n",
    "        .select(['cookie', 'node', 'i2i_score', 'i2i_rank'])\n",
    "    )\n",
    "    return user_recs"
   ]
  },
  {
   "cell_type": "code",
   "execution_count": 8,
   "id": "3fab0fd1-b1d3-4b52-96b0-faa3ced2949d",
   "metadata": {},
   "outputs": [
    {
     "name": "stderr",
     "output_type": "stream",
     "text": [
      "/tmp/ipykernel_705237/3487796091.py:15: DeprecationWarning: `pl.count()` is deprecated. Please use `pl.len()` instead.\n",
      "  pl.arange(0, pl.count(), step=1).over('cookie').alias('pos')\n",
      "/tmp/ipykernel_705237/3487796091.py:58: DeprecationWarning: `pl.count()` is deprecated. Please use `pl.len()` instead.\n",
      "  item_freq = interactions_df.group_by('node').agg(pl.count().alias('freq'))\n"
     ]
    }
   ],
   "source": [
    "user_recs = i2i_model(df_train)"
   ]
  },
  {
   "cell_type": "code",
   "execution_count": 9,
   "id": "b9780007-7ce2-4954-a08b-871c8933c25b",
   "metadata": {},
   "outputs": [],
   "source": [
    "def compute_i2i_score_for_user(cookie_id, candidate_item):\n",
    "    history_items = user_history_dict[cookie_id]\n",
    "    score_sum = 0.0\n",
    "    for h in history_items:\n",
    "        score_sum += i2i_map.get(h, {}).get(candidate_item, 0.0)\n",
    "    return score_sum"
   ]
  },
  {
   "cell_type": "code",
   "execution_count": 11,
   "id": "ca48f692-9ee0-49ba-8a3b-26572a9be4f5",
   "metadata": {},
   "outputs": [],
   "source": [
    "df_eval = df_clickstream.filter(df_clickstream['event_date']> treshold)[['cookie', 'node', 'event']]\n",
    "df_eval = df_eval.join(df_train, on=['cookie', 'node'], how='anti')\n",
    "df_eval = df_eval.filter(\n",
    "    pl.col('event').is_in(\n",
    "        df_event.filter(pl.col('is_contact')==1)['event'].unique()\n",
    "    )\n",
    ")\n",
    "df_eval = df_eval.filter(\n",
    "        pl.col('cookie').is_in(df_train['cookie'].unique())\n",
    "    ).filter(\n",
    "        pl.col('node').is_in(df_train['node'].unique())\n",
    "    )\n",
    "df_eval = df_eval.unique(['cookie', 'node'])"
   ]
  },
  {
   "cell_type": "code",
   "execution_count": 12,
   "id": "fc7beee4-a2d2-4f33-897c-8cd91762972c",
   "metadata": {},
   "outputs": [
    {
     "data": {
      "text/plain": [
       "0.3907971781291905"
      ]
     },
     "execution_count": 12,
     "metadata": {},
     "output_type": "execute_result"
    }
   ],
   "source": [
    "recall_at(df_eval, user_recs, k=300)"
   ]
  },
  {
   "cell_type": "code",
   "execution_count": 13,
   "id": "b639beca-e030-4f0c-abd0-fd17e70e9042",
   "metadata": {},
   "outputs": [
    {
     "data": {
      "text/plain": [
       "0.1372568479345053"
      ]
     },
     "execution_count": 13,
     "metadata": {},
     "output_type": "execute_result"
    }
   ],
   "source": [
    "recall_at(df_eval, user_recs.filter(pl.col('i2i_rank') <=40), k=40)"
   ]
  },
  {
   "cell_type": "code",
   "execution_count": 14,
   "id": "c8b17846-e189-4f9c-83a3-445a476412b0",
   "metadata": {},
   "outputs": [],
   "source": [
    "# user_recs.select('cookie', 'node', 'i2i_score').write_parquet('retrieval_data/i2i_28d.pq')"
   ]
  },
  {
   "cell_type": "code",
   "execution_count": 15,
   "id": "d3dcecf1-1ca6-43a2-b0fb-dcc4c3065aa2",
   "metadata": {},
   "outputs": [
    {
     "data": {
      "text/html": [
       "<div><style>\n",
       ".dataframe > thead > tr,\n",
       ".dataframe > tbody > tr {\n",
       "  text-align: right;\n",
       "  white-space: pre-wrap;\n",
       "}\n",
       "</style>\n",
       "<small>shape: (35_059_187, 4)</small><table border=\"1\" class=\"dataframe\"><thead><tr><th>cookie</th><th>node</th><th>i2i_score</th><th>i2i_rank</th></tr><tr><td>i64</td><td>u32</td><td>f64</td><td>u64</td></tr></thead><tbody><tr><td>0</td><td>130796</td><td>29.306155</td><td>1</td></tr><tr><td>0</td><td>115704</td><td>24.967123</td><td>2</td></tr><tr><td>0</td><td>116118</td><td>24.283344</td><td>3</td></tr><tr><td>0</td><td>130802</td><td>20.651484</td><td>4</td></tr><tr><td>0</td><td>170538</td><td>19.202336</td><td>5</td></tr><tr><td>&hellip;</td><td>&hellip;</td><td>&hellip;</td><td>&hellip;</td></tr><tr><td>149999</td><td>214199</td><td>4.167754</td><td>296</td></tr><tr><td>149999</td><td>15</td><td>4.143768</td><td>297</td></tr><tr><td>149999</td><td>152033</td><td>4.135192</td><td>298</td></tr><tr><td>149999</td><td>51164</td><td>4.134414</td><td>299</td></tr><tr><td>149999</td><td>153006</td><td>4.125098</td><td>300</td></tr></tbody></table></div>"
      ],
      "text/plain": [
       "shape: (35_059_187, 4)\n",
       "┌────────┬────────┬───────────┬──────────┐\n",
       "│ cookie ┆ node   ┆ i2i_score ┆ i2i_rank │\n",
       "│ ---    ┆ ---    ┆ ---       ┆ ---      │\n",
       "│ i64    ┆ u32    ┆ f64       ┆ u64      │\n",
       "╞════════╪════════╪═══════════╪══════════╡\n",
       "│ 0      ┆ 130796 ┆ 29.306155 ┆ 1        │\n",
       "│ 0      ┆ 115704 ┆ 24.967123 ┆ 2        │\n",
       "│ 0      ┆ 116118 ┆ 24.283344 ┆ 3        │\n",
       "│ 0      ┆ 130802 ┆ 20.651484 ┆ 4        │\n",
       "│ 0      ┆ 170538 ┆ 19.202336 ┆ 5        │\n",
       "│ …      ┆ …      ┆ …         ┆ …        │\n",
       "│ 149999 ┆ 214199 ┆ 4.167754  ┆ 296      │\n",
       "│ 149999 ┆ 15     ┆ 4.143768  ┆ 297      │\n",
       "│ 149999 ┆ 152033 ┆ 4.135192  ┆ 298      │\n",
       "│ 149999 ┆ 51164  ┆ 4.134414  ┆ 299      │\n",
       "│ 149999 ┆ 153006 ┆ 4.125098  ┆ 300      │\n",
       "└────────┴────────┴───────────┴──────────┘"
      ]
     },
     "execution_count": 15,
     "metadata": {},
     "output_type": "execute_result"
    }
   ],
   "source": [
    "user_recs"
   ]
  },
  {
   "cell_type": "code",
   "execution_count": 16,
   "id": "865cf881-ee72-4860-9531-93d5cb755b2d",
   "metadata": {},
   "outputs": [
    {
     "ename": "SyntaxError",
     "evalue": "invalid syntax (2133496677.py, line 1)",
     "output_type": "error",
     "traceback": [
      "\u001b[0;36m  Cell \u001b[0;32mIn[16], line 1\u001b[0;36m\u001b[0m\n\u001b[0;31m    ----\u001b[0m\n\u001b[0m        ^\u001b[0m\n\u001b[0;31mSyntaxError\u001b[0m\u001b[0;31m:\u001b[0m invalid syntax\n"
     ]
    }
   ],
   "source": [
    "----"
   ]
  },
  {
   "cell_type": "code",
   "execution_count": null,
   "id": "128a3607-34e7-4af6-a683-4cb77b9631df",
   "metadata": {},
   "outputs": [],
   "source": [
    "%matplotlib inline\n",
    "import optuna\n",
    "from optuna.visualization import plot_optimization_history, plot_param_importances\n",
    "\n",
    "# Optional: Configure logging to see Optuna messages\n",
    "import logging\n",
    "optuna.logging.set_verbosity(logging.INFO)"
   ]
  },
  {
   "cell_type": "code",
   "execution_count": null,
   "id": "6d55d574-6e4e-4bf2-9477-fa545728a764",
   "metadata": {},
   "outputs": [],
   "source": [
    "def objective(trial):\n",
    "    # Suggest hyperparameters\n",
    "    max_pos_diff = trial.suggest_int('max_pos_diff', 30, 50)\n",
    "    w_pos        = trial.suggest_float('w_pos', 1.0, 5.0)\n",
    "    w_time       = trial.suggest_float('w_time', 1.0, 5.0)\n",
    "    w_recency    = trial.suggest_float('w_recency', 0.0, 2.0)\n",
    "    pop_pow      = 0.365 # trial.suggest_float('pop_pow', 0.01, 0.99)\n",
    "    N_LAST       = trial.suggest_int('N_LAST', 30, 60)\n",
    "    TOPK_USER    = 300  # fixed evaluation cutoff\n",
    "    DECAY_BASE   = trial.suggest_float('DECAY_BASE', 0.8, 1.0)\n",
    "\n",
    "    user_recs = i2i_model(\n",
    "        df_train,\n",
    "        max_pos_diff=max_pos_diff,\n",
    "        w_pos=w_pos,\n",
    "        w_time=w_time,\n",
    "        w_recency=w_recency,\n",
    "        pop_pow=pop_pow,\n",
    "        N_LAST=N_LAST,\n",
    "        TOPK_USER=TOPK_USER,\n",
    "        DECAY_BASE=DECAY_BASE\n",
    "    )\n",
    "\n",
    "    return recall_at(df_eval, user_recs, k=TOPK_USER)"
   ]
  },
  {
   "cell_type": "code",
   "execution_count": null,
   "id": "a07011d2-5744-4274-9e7a-3b4c5d27c721",
   "metadata": {},
   "outputs": [],
   "source": [
    "study = optuna.create_study(direction='maximize')\n",
    "\n",
    "def print_callback(study, trial):\n",
    "    print(f\"Trial {trial.number}: Value={trial.value:.5f}, Params={trial.params}\")\n",
    "\n",
    "study.optimize(\n",
    "    objective,\n",
    "    n_trials=50,\n",
    "    callbacks=[print_callback],\n",
    "    show_progress_bar=True  # requires Optuna >= 3.1.0\n",
    ")"
   ]
  },
  {
   "cell_type": "code",
   "execution_count": null,
   "id": "2685333f-4bb3-4bba-b366-c9021004963f",
   "metadata": {},
   "outputs": [],
   "source": [
    "print(f\"Number of finished trials: {len(study.trials)}\")\n",
    "print(f\"Best recall: {study.best_value:.5f}\")\n",
    "print(\"Best parameters:\")\n",
    "for key, val in study.best_params.items():\n",
    "    print(f\"- {key}: {val}\")\n",
    "\n",
    "# Plot optimization history\n",
    "plot_optimization_history(study)"
   ]
  },
  {
   "cell_type": "code",
   "execution_count": null,
   "id": "e8b8a2a3-551b-4bf1-8768-4816ca714daa",
   "metadata": {},
   "outputs": [],
   "source": [
    "plot_param_importances(study)"
   ]
  },
  {
   "cell_type": "code",
   "execution_count": null,
   "id": "227813ad-4b2b-41b7-ae32-edf95ac79073",
   "metadata": {},
   "outputs": [],
   "source": [
    "Number of finished trials: 100\n",
    "Best recall: 0.37856\n",
    "Best parameters:\n",
    "- max_pos_diff: 45\n",
    "- w_pos: 1.718759727352264\n",
    "- w_time: 2.3933322742952314\n",
    "- w_recency: 0.39059527613202566\n",
    "- pop_pow: 0.36497800607640746\n",
    "- N_LAST: 59\n",
    "- DECAY_BASE: 0.9750338237166386"
   ]
  },
  {
   "cell_type": "code",
   "execution_count": null,
   "id": "ed5f173e-2ffd-483d-82e6-40d7a9c42c94",
   "metadata": {},
   "outputs": [],
   "source": []
  }
 ],
 "metadata": {
  "kernelspec": {
   "display_name": "Python (env310)",
   "language": "python",
   "name": "env310"
  },
  "language_info": {
   "codemirror_mode": {
    "name": "ipython",
    "version": 3
   },
   "file_extension": ".py",
   "mimetype": "text/x-python",
   "name": "python",
   "nbconvert_exporter": "python",
   "pygments_lexer": "ipython3",
   "version": "3.10.13"
  }
 },
 "nbformat": 4,
 "nbformat_minor": 5
}
