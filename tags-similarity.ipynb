{
 "cells": [
  {
   "cell_type": "code",
   "execution_count": 1,
   "id": "40596a66-be03-4663-ab5c-c26bf43442a1",
   "metadata": {},
   "outputs": [],
   "source": [
    "%load_ext autoreload\n",
    "%autoreload 2"
   ]
  },
  {
   "cell_type": "code",
   "execution_count": 2,
   "id": "7c674a71-6021-44ed-b215-9ae1c1b93faa",
   "metadata": {},
   "outputs": [],
   "source": [
    "import numpy as np\n",
    "import pandas as pd\n",
    "from sklearn.preprocessing import LabelEncoder\n",
    "from collections import Counter\n",
    "import random\n",
    "import json\n",
    "import mmh3\n",
    "import polars as pl\n",
    "import tqdm\n",
    "from datetime import timedelta\n",
    "\n",
    "from utils import create_features, recall_at, fit_lgb_ranker"
   ]
  },
  {
   "cell_type": "code",
   "execution_count": 3,
   "id": "e3b7e808-5595-4183-a469-f3e52e4f3b2d",
   "metadata": {},
   "outputs": [],
   "source": [
    "MIN_FREQ   = 100\n",
    "HASH_SPACE = 2 ** 24\n",
    "SEED_1, SEED_2 = 42, 4242 "
   ]
  },
  {
   "cell_type": "code",
   "execution_count": 4,
   "id": "14cf6f6d-20a8-410d-b953-60991acfd618",
   "metadata": {},
   "outputs": [],
   "source": [
    "df_clickstream = pl.read_parquet(f'clickstream.pq')\n",
    "df_event = pl.read_parquet(f'events.pq')\n",
    "df_cat = pl.read_parquet(f'cat_features.pq')"
   ]
  },
  {
   "cell_type": "code",
   "execution_count": 5,
   "id": "9e66b32d-50c7-4116-b0dd-1d69093591c8",
   "metadata": {},
   "outputs": [],
   "source": [
    "def compute_freq_dict(cat_features: pl.DataFrame) -> dict[str, int]:\n",
    "    cnt = Counter()\n",
    "    for clean_params in cat_features[\"clean_params\"]:\n",
    "        pairs = json.loads(clean_params) if isinstance(clean_params, str) else clean_params\n",
    "        for pair in pairs:\n",
    "            token = f\"{pair['attr']}_{pair['value']}\"\n",
    "            cnt[token] += 1\n",
    "    return dict(cnt)"
   ]
  },
  {
   "cell_type": "code",
   "execution_count": 6,
   "id": "a7c9b3f6-8c1e-4478-adc2-25ff74bd9388",
   "metadata": {},
   "outputs": [],
   "source": [
    "MIN_FREQ = 100 \n",
    "HASH_SPACE = 2 ** 26\n",
    "SEED = 42\n",
    "\n",
    "def encode_from_polars(cat_features: pl.DataFrame,\n",
    "                       freq_dict: dict[int, int],\n",
    "                       min_freq: int = MIN_FREQ,\n",
    "                       hash_space: int = HASH_SPACE,\n",
    "                       seed: int = SEED) -> pl.DataFrame:\n",
    "    def _encode(cell):\n",
    "        # если у вас строка — распарсим, иначе предполагаем list[dict]\n",
    "        pairs = json.loads(cell) if isinstance(cell, str) else cell\n",
    "        feats = []\n",
    "        for pair in pairs:\n",
    "            token = f\"{pair['attr']}_{pair['value']}\"\n",
    "            if freq_dict.get(token, 0) < min_freq:\n",
    "                token = f\"{pair['attr']}_<rare>\"\n",
    "            idx = mmh3.hash(token, seed=seed, signed=False) % hash_space\n",
    "            feats.append(idx)\n",
    "        return feats\n",
    "\n",
    "    all_feats: List[List[int]] = [\n",
    "        _encode(cell) for cell in cat_features[\"clean_params\"]\n",
    "    ]\n",
    "\n",
    "    return cat_features.with_columns(\n",
    "        pl.Series(\"feature_indices\", all_feats)\n",
    "    )"
   ]
  },
  {
   "cell_type": "code",
   "execution_count": 7,
   "id": "49516b97-ba2f-46ae-89ec-65f2c6951d25",
   "metadata": {},
   "outputs": [],
   "source": [
    "freq = compute_freq_dict(df_cat)\n",
    "df_cat = encode_from_polars(df_cat, freq)"
   ]
  },
  {
   "cell_type": "code",
   "execution_count": 9,
   "id": "d70afb66-736e-4c78-b62f-7514c46c6829",
   "metadata": {},
   "outputs": [
    {
     "data": {
      "text/html": [
       "<div><style>\n",
       ".dataframe > thead > tr,\n",
       ".dataframe > tbody > tr {\n",
       "  text-align: right;\n",
       "  white-space: pre-wrap;\n",
       "}\n",
       "</style>\n",
       "<small>shape: (22_646_691, 6)</small><table border=\"1\" class=\"dataframe\"><thead><tr><th>item</th><th>location</th><th>category</th><th>clean_params</th><th>node</th><th>feature_indices</th></tr><tr><td>i64</td><td>i64</td><td>i64</td><td>str</td><td>u32</td><td>list[i64]</td></tr></thead><tbody><tr><td>9</td><td>8385</td><td>57</td><td>&quot;[{&quot;attr&quot;:1157,&quot;value&quot;:664427},…</td><td>194747</td><td>[28843275, 33056286, … 50379062]</td></tr><tr><td>17</td><td>2707</td><td>35</td><td>&quot;[{&quot;attr&quot;:2140,&quot;value&quot;:501466},…</td><td>352905</td><td>[27664982, 61839137, … 34977399]</td></tr><tr><td>144</td><td>8383</td><td>8</td><td>&quot;[{&quot;attr&quot;:802,&quot;value&quot;:35791},{&quot;…</td><td>17188</td><td>[42572211, 21570473, … 16526367]</td></tr><tr><td>202</td><td>5397</td><td>57</td><td>&quot;[{&quot;attr&quot;:1157,&quot;value&quot;:490527},…</td><td>194766</td><td>[28287716, 33056286, … 8568387]</td></tr><tr><td>236</td><td>2105</td><td>64</td><td>&quot;[{&quot;attr&quot;:112,&quot;value&quot;:420797},{…</td><td>153951</td><td>[58011343, 36285982, … 9340551]</td></tr><tr><td>&hellip;</td><td>&hellip;</td><td>&hellip;</td><td>&hellip;</td><td>&hellip;</td><td>&hellip;</td></tr><tr><td>28804461</td><td>24</td><td>35</td><td>&quot;[{&quot;attr&quot;:2140,&quot;value&quot;:364348},…</td><td>326792</td><td>[22119012, 61839137, … 56057636]</td></tr><tr><td>28804502</td><td>2305</td><td>51</td><td>&quot;[{&quot;attr&quot;:4622,&quot;value&quot;:171723},…</td><td>401208</td><td>[53453426, 32017410, … 32138271]</td></tr><tr><td>28804563</td><td>2348</td><td>0</td><td>&quot;[{&quot;attr&quot;:914,&quot;value&quot;:93691},{&quot;…</td><td>13974</td><td>[18365451, 47222697, … 45025104]</td></tr><tr><td>28804609</td><td>2348</td><td>51</td><td>&quot;[{&quot;attr&quot;:4622,&quot;value&quot;:618809},…</td><td>258971</td><td>[15682499, 63491461, … 36718239]</td></tr><tr><td>28804620</td><td>2678</td><td>7</td><td>&quot;[{&quot;attr&quot;:4345,&quot;value&quot;:11210},{…</td><td>71511</td><td>[19307588, 12562221, … 57614090]</td></tr></tbody></table></div>"
      ],
      "text/plain": [
       "shape: (22_646_691, 6)\n",
       "┌──────────┬──────────┬──────────┬───────────────────────────────┬────────┬────────────────────────┐\n",
       "│ item     ┆ location ┆ category ┆ clean_params                  ┆ node   ┆ feature_indices        │\n",
       "│ ---      ┆ ---      ┆ ---      ┆ ---                           ┆ ---    ┆ ---                    │\n",
       "│ i64      ┆ i64      ┆ i64      ┆ str                           ┆ u32    ┆ list[i64]              │\n",
       "╞══════════╪══════════╪══════════╪═══════════════════════════════╪════════╪════════════════════════╡\n",
       "│ 9        ┆ 8385     ┆ 57       ┆ [{\"attr\":1157,\"value\":664427} ┆ 194747 ┆ [28843275, 33056286, … │\n",
       "│          ┆          ┆          ┆ ,…                            ┆        ┆ 5037906…               │\n",
       "│ 17       ┆ 2707     ┆ 35       ┆ [{\"attr\":2140,\"value\":501466} ┆ 352905 ┆ [27664982, 61839137, … │\n",
       "│          ┆          ┆          ┆ ,…                            ┆        ┆ 3497739…               │\n",
       "│ 144      ┆ 8383     ┆ 8        ┆ [{\"attr\":802,\"value\":35791},{ ┆ 17188  ┆ [42572211, 21570473, … │\n",
       "│          ┆          ┆          ┆ \"…                            ┆        ┆ 1652636…               │\n",
       "│ 202      ┆ 5397     ┆ 57       ┆ [{\"attr\":1157,\"value\":490527} ┆ 194766 ┆ [28287716, 33056286, … │\n",
       "│          ┆          ┆          ┆ ,…                            ┆        ┆ 8568387…               │\n",
       "│ 236      ┆ 2105     ┆ 64       ┆ [{\"attr\":112,\"value\":420797}, ┆ 153951 ┆ [58011343, 36285982, … │\n",
       "│          ┆          ┆          ┆ {…                            ┆        ┆ 9340551…               │\n",
       "│ …        ┆ …        ┆ …        ┆ …                             ┆ …      ┆ …                      │\n",
       "│ 28804461 ┆ 24       ┆ 35       ┆ [{\"attr\":2140,\"value\":364348} ┆ 326792 ┆ [22119012, 61839137, … │\n",
       "│          ┆          ┆          ┆ ,…                            ┆        ┆ 5605763…               │\n",
       "│ 28804502 ┆ 2305     ┆ 51       ┆ [{\"attr\":4622,\"value\":171723} ┆ 401208 ┆ [53453426, 32017410, … │\n",
       "│          ┆          ┆          ┆ ,…                            ┆        ┆ 3213827…               │\n",
       "│ 28804563 ┆ 2348     ┆ 0        ┆ [{\"attr\":914,\"value\":93691},{ ┆ 13974  ┆ [18365451, 47222697, … │\n",
       "│          ┆          ┆          ┆ \"…                            ┆        ┆ 4502510…               │\n",
       "│ 28804609 ┆ 2348     ┆ 51       ┆ [{\"attr\":4622,\"value\":618809} ┆ 258971 ┆ [15682499, 63491461, … │\n",
       "│          ┆          ┆          ┆ ,…                            ┆        ┆ 3671823…               │\n",
       "│ 28804620 ┆ 2678     ┆ 7        ┆ [{\"attr\":4345,\"value\":11210}, ┆ 71511  ┆ [19307588, 12562221, … │\n",
       "│          ┆          ┆          ┆ {…                            ┆        ┆ 5761409…               │\n",
       "└──────────┴──────────┴──────────┴───────────────────────────────┴────────┴────────────────────────┘"
      ]
     },
     "execution_count": 9,
     "metadata": {},
     "output_type": "execute_result"
    }
   ],
   "source": [
    "df_cat"
   ]
  },
  {
   "cell_type": "code",
   "execution_count": 10,
   "id": "6a9a18f1-6275-4f2a-b9fe-825ee9b3d7c8",
   "metadata": {},
   "outputs": [],
   "source": [
    "cut = df_clickstream[\"event_date\"].max() - timedelta(days=28)\n",
    "df_train = (df_clickstream\n",
    "            .filter(pl.col(\"event_date\") <= cut)\n",
    "            .group_by([\"item\",\"cookie\"])\n",
    "            .agg([])\n",
    "            .join(df_cat.select([\"item\",\"node\",\"feature_indices\"]), on=\"item\"))"
   ]
  },
  {
   "cell_type": "code",
   "execution_count": 11,
   "id": "c0dccdd8-b0ea-4d7f-9780-ab93e66dc32f",
   "metadata": {},
   "outputs": [
    {
     "name": "stderr",
     "output_type": "stream",
     "text": [
      "/tmp/ipykernel_702868/2247647888.py:5: DeprecationWarning: `pl.count()` is deprecated. Please use `pl.len()` instead.\n",
      "  .agg(pl.count().alias(\"tf\")))\n",
      "/tmp/ipykernel_702868/2247647888.py:6: DeprecationWarning: `pl.count()` is deprecated. Please use `pl.len()` instead.\n",
      "  totals = df.group_by(key).agg(pl.count().alias(\"n_items\"))\n"
     ]
    }
   ],
   "source": [
    "def _build_emb(df: pl.DataFrame, key: str) -> pl.DataFrame:\n",
    "    base = (df.select([key, \"feature_indices\"])\n",
    "              .explode(\"feature_indices\")\n",
    "              .group_by([key,\"feature_indices\"])\n",
    "              .agg(pl.count().alias(\"tf\")))\n",
    "    totals = df.group_by(key).agg(pl.count().alias(\"n_items\"))\n",
    "    return (base.join(totals, on=key)\n",
    "                 .with_columns((pl.col(\"tf\")/pl.col(\"n_items\")).alias(\"val\"))\n",
    "                 .select([key,\"feature_indices\",\"val\"]))\n",
    "\n",
    "cookie_emb = _build_emb(df_train, \"cookie\")\n",
    "node_emb   = _build_emb(df_cat, \"node\")"
   ]
  },
  {
   "cell_type": "code",
   "execution_count": 12,
   "id": "7a1f5ce0-0c15-416c-9b9f-985ffbaf1181",
   "metadata": {
    "scrolled": true
   },
   "outputs": [],
   "source": [
    "cookie_norm = cookie_emb.group_by(\"cookie\").agg(\n",
    "    (pl.col(\"val\").pow(2).sum().sqrt()).alias(\"norm\")\n",
    ")\n",
    "node_norm = node_emb.group_by(\"node\").agg(\n",
    "    (pl.col(\"val\").pow(2).sum().sqrt()).alias(\"norm\")\n",
    ")"
   ]
  },
  {
   "cell_type": "code",
   "execution_count": 13,
   "id": "ad504e5a-7581-4993-a481-502c37ab65b3",
   "metadata": {},
   "outputs": [],
   "source": [
    "node_by_feat = (node_emb\n",
    "                .group_by(\"feature_indices\")\n",
    "                .agg(pl.struct([\"node\",\"val\"]).alias(\"blob\"))\n",
    "                .lazy())\n",
    "\n",
    "def score_batch(batch):\n",
    "    return (cookie_emb.lazy()\n",
    "            .filter(pl.col(\"cookie\").is_in(batch))\n",
    "            .join(node_by_feat, on=\"feature_indices\")\n",
    "            .explode(\"blob\")\n",
    "            .select([\n",
    "                 \"cookie\",\n",
    "                 pl.col(\"blob\").struct.field(\"node\").alias(\"node\"),\n",
    "                 (pl.col(\"val\") * pl.col(\"blob\").struct.field(\"val\")).alias(\"prod\")\n",
    "            ])\n",
    "            .group_by([\"cookie\",\"node\"]).agg(pl.sum(\"prod\").alias(\"dot\"))\n",
    "            .join(cookie_norm.lazy(), on=\"cookie\")\n",
    "            .join(node_norm.lazy(),   on=\"node\")\n",
    "            .with_columns((pl.col(\"dot\")/(pl.col(\"norm\")*pl.col(\"norm_right\"))).alias(\"score\"))\n",
    "            .sort([\"cookie\",\"score\"], descending=True)\n",
    "            .group_by(\"cookie\")\n",
    "            .agg(pl.col(\"node\").head(300), pl.col(\"score\").head(300))\n",
    "            .explode([\"node\",\"score\"])\n",
    "            .collect(streaming=True))"
   ]
  },
  {
   "cell_type": "code",
   "execution_count": 19,
   "id": "05b75965-9413-47d2-97f1-94252186cb7b",
   "metadata": {},
   "outputs": [
    {
     "name": "stderr",
     "output_type": "stream",
     "text": [
      "/tmp/ipykernel_702868/1738671901.py:7: DeprecationWarning: The argument `streaming` is deprecated and is being replaced by the `engine` argument.\n",
      "  return (cookie_emb.lazy()\n",
      "/tmp/ipykernel_702868/1738671901.py:7: DeprecationWarning: The old streaming engine is being deprecated and will soon be replaced by the new streaming engine. Starting Polars version 1.23.0 and until the new streaming engine is released, the old streaming engine may become less usable. For people who rely on the old streaming engine, it is suggested to pin your version to before 1.23.0.\n",
      "\n",
      "More information on the new streaming engine: https://github.com/pola-rs/polars/issues/20947\n",
      "  return (cookie_emb.lazy()\n"
     ]
    }
   ],
   "source": [
    "cookies = cookie_emb.select(\"cookie\").unique().to_series()\n",
    "BATCH = 3_000\n",
    "recommendations = pl.concat([score_batch(cookies[i:i+BATCH]) for i in range(0,len(cookies),BATCH)])"
   ]
  },
  {
   "cell_type": "code",
   "execution_count": 20,
   "id": "93c4b17e-3736-49bd-bb9c-fb7343751c9d",
   "metadata": {},
   "outputs": [
    {
     "data": {
      "text/html": [
       "<div><style>\n",
       ".dataframe > thead > tr,\n",
       ".dataframe > tbody > tr {\n",
       "  text-align: right;\n",
       "  white-space: pre-wrap;\n",
       "}\n",
       "</style>\n",
       "<small>shape: (34_552_226, 3)</small><table border=\"1\" class=\"dataframe\"><thead><tr><th>cookie</th><th>node</th><th>score</th></tr><tr><td>i64</td><td>u32</td><td>f64</td></tr></thead><tbody><tr><td>149975</td><td>232276</td><td>0.889045</td></tr><tr><td>149975</td><td>232262</td><td>0.878304</td></tr><tr><td>149975</td><td>234870</td><td>0.878121</td></tr><tr><td>149975</td><td>232260</td><td>0.876172</td></tr><tr><td>149975</td><td>241906</td><td>0.867977</td></tr><tr><td>&hellip;</td><td>&hellip;</td><td>&hellip;</td></tr><tr><td>128</td><td>152118</td><td>0.577923</td></tr><tr><td>128</td><td>151950</td><td>0.577413</td></tr><tr><td>128</td><td>152671</td><td>0.576844</td></tr><tr><td>128</td><td>152096</td><td>0.575274</td></tr><tr><td>128</td><td>153106</td><td>0.575174</td></tr></tbody></table></div>"
      ],
      "text/plain": [
       "shape: (34_552_226, 3)\n",
       "┌────────┬────────┬──────────┐\n",
       "│ cookie ┆ node   ┆ score    │\n",
       "│ ---    ┆ ---    ┆ ---      │\n",
       "│ i64    ┆ u32    ┆ f64      │\n",
       "╞════════╪════════╪══════════╡\n",
       "│ 149975 ┆ 232276 ┆ 0.889045 │\n",
       "│ 149975 ┆ 232262 ┆ 0.878304 │\n",
       "│ 149975 ┆ 234870 ┆ 0.878121 │\n",
       "│ 149975 ┆ 232260 ┆ 0.876172 │\n",
       "│ 149975 ┆ 241906 ┆ 0.867977 │\n",
       "│ …      ┆ …      ┆ …        │\n",
       "│ 128    ┆ 152118 ┆ 0.577923 │\n",
       "│ 128    ┆ 151950 ┆ 0.577413 │\n",
       "│ 128    ┆ 152671 ┆ 0.576844 │\n",
       "│ 128    ┆ 152096 ┆ 0.575274 │\n",
       "│ 128    ┆ 153106 ┆ 0.575174 │\n",
       "└────────┴────────┴──────────┘"
      ]
     },
     "execution_count": 20,
     "metadata": {},
     "output_type": "execute_result"
    }
   ],
   "source": [
    "recommendations"
   ]
  },
  {
   "cell_type": "code",
   "execution_count": 21,
   "id": "7c010ef7-0318-4f20-b2f0-3759ff20da45",
   "metadata": {},
   "outputs": [],
   "source": [
    "recommendations.write_parquet('retrieval_data/top300_tag_cosine1_28d.pq')"
   ]
  },
  {
   "cell_type": "code",
   "execution_count": 22,
   "id": "e3a92fe4-1733-47d1-b7c4-339716bc4895",
   "metadata": {},
   "outputs": [],
   "source": [
    "df_eval = df_clickstream.filter(df_clickstream['event_date']> cut)[['cookie', 'node', 'event']]\n",
    "df_eval = df_eval.join(df_train, on=['cookie', 'node'], how='anti')\n",
    "df_eval = df_eval.filter(\n",
    "    pl.col('event').is_in(\n",
    "        df_event.filter(pl.col('is_contact')==1)['event'].unique()\n",
    "    )\n",
    ")\n",
    "df_eval = df_eval.filter(\n",
    "        pl.col('cookie').is_in(df_train['cookie'].unique())\n",
    "    ).filter(\n",
    "        pl.col('node').is_in(df_train['node'].unique())\n",
    "    )\n",
    "df_eval = df_eval.unique(['cookie', 'node'])"
   ]
  },
  {
   "cell_type": "code",
   "execution_count": 23,
   "id": "7b53d2f3-c147-444c-b626-a8dec6d1f3c7",
   "metadata": {},
   "outputs": [
    {
     "data": {
      "text/plain": [
       "0.09225898865980968"
      ]
     },
     "execution_count": 23,
     "metadata": {},
     "output_type": "execute_result"
    }
   ],
   "source": [
    "recall_at(df_eval, recommendations, k=300)"
   ]
  },
  {
   "cell_type": "code",
   "execution_count": 24,
   "id": "580273f5-ef32-4999-b168-84df40bc2f4c",
   "metadata": {},
   "outputs": [],
   "source": [
    "node_by_feat.collect().write_parquet('retrieval_data/tag_cosine_node_28d.pq')\n",
    "cookie_emb.write_parquet('retrieval_data/tag_cosine_cookie_28d.pq')"
   ]
  },
  {
   "cell_type": "code",
   "execution_count": null,
   "id": "54e5e080-ed6b-427f-a819-5550cbfd59a0",
   "metadata": {},
   "outputs": [],
   "source": []
  }
 ],
 "metadata": {
  "kernelspec": {
   "display_name": "Python (env310)",
   "language": "python",
   "name": "env310"
  },
  "language_info": {
   "codemirror_mode": {
    "name": "ipython",
    "version": 3
   },
   "file_extension": ".py",
   "mimetype": "text/x-python",
   "name": "python",
   "nbconvert_exporter": "python",
   "pygments_lexer": "ipython3",
   "version": "3.10.13"
  }
 },
 "nbformat": 4,
 "nbformat_minor": 5
}
